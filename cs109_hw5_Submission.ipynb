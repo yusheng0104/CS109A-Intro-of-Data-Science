{
 "cells": [
  {
   "cell_type": "markdown",
   "metadata": {},
   "source": [
    "# <img style=\"float: left; padding-right: 10px; width: 45px\" src=\"iacs.png\"> S-109A Introduction to Data Science: \n",
    "\n",
    "## Homework 5: Logistic Regression, High Dimensionality and PCA, LDA/QDA\n",
    "\n",
    "\n",
    "**Harvard University**<br/>\n",
    "**Summer 2018**<br/>\n",
    "**Instructors**: Pavlos Protopapas, Kevin Rader\n",
    "\n",
    "<hr style=\"height:2pt\">\n",
    "\n"
   ]
  },
  {
   "cell_type": "markdown",
   "metadata": {},
   "source": [
    "### INSTRUCTIONS\n",
    "\n",
    "- To submit your assignment follow the instructions given in canvas.\n",
    "- Restart the kernel and run the whole notebook again before you submit. \n",
    "- If you submit individually and you have worked with someone, please include the name of your [one] partner below. \n",
    "\n",
    "Names of people you have worked with goes here: "
   ]
  },
  {
   "cell_type": "markdown",
   "metadata": {},
   "source": [
    "<hr style=\"height:2pt\">"
   ]
  },
  {
   "cell_type": "code",
   "execution_count": 1,
   "metadata": {},
   "outputs": [],
   "source": [
    "import numpy as np\n",
    "import pandas as pd\n",
    "\n",
    "import statsmodels.api as sm\n",
    "from statsmodels.api import OLS\n",
    "\n",
    "from sklearn.decomposition import PCA\n",
    "from sklearn.linear_model import LogisticRegression\n",
    "from sklearn.linear_model import LogisticRegressionCV\n",
    "from sklearn.discriminant_analysis import LinearDiscriminantAnalysis\n",
    "from sklearn.discriminant_analysis import QuadraticDiscriminantAnalysis\n",
    "from sklearn.preprocessing import PolynomialFeatures\n",
    "from sklearn.neighbors import KNeighborsClassifier\n",
    "from sklearn.model_selection import cross_val_score\n",
    "from sklearn.metrics import accuracy_score\n",
    "from sklearn.model_selection import KFold\n",
    "\n",
    "import math\n",
    "from scipy.special import gamma\n",
    "\n",
    "import matplotlib\n",
    "import matplotlib.pyplot as plt\n",
    "%matplotlib inline\n",
    "\n",
    "import seaborn as sns\n",
    "sns.set()\n",
    "\n",
    "alpha = 0.5"
   ]
  },
  {
   "cell_type": "markdown",
   "metadata": {},
   "source": [
    "## Cancer Classification from Gene Expressions\n",
    "\n",
    "In this problem, we will build a classification model to distinguish between two related classes of cancer, acute lymphoblastic leukemia (ALL) and acute myeloid leukemia (AML), using gene expression measurements. The data set is provided in the file `dataset_hw5_1.csv`. Each row in this file corresponds to a tumor tissue sample from a patient with one of the two forms of Leukemia. The first column contains the cancer type, with 0 indicating the ALL class and 1 indicating the AML class. Columns 2-7130 contain expression levels of 7129 genes recorded from each tissue sample. \n",
    "\n",
    "In the following questions, we will use linear and logistic regression to build a classification models for this data set. We will also use Principal Components Analysis (PCA) to visualize the data and to reduce its dimensions. \n",
    "\n"
   ]
  },
  {
   "cell_type": "markdown",
   "metadata": {},
   "source": [
    "## Question 1: Data Exploration\n",
    "\n",
    "1. First step is to  split  the observations into an approximate 50-50 train-test split.  Below is some code to do this for you (we want to make sure everyone has the same splits).\n",
    "\n",
    "2. Take a peek at your training set: you should notice the severe differences in the measurements from one gene to the next (some are negative, some hover around zero, and some are well into the thousands).  To account for these differences in scale and variability, normalize each predictor to vary between 0 and 1.\n",
    "\n",
    "3. Notice that the results training set contains more predictors than observations. Do you foresee a problem in fitting a classification model to such a data set?\n",
    "\n",
    "4. Lets explore a few of the genes and see how well they discriminate between cancer classes. Create a single figure with four subplots arranged in a 2x2 grid. Consider the following four genes: `D29963_at`, `M23161_at`, `hum_alu_at`, and `AFFX-PheX-5_at`. For each gene overlay two histograms of the gene expression values on one of the subplots, one histogram for each cancer type. Does it appear that any of these genes discriminate between the two classes well? How are you able to tell?\n",
    "\n",
    "5. Since our data has dimensions that are not easily visualizable, we want to reduce the dimensionality of the data to make it easier to visualize. Using PCA, find the top two principal components for the gene expression data. Generate a scatter plot using these principal components, highlighting the two cancer types in different colors. How well do the top two principal components discriminate between the two classes? How much of the variance within the data do these two principal components explain?"
   ]
  },
  {
   "cell_type": "markdown",
   "metadata": {},
   "source": [
    "#### Answers:\n",
    "**1.1:** First step is to split the observations into an approximate 50-50 train-test split. Below is some code to do this for you (we want to make sure everyone has the same splits)."
   ]
  },
  {
   "cell_type": "code",
   "execution_count": 2,
   "metadata": {},
   "outputs": [],
   "source": [
    "np.random.seed(9002)\n",
    "df = pd.read_csv('data/dataset_hw5_1.csv')\n",
    "msk = np.random.rand(len(df)) < 0.5\n",
    "data_train = df[msk]\n",
    "data_test = df[~msk]"
   ]
  },
  {
   "cell_type": "markdown",
   "metadata": {},
   "source": [
    "**1.2:** Take a peek at your training set: you should notice the severe differences in the measurements from one gene to the next (some are negative, some hover around zero, and some are well into the thousands).  To account for these differences in scale and variability, normalize each predictor to vary between 0 and 1.\n"
   ]
  },
  {
   "cell_type": "code",
   "execution_count": 3,
   "metadata": {
    "scrolled": true
   },
   "outputs": [
    {
     "data": {
      "text/html": [
       "<div>\n",
       "<style scoped>\n",
       "    .dataframe tbody tr th:only-of-type {\n",
       "        vertical-align: middle;\n",
       "    }\n",
       "\n",
       "    .dataframe tbody tr th {\n",
       "        vertical-align: top;\n",
       "    }\n",
       "\n",
       "    .dataframe thead th {\n",
       "        text-align: right;\n",
       "    }\n",
       "</style>\n",
       "<table border=\"1\" class=\"dataframe\">\n",
       "  <thead>\n",
       "    <tr style=\"text-align: right;\">\n",
       "      <th></th>\n",
       "      <th>Cancer_type</th>\n",
       "      <th>AFFX-BioB-5_at</th>\n",
       "      <th>AFFX-BioB-M_at</th>\n",
       "      <th>AFFX-BioB-3_at</th>\n",
       "      <th>AFFX-BioC-5_at</th>\n",
       "      <th>AFFX-BioC-3_at</th>\n",
       "      <th>AFFX-BioDn-5_at</th>\n",
       "      <th>AFFX-BioDn-3_at</th>\n",
       "      <th>AFFX-CreX-5_at</th>\n",
       "      <th>AFFX-CreX-3_at</th>\n",
       "      <th>...</th>\n",
       "      <th>U48730_at</th>\n",
       "      <th>U58516_at</th>\n",
       "      <th>U73738_at</th>\n",
       "      <th>X06956_at</th>\n",
       "      <th>X16699_at</th>\n",
       "      <th>X83863_at</th>\n",
       "      <th>Z17240_at</th>\n",
       "      <th>L49218_f_at</th>\n",
       "      <th>M71243_f_at</th>\n",
       "      <th>Z78285_f_at</th>\n",
       "    </tr>\n",
       "  </thead>\n",
       "  <tbody>\n",
       "    <tr>\n",
       "      <th>0</th>\n",
       "      <td>0</td>\n",
       "      <td>-214</td>\n",
       "      <td>-153</td>\n",
       "      <td>-58</td>\n",
       "      <td>88</td>\n",
       "      <td>-295</td>\n",
       "      <td>-558</td>\n",
       "      <td>199</td>\n",
       "      <td>-176</td>\n",
       "      <td>252</td>\n",
       "      <td>...</td>\n",
       "      <td>185</td>\n",
       "      <td>511</td>\n",
       "      <td>-125</td>\n",
       "      <td>389</td>\n",
       "      <td>-37</td>\n",
       "      <td>793</td>\n",
       "      <td>329</td>\n",
       "      <td>36</td>\n",
       "      <td>191</td>\n",
       "      <td>-37</td>\n",
       "    </tr>\n",
       "    <tr>\n",
       "      <th>2</th>\n",
       "      <td>0</td>\n",
       "      <td>-106</td>\n",
       "      <td>-125</td>\n",
       "      <td>-76</td>\n",
       "      <td>168</td>\n",
       "      <td>-230</td>\n",
       "      <td>-284</td>\n",
       "      <td>4</td>\n",
       "      <td>-122</td>\n",
       "      <td>70</td>\n",
       "      <td>...</td>\n",
       "      <td>156</td>\n",
       "      <td>649</td>\n",
       "      <td>57</td>\n",
       "      <td>504</td>\n",
       "      <td>-26</td>\n",
       "      <td>250</td>\n",
       "      <td>314</td>\n",
       "      <td>14</td>\n",
       "      <td>56</td>\n",
       "      <td>-25</td>\n",
       "    </tr>\n",
       "    <tr>\n",
       "      <th>5</th>\n",
       "      <td>0</td>\n",
       "      <td>-67</td>\n",
       "      <td>-93</td>\n",
       "      <td>84</td>\n",
       "      <td>25</td>\n",
       "      <td>-179</td>\n",
       "      <td>-323</td>\n",
       "      <td>-135</td>\n",
       "      <td>-127</td>\n",
       "      <td>-2</td>\n",
       "      <td>...</td>\n",
       "      <td>48</td>\n",
       "      <td>224</td>\n",
       "      <td>60</td>\n",
       "      <td>194</td>\n",
       "      <td>-10</td>\n",
       "      <td>291</td>\n",
       "      <td>41</td>\n",
       "      <td>8</td>\n",
       "      <td>-2</td>\n",
       "      <td>-80</td>\n",
       "    </tr>\n",
       "    <tr>\n",
       "      <th>9</th>\n",
       "      <td>0</td>\n",
       "      <td>-476</td>\n",
       "      <td>-213</td>\n",
       "      <td>-18</td>\n",
       "      <td>301</td>\n",
       "      <td>-403</td>\n",
       "      <td>-394</td>\n",
       "      <td>-42</td>\n",
       "      <td>-144</td>\n",
       "      <td>98</td>\n",
       "      <td>...</td>\n",
       "      <td>241</td>\n",
       "      <td>1214</td>\n",
       "      <td>127</td>\n",
       "      <td>255</td>\n",
       "      <td>50</td>\n",
       "      <td>1701</td>\n",
       "      <td>1108</td>\n",
       "      <td>61</td>\n",
       "      <td>525</td>\n",
       "      <td>-83</td>\n",
       "    </tr>\n",
       "    <tr>\n",
       "      <th>10</th>\n",
       "      <td>0</td>\n",
       "      <td>-81</td>\n",
       "      <td>-150</td>\n",
       "      <td>-119</td>\n",
       "      <td>78</td>\n",
       "      <td>-152</td>\n",
       "      <td>-340</td>\n",
       "      <td>-36</td>\n",
       "      <td>-141</td>\n",
       "      <td>96</td>\n",
       "      <td>...</td>\n",
       "      <td>186</td>\n",
       "      <td>573</td>\n",
       "      <td>-57</td>\n",
       "      <td>694</td>\n",
       "      <td>-19</td>\n",
       "      <td>636</td>\n",
       "      <td>205</td>\n",
       "      <td>17</td>\n",
       "      <td>127</td>\n",
       "      <td>-13</td>\n",
       "    </tr>\n",
       "  </tbody>\n",
       "</table>\n",
       "<p>5 rows × 7130 columns</p>\n",
       "</div>"
      ],
      "text/plain": [
       "    Cancer_type  AFFX-BioB-5_at  AFFX-BioB-M_at  AFFX-BioB-3_at  \\\n",
       "0             0            -214            -153             -58   \n",
       "2             0            -106            -125             -76   \n",
       "5             0             -67             -93              84   \n",
       "9             0            -476            -213             -18   \n",
       "10            0             -81            -150            -119   \n",
       "\n",
       "    AFFX-BioC-5_at  AFFX-BioC-3_at  AFFX-BioDn-5_at  AFFX-BioDn-3_at  \\\n",
       "0               88            -295             -558              199   \n",
       "2              168            -230             -284                4   \n",
       "5               25            -179             -323             -135   \n",
       "9              301            -403             -394              -42   \n",
       "10              78            -152             -340              -36   \n",
       "\n",
       "    AFFX-CreX-5_at  AFFX-CreX-3_at     ...       U48730_at  U58516_at  \\\n",
       "0             -176             252     ...             185        511   \n",
       "2             -122              70     ...             156        649   \n",
       "5             -127              -2     ...              48        224   \n",
       "9             -144              98     ...             241       1214   \n",
       "10            -141              96     ...             186        573   \n",
       "\n",
       "    U73738_at  X06956_at  X16699_at  X83863_at  Z17240_at  L49218_f_at  \\\n",
       "0        -125        389        -37        793        329           36   \n",
       "2          57        504        -26        250        314           14   \n",
       "5          60        194        -10        291         41            8   \n",
       "9         127        255         50       1701       1108           61   \n",
       "10        -57        694        -19        636        205           17   \n",
       "\n",
       "    M71243_f_at  Z78285_f_at  \n",
       "0           191          -37  \n",
       "2            56          -25  \n",
       "5            -2          -80  \n",
       "9           525          -83  \n",
       "10          127          -13  \n",
       "\n",
       "[5 rows x 7130 columns]"
      ]
     },
     "execution_count": 3,
     "metadata": {},
     "output_type": "execute_result"
    }
   ],
   "source": [
    "data_train.head()"
   ]
  },
  {
   "cell_type": "code",
   "execution_count": 4,
   "metadata": {},
   "outputs": [],
   "source": [
    "#Drop the response variable\n",
    "data_train_01=data_train.copy().drop(['Cancer_type'], axis=1)"
   ]
  },
  {
   "cell_type": "code",
   "execution_count": 5,
   "metadata": {},
   "outputs": [],
   "source": [
    "y_train=data_train['Cancer_type']"
   ]
  },
  {
   "cell_type": "code",
   "execution_count": 6,
   "metadata": {
    "scrolled": true
   },
   "outputs": [
    {
     "data": {
      "text/html": [
       "<div>\n",
       "<style scoped>\n",
       "    .dataframe tbody tr th:only-of-type {\n",
       "        vertical-align: middle;\n",
       "    }\n",
       "\n",
       "    .dataframe tbody tr th {\n",
       "        vertical-align: top;\n",
       "    }\n",
       "\n",
       "    .dataframe thead th {\n",
       "        text-align: right;\n",
       "    }\n",
       "</style>\n",
       "<table border=\"1\" class=\"dataframe\">\n",
       "  <thead>\n",
       "    <tr style=\"text-align: right;\">\n",
       "      <th></th>\n",
       "      <th>AFFX-BioB-5_at</th>\n",
       "      <th>AFFX-BioB-M_at</th>\n",
       "      <th>AFFX-BioB-3_at</th>\n",
       "      <th>AFFX-BioC-5_at</th>\n",
       "      <th>AFFX-BioC-3_at</th>\n",
       "      <th>AFFX-BioDn-5_at</th>\n",
       "      <th>AFFX-BioDn-3_at</th>\n",
       "      <th>AFFX-CreX-5_at</th>\n",
       "      <th>AFFX-CreX-3_at</th>\n",
       "      <th>AFFX-BioB-5_st</th>\n",
       "      <th>...</th>\n",
       "      <th>U48730_at</th>\n",
       "      <th>U58516_at</th>\n",
       "      <th>U73738_at</th>\n",
       "      <th>X06956_at</th>\n",
       "      <th>X16699_at</th>\n",
       "      <th>X83863_at</th>\n",
       "      <th>Z17240_at</th>\n",
       "      <th>L49218_f_at</th>\n",
       "      <th>M71243_f_at</th>\n",
       "      <th>Z78285_f_at</th>\n",
       "    </tr>\n",
       "  </thead>\n",
       "  <tbody>\n",
       "    <tr>\n",
       "      <th>0</th>\n",
       "      <td>-214</td>\n",
       "      <td>-153</td>\n",
       "      <td>-58</td>\n",
       "      <td>88</td>\n",
       "      <td>-295</td>\n",
       "      <td>-558</td>\n",
       "      <td>199</td>\n",
       "      <td>-176</td>\n",
       "      <td>252</td>\n",
       "      <td>206</td>\n",
       "      <td>...</td>\n",
       "      <td>185</td>\n",
       "      <td>511</td>\n",
       "      <td>-125</td>\n",
       "      <td>389</td>\n",
       "      <td>-37</td>\n",
       "      <td>793</td>\n",
       "      <td>329</td>\n",
       "      <td>36</td>\n",
       "      <td>191</td>\n",
       "      <td>-37</td>\n",
       "    </tr>\n",
       "    <tr>\n",
       "      <th>2</th>\n",
       "      <td>-106</td>\n",
       "      <td>-125</td>\n",
       "      <td>-76</td>\n",
       "      <td>168</td>\n",
       "      <td>-230</td>\n",
       "      <td>-284</td>\n",
       "      <td>4</td>\n",
       "      <td>-122</td>\n",
       "      <td>70</td>\n",
       "      <td>252</td>\n",
       "      <td>...</td>\n",
       "      <td>156</td>\n",
       "      <td>649</td>\n",
       "      <td>57</td>\n",
       "      <td>504</td>\n",
       "      <td>-26</td>\n",
       "      <td>250</td>\n",
       "      <td>314</td>\n",
       "      <td>14</td>\n",
       "      <td>56</td>\n",
       "      <td>-25</td>\n",
       "    </tr>\n",
       "    <tr>\n",
       "      <th>5</th>\n",
       "      <td>-67</td>\n",
       "      <td>-93</td>\n",
       "      <td>84</td>\n",
       "      <td>25</td>\n",
       "      <td>-179</td>\n",
       "      <td>-323</td>\n",
       "      <td>-135</td>\n",
       "      <td>-127</td>\n",
       "      <td>-2</td>\n",
       "      <td>-66</td>\n",
       "      <td>...</td>\n",
       "      <td>48</td>\n",
       "      <td>224</td>\n",
       "      <td>60</td>\n",
       "      <td>194</td>\n",
       "      <td>-10</td>\n",
       "      <td>291</td>\n",
       "      <td>41</td>\n",
       "      <td>8</td>\n",
       "      <td>-2</td>\n",
       "      <td>-80</td>\n",
       "    </tr>\n",
       "    <tr>\n",
       "      <th>9</th>\n",
       "      <td>-476</td>\n",
       "      <td>-213</td>\n",
       "      <td>-18</td>\n",
       "      <td>301</td>\n",
       "      <td>-403</td>\n",
       "      <td>-394</td>\n",
       "      <td>-42</td>\n",
       "      <td>-144</td>\n",
       "      <td>98</td>\n",
       "      <td>173</td>\n",
       "      <td>...</td>\n",
       "      <td>241</td>\n",
       "      <td>1214</td>\n",
       "      <td>127</td>\n",
       "      <td>255</td>\n",
       "      <td>50</td>\n",
       "      <td>1701</td>\n",
       "      <td>1108</td>\n",
       "      <td>61</td>\n",
       "      <td>525</td>\n",
       "      <td>-83</td>\n",
       "    </tr>\n",
       "    <tr>\n",
       "      <th>10</th>\n",
       "      <td>-81</td>\n",
       "      <td>-150</td>\n",
       "      <td>-119</td>\n",
       "      <td>78</td>\n",
       "      <td>-152</td>\n",
       "      <td>-340</td>\n",
       "      <td>-36</td>\n",
       "      <td>-141</td>\n",
       "      <td>96</td>\n",
       "      <td>-55</td>\n",
       "      <td>...</td>\n",
       "      <td>186</td>\n",
       "      <td>573</td>\n",
       "      <td>-57</td>\n",
       "      <td>694</td>\n",
       "      <td>-19</td>\n",
       "      <td>636</td>\n",
       "      <td>205</td>\n",
       "      <td>17</td>\n",
       "      <td>127</td>\n",
       "      <td>-13</td>\n",
       "    </tr>\n",
       "  </tbody>\n",
       "</table>\n",
       "<p>5 rows × 7129 columns</p>\n",
       "</div>"
      ],
      "text/plain": [
       "    AFFX-BioB-5_at  AFFX-BioB-M_at  AFFX-BioB-3_at  AFFX-BioC-5_at  \\\n",
       "0             -214            -153             -58              88   \n",
       "2             -106            -125             -76             168   \n",
       "5              -67             -93              84              25   \n",
       "9             -476            -213             -18             301   \n",
       "10             -81            -150            -119              78   \n",
       "\n",
       "    AFFX-BioC-3_at  AFFX-BioDn-5_at  AFFX-BioDn-3_at  AFFX-CreX-5_at  \\\n",
       "0             -295             -558              199            -176   \n",
       "2             -230             -284                4            -122   \n",
       "5             -179             -323             -135            -127   \n",
       "9             -403             -394              -42            -144   \n",
       "10            -152             -340              -36            -141   \n",
       "\n",
       "    AFFX-CreX-3_at  AFFX-BioB-5_st     ...       U48730_at  U58516_at  \\\n",
       "0              252             206     ...             185        511   \n",
       "2               70             252     ...             156        649   \n",
       "5               -2             -66     ...              48        224   \n",
       "9               98             173     ...             241       1214   \n",
       "10              96             -55     ...             186        573   \n",
       "\n",
       "    U73738_at  X06956_at  X16699_at  X83863_at  Z17240_at  L49218_f_at  \\\n",
       "0        -125        389        -37        793        329           36   \n",
       "2          57        504        -26        250        314           14   \n",
       "5          60        194        -10        291         41            8   \n",
       "9         127        255         50       1701       1108           61   \n",
       "10        -57        694        -19        636        205           17   \n",
       "\n",
       "    M71243_f_at  Z78285_f_at  \n",
       "0           191          -37  \n",
       "2            56          -25  \n",
       "5            -2          -80  \n",
       "9           525          -83  \n",
       "10          127          -13  \n",
       "\n",
       "[5 rows x 7129 columns]"
      ]
     },
     "execution_count": 6,
     "metadata": {},
     "output_type": "execute_result"
    }
   ],
   "source": [
    "data_train_01.head()"
   ]
  },
  {
   "cell_type": "code",
   "execution_count": 7,
   "metadata": {},
   "outputs": [],
   "source": [
    "#Normalize the training data, and store them in the dataframe.\n",
    "from sklearn import preprocessing\n",
    "scaler=preprocessing.MinMaxScaler()\n",
    "x_train_scaled=scaler.fit_transform(data_train_01)\n",
    "data_train_norm=pd.DataFrame(x_train_scaled, columns = data_train_01.columns)"
   ]
  },
  {
   "cell_type": "code",
   "execution_count": 8,
   "metadata": {},
   "outputs": [
    {
     "data": {
      "text/html": [
       "<div>\n",
       "<style scoped>\n",
       "    .dataframe tbody tr th:only-of-type {\n",
       "        vertical-align: middle;\n",
       "    }\n",
       "\n",
       "    .dataframe tbody tr th {\n",
       "        vertical-align: top;\n",
       "    }\n",
       "\n",
       "    .dataframe thead th {\n",
       "        text-align: right;\n",
       "    }\n",
       "</style>\n",
       "<table border=\"1\" class=\"dataframe\">\n",
       "  <thead>\n",
       "    <tr style=\"text-align: right;\">\n",
       "      <th></th>\n",
       "      <th>AFFX-BioB-5_at</th>\n",
       "      <th>AFFX-BioB-M_at</th>\n",
       "      <th>AFFX-BioB-3_at</th>\n",
       "      <th>AFFX-BioC-5_at</th>\n",
       "      <th>AFFX-BioC-3_at</th>\n",
       "      <th>AFFX-BioDn-5_at</th>\n",
       "      <th>AFFX-BioDn-3_at</th>\n",
       "      <th>AFFX-CreX-5_at</th>\n",
       "      <th>AFFX-CreX-3_at</th>\n",
       "      <th>AFFX-BioB-5_st</th>\n",
       "      <th>...</th>\n",
       "      <th>U48730_at</th>\n",
       "      <th>U58516_at</th>\n",
       "      <th>U73738_at</th>\n",
       "      <th>X06956_at</th>\n",
       "      <th>X16699_at</th>\n",
       "      <th>X83863_at</th>\n",
       "      <th>Z17240_at</th>\n",
       "      <th>L49218_f_at</th>\n",
       "      <th>M71243_f_at</th>\n",
       "      <th>Z78285_f_at</th>\n",
       "    </tr>\n",
       "  </thead>\n",
       "  <tbody>\n",
       "    <tr>\n",
       "      <th>0</th>\n",
       "      <td>0.466192</td>\n",
       "      <td>0.739726</td>\n",
       "      <td>0.255814</td>\n",
       "      <td>0.246154</td>\n",
       "      <td>0.433190</td>\n",
       "      <td>0.240418</td>\n",
       "      <td>0.880427</td>\n",
       "      <td>0.625850</td>\n",
       "      <td>0.928074</td>\n",
       "      <td>0.696281</td>\n",
       "      <td>...</td>\n",
       "      <td>0.385445</td>\n",
       "      <td>0.268542</td>\n",
       "      <td>0.398126</td>\n",
       "      <td>0.161897</td>\n",
       "      <td>0.677778</td>\n",
       "      <td>0.323241</td>\n",
       "      <td>0.322609</td>\n",
       "      <td>0.751381</td>\n",
       "      <td>0.069457</td>\n",
       "      <td>0.381720</td>\n",
       "    </tr>\n",
       "    <tr>\n",
       "      <th>1</th>\n",
       "      <td>0.658363</td>\n",
       "      <td>0.794521</td>\n",
       "      <td>0.213953</td>\n",
       "      <td>0.421978</td>\n",
       "      <td>0.573276</td>\n",
       "      <td>0.717770</td>\n",
       "      <td>0.741637</td>\n",
       "      <td>0.748299</td>\n",
       "      <td>0.505800</td>\n",
       "      <td>0.743802</td>\n",
       "      <td>...</td>\n",
       "      <td>0.307278</td>\n",
       "      <td>0.356777</td>\n",
       "      <td>0.824356</td>\n",
       "      <td>0.206978</td>\n",
       "      <td>0.718519</td>\n",
       "      <td>0.081478</td>\n",
       "      <td>0.309565</td>\n",
       "      <td>0.629834</td>\n",
       "      <td>0.027597</td>\n",
       "      <td>0.446237</td>\n",
       "    </tr>\n",
       "    <tr>\n",
       "      <th>2</th>\n",
       "      <td>0.727758</td>\n",
       "      <td>0.857143</td>\n",
       "      <td>0.586047</td>\n",
       "      <td>0.107692</td>\n",
       "      <td>0.683190</td>\n",
       "      <td>0.649826</td>\n",
       "      <td>0.642705</td>\n",
       "      <td>0.736961</td>\n",
       "      <td>0.338747</td>\n",
       "      <td>0.415289</td>\n",
       "      <td>...</td>\n",
       "      <td>0.016173</td>\n",
       "      <td>0.085038</td>\n",
       "      <td>0.831382</td>\n",
       "      <td>0.085457</td>\n",
       "      <td>0.777778</td>\n",
       "      <td>0.099733</td>\n",
       "      <td>0.072174</td>\n",
       "      <td>0.596685</td>\n",
       "      <td>0.009612</td>\n",
       "      <td>0.150538</td>\n",
       "    </tr>\n",
       "    <tr>\n",
       "      <th>3</th>\n",
       "      <td>0.000000</td>\n",
       "      <td>0.622309</td>\n",
       "      <td>0.348837</td>\n",
       "      <td>0.714286</td>\n",
       "      <td>0.200431</td>\n",
       "      <td>0.526132</td>\n",
       "      <td>0.708897</td>\n",
       "      <td>0.698413</td>\n",
       "      <td>0.570766</td>\n",
       "      <td>0.662190</td>\n",
       "      <td>...</td>\n",
       "      <td>0.536388</td>\n",
       "      <td>0.718031</td>\n",
       "      <td>0.988290</td>\n",
       "      <td>0.109369</td>\n",
       "      <td>1.000000</td>\n",
       "      <td>0.727516</td>\n",
       "      <td>1.000000</td>\n",
       "      <td>0.889503</td>\n",
       "      <td>0.173023</td>\n",
       "      <td>0.134409</td>\n",
       "    </tr>\n",
       "    <tr>\n",
       "      <th>4</th>\n",
       "      <td>0.702847</td>\n",
       "      <td>0.745597</td>\n",
       "      <td>0.113953</td>\n",
       "      <td>0.224176</td>\n",
       "      <td>0.741379</td>\n",
       "      <td>0.620209</td>\n",
       "      <td>0.713167</td>\n",
       "      <td>0.705215</td>\n",
       "      <td>0.566125</td>\n",
       "      <td>0.426653</td>\n",
       "      <td>...</td>\n",
       "      <td>0.388140</td>\n",
       "      <td>0.308184</td>\n",
       "      <td>0.557377</td>\n",
       "      <td>0.281458</td>\n",
       "      <td>0.744444</td>\n",
       "      <td>0.253339</td>\n",
       "      <td>0.214783</td>\n",
       "      <td>0.646409</td>\n",
       "      <td>0.049612</td>\n",
       "      <td>0.510753</td>\n",
       "    </tr>\n",
       "  </tbody>\n",
       "</table>\n",
       "<p>5 rows × 7129 columns</p>\n",
       "</div>"
      ],
      "text/plain": [
       "   AFFX-BioB-5_at  AFFX-BioB-M_at  AFFX-BioB-3_at  AFFX-BioC-5_at  \\\n",
       "0        0.466192        0.739726        0.255814        0.246154   \n",
       "1        0.658363        0.794521        0.213953        0.421978   \n",
       "2        0.727758        0.857143        0.586047        0.107692   \n",
       "3        0.000000        0.622309        0.348837        0.714286   \n",
       "4        0.702847        0.745597        0.113953        0.224176   \n",
       "\n",
       "   AFFX-BioC-3_at  AFFX-BioDn-5_at  AFFX-BioDn-3_at  AFFX-CreX-5_at  \\\n",
       "0        0.433190         0.240418         0.880427        0.625850   \n",
       "1        0.573276         0.717770         0.741637        0.748299   \n",
       "2        0.683190         0.649826         0.642705        0.736961   \n",
       "3        0.200431         0.526132         0.708897        0.698413   \n",
       "4        0.741379         0.620209         0.713167        0.705215   \n",
       "\n",
       "   AFFX-CreX-3_at  AFFX-BioB-5_st     ...       U48730_at  U58516_at  \\\n",
       "0        0.928074        0.696281     ...        0.385445   0.268542   \n",
       "1        0.505800        0.743802     ...        0.307278   0.356777   \n",
       "2        0.338747        0.415289     ...        0.016173   0.085038   \n",
       "3        0.570766        0.662190     ...        0.536388   0.718031   \n",
       "4        0.566125        0.426653     ...        0.388140   0.308184   \n",
       "\n",
       "   U73738_at  X06956_at  X16699_at  X83863_at  Z17240_at  L49218_f_at  \\\n",
       "0   0.398126   0.161897   0.677778   0.323241   0.322609     0.751381   \n",
       "1   0.824356   0.206978   0.718519   0.081478   0.309565     0.629834   \n",
       "2   0.831382   0.085457   0.777778   0.099733   0.072174     0.596685   \n",
       "3   0.988290   0.109369   1.000000   0.727516   1.000000     0.889503   \n",
       "4   0.557377   0.281458   0.744444   0.253339   0.214783     0.646409   \n",
       "\n",
       "   M71243_f_at  Z78285_f_at  \n",
       "0     0.069457     0.381720  \n",
       "1     0.027597     0.446237  \n",
       "2     0.009612     0.150538  \n",
       "3     0.173023     0.134409  \n",
       "4     0.049612     0.510753  \n",
       "\n",
       "[5 rows x 7129 columns]"
      ]
     },
     "execution_count": 8,
     "metadata": {},
     "output_type": "execute_result"
    }
   ],
   "source": [
    "data_train_norm.head()"
   ]
  },
  {
   "cell_type": "code",
   "execution_count": 9,
   "metadata": {},
   "outputs": [],
   "source": [
    "#Drop the response variable\n",
    "data_test_01=data_test.copy().drop(['Cancer_type'], axis=1)"
   ]
  },
  {
   "cell_type": "code",
   "execution_count": 10,
   "metadata": {},
   "outputs": [],
   "source": [
    "y_test=data_test['Cancer_type']"
   ]
  },
  {
   "cell_type": "code",
   "execution_count": 11,
   "metadata": {},
   "outputs": [],
   "source": [
    "#Normalize the test data\n",
    "x_test_scaled=scaler.fit_transform(data_test_01)\n",
    "data_test_norm=pd.DataFrame(x_test_scaled, columns = data_test_01.columns)"
   ]
  },
  {
   "cell_type": "code",
   "execution_count": 12,
   "metadata": {},
   "outputs": [
    {
     "data": {
      "text/html": [
       "<div>\n",
       "<style scoped>\n",
       "    .dataframe tbody tr th:only-of-type {\n",
       "        vertical-align: middle;\n",
       "    }\n",
       "\n",
       "    .dataframe tbody tr th {\n",
       "        vertical-align: top;\n",
       "    }\n",
       "\n",
       "    .dataframe thead th {\n",
       "        text-align: right;\n",
       "    }\n",
       "</style>\n",
       "<table border=\"1\" class=\"dataframe\">\n",
       "  <thead>\n",
       "    <tr style=\"text-align: right;\">\n",
       "      <th></th>\n",
       "      <th>AFFX-BioB-5_at</th>\n",
       "      <th>AFFX-BioB-M_at</th>\n",
       "      <th>AFFX-BioB-3_at</th>\n",
       "      <th>AFFX-BioC-5_at</th>\n",
       "      <th>AFFX-BioC-3_at</th>\n",
       "      <th>AFFX-BioDn-5_at</th>\n",
       "      <th>AFFX-BioDn-3_at</th>\n",
       "      <th>AFFX-CreX-5_at</th>\n",
       "      <th>AFFX-CreX-3_at</th>\n",
       "      <th>AFFX-BioB-5_st</th>\n",
       "      <th>...</th>\n",
       "      <th>U48730_at</th>\n",
       "      <th>U58516_at</th>\n",
       "      <th>U73738_at</th>\n",
       "      <th>X06956_at</th>\n",
       "      <th>X16699_at</th>\n",
       "      <th>X83863_at</th>\n",
       "      <th>Z17240_at</th>\n",
       "      <th>L49218_f_at</th>\n",
       "      <th>M71243_f_at</th>\n",
       "      <th>Z78285_f_at</th>\n",
       "    </tr>\n",
       "  </thead>\n",
       "  <tbody>\n",
       "    <tr>\n",
       "      <th>0</th>\n",
       "      <td>0.649533</td>\n",
       "      <td>0.764569</td>\n",
       "      <td>0.934903</td>\n",
       "      <td>0.111111</td>\n",
       "      <td>0.186260</td>\n",
       "      <td>0.339879</td>\n",
       "      <td>0.479698</td>\n",
       "      <td>0.478360</td>\n",
       "      <td>0.392216</td>\n",
       "      <td>0.225069</td>\n",
       "      <td>...</td>\n",
       "      <td>0.719807</td>\n",
       "      <td>0.533835</td>\n",
       "      <td>1.000000</td>\n",
       "      <td>0.083593</td>\n",
       "      <td>0.190</td>\n",
       "      <td>0.271877</td>\n",
       "      <td>0.188534</td>\n",
       "      <td>0.487578</td>\n",
       "      <td>0.074961</td>\n",
       "      <td>0.430435</td>\n",
       "    </tr>\n",
       "    <tr>\n",
       "      <th>1</th>\n",
       "      <td>0.796729</td>\n",
       "      <td>0.694639</td>\n",
       "      <td>0.897507</td>\n",
       "      <td>0.210648</td>\n",
       "      <td>0.216794</td>\n",
       "      <td>0.391239</td>\n",
       "      <td>0.454202</td>\n",
       "      <td>0.646925</td>\n",
       "      <td>0.622754</td>\n",
       "      <td>0.178408</td>\n",
       "      <td>...</td>\n",
       "      <td>0.212560</td>\n",
       "      <td>0.521805</td>\n",
       "      <td>0.017370</td>\n",
       "      <td>0.071651</td>\n",
       "      <td>0.650</td>\n",
       "      <td>0.554210</td>\n",
       "      <td>0.532525</td>\n",
       "      <td>0.673913</td>\n",
       "      <td>0.168856</td>\n",
       "      <td>0.643478</td>\n",
       "    </tr>\n",
       "    <tr>\n",
       "      <th>2</th>\n",
       "      <td>0.000000</td>\n",
       "      <td>0.424242</td>\n",
       "      <td>0.577562</td>\n",
       "      <td>0.078704</td>\n",
       "      <td>0.000000</td>\n",
       "      <td>0.030211</td>\n",
       "      <td>0.070822</td>\n",
       "      <td>0.000000</td>\n",
       "      <td>0.455090</td>\n",
       "      <td>0.042086</td>\n",
       "      <td>...</td>\n",
       "      <td>0.838164</td>\n",
       "      <td>0.378947</td>\n",
       "      <td>0.245658</td>\n",
       "      <td>0.150052</td>\n",
       "      <td>0.855</td>\n",
       "      <td>0.916346</td>\n",
       "      <td>0.492834</td>\n",
       "      <td>0.826087</td>\n",
       "      <td>0.328053</td>\n",
       "      <td>0.913043</td>\n",
       "    </tr>\n",
       "    <tr>\n",
       "      <th>3</th>\n",
       "      <td>0.750000</td>\n",
       "      <td>0.752914</td>\n",
       "      <td>0.524931</td>\n",
       "      <td>0.483796</td>\n",
       "      <td>0.470229</td>\n",
       "      <td>0.880665</td>\n",
       "      <td>0.284230</td>\n",
       "      <td>0.913440</td>\n",
       "      <td>0.284431</td>\n",
       "      <td>0.407136</td>\n",
       "      <td>...</td>\n",
       "      <td>0.654589</td>\n",
       "      <td>0.344361</td>\n",
       "      <td>0.466501</td>\n",
       "      <td>0.268432</td>\n",
       "      <td>0.545</td>\n",
       "      <td>0.309851</td>\n",
       "      <td>0.334068</td>\n",
       "      <td>0.717391</td>\n",
       "      <td>0.054869</td>\n",
       "      <td>0.778261</td>\n",
       "    </tr>\n",
       "    <tr>\n",
       "      <th>4</th>\n",
       "      <td>0.714953</td>\n",
       "      <td>0.862471</td>\n",
       "      <td>0.393352</td>\n",
       "      <td>0.428241</td>\n",
       "      <td>0.512977</td>\n",
       "      <td>0.794562</td>\n",
       "      <td>0.173749</td>\n",
       "      <td>0.633257</td>\n",
       "      <td>0.248503</td>\n",
       "      <td>0.175663</td>\n",
       "      <td>...</td>\n",
       "      <td>0.429952</td>\n",
       "      <td>0.448872</td>\n",
       "      <td>0.508685</td>\n",
       "      <td>0.165628</td>\n",
       "      <td>0.715</td>\n",
       "      <td>0.034122</td>\n",
       "      <td>0.066152</td>\n",
       "      <td>0.739130</td>\n",
       "      <td>0.071097</td>\n",
       "      <td>0.747826</td>\n",
       "    </tr>\n",
       "  </tbody>\n",
       "</table>\n",
       "<p>5 rows × 7129 columns</p>\n",
       "</div>"
      ],
      "text/plain": [
       "   AFFX-BioB-5_at  AFFX-BioB-M_at  AFFX-BioB-3_at  AFFX-BioC-5_at  \\\n",
       "0        0.649533        0.764569        0.934903        0.111111   \n",
       "1        0.796729        0.694639        0.897507        0.210648   \n",
       "2        0.000000        0.424242        0.577562        0.078704   \n",
       "3        0.750000        0.752914        0.524931        0.483796   \n",
       "4        0.714953        0.862471        0.393352        0.428241   \n",
       "\n",
       "   AFFX-BioC-3_at  AFFX-BioDn-5_at  AFFX-BioDn-3_at  AFFX-CreX-5_at  \\\n",
       "0        0.186260         0.339879         0.479698        0.478360   \n",
       "1        0.216794         0.391239         0.454202        0.646925   \n",
       "2        0.000000         0.030211         0.070822        0.000000   \n",
       "3        0.470229         0.880665         0.284230        0.913440   \n",
       "4        0.512977         0.794562         0.173749        0.633257   \n",
       "\n",
       "   AFFX-CreX-3_at  AFFX-BioB-5_st     ...       U48730_at  U58516_at  \\\n",
       "0        0.392216        0.225069     ...        0.719807   0.533835   \n",
       "1        0.622754        0.178408     ...        0.212560   0.521805   \n",
       "2        0.455090        0.042086     ...        0.838164   0.378947   \n",
       "3        0.284431        0.407136     ...        0.654589   0.344361   \n",
       "4        0.248503        0.175663     ...        0.429952   0.448872   \n",
       "\n",
       "   U73738_at  X06956_at  X16699_at  X83863_at  Z17240_at  L49218_f_at  \\\n",
       "0   1.000000   0.083593      0.190   0.271877   0.188534     0.487578   \n",
       "1   0.017370   0.071651      0.650   0.554210   0.532525     0.673913   \n",
       "2   0.245658   0.150052      0.855   0.916346   0.492834     0.826087   \n",
       "3   0.466501   0.268432      0.545   0.309851   0.334068     0.717391   \n",
       "4   0.508685   0.165628      0.715   0.034122   0.066152     0.739130   \n",
       "\n",
       "   M71243_f_at  Z78285_f_at  \n",
       "0     0.074961     0.430435  \n",
       "1     0.168856     0.643478  \n",
       "2     0.328053     0.913043  \n",
       "3     0.054869     0.778261  \n",
       "4     0.071097     0.747826  \n",
       "\n",
       "[5 rows x 7129 columns]"
      ]
     },
     "execution_count": 12,
     "metadata": {},
     "output_type": "execute_result"
    }
   ],
   "source": [
    "data_test_norm.head()"
   ]
  },
  {
   "cell_type": "markdown",
   "metadata": {},
   "source": [
    "**1.3:** Notice that the results training set contains more predictors than observations. Do you foresee a problem in fitting a classification model to such a data set?\n"
   ]
  },
  {
   "cell_type": "markdown",
   "metadata": {},
   "source": [
    "----\n",
    "Your answer here:\n",
    "\n",
    "**The model will be very likely overfitted.**\n",
    "\n",
    "----"
   ]
  },
  {
   "cell_type": "markdown",
   "metadata": {},
   "source": [
    "**1.4:** Lets explore a few of the genes and see how well they discriminate between cancer classes. Create a single figure with four subplots arranged in a 2x2 grid. Consider the following four genes: `D29963_at`, `M23161_at`, `hum_alu_at`, and `AFFX-PheX-5_at`. For each gene overlay two histograms of the gene expression values on one of the subplots, one histogram for each cancer type. Does it appear that any of these genes discriminate between the two classes well? How are you able to tell?"
   ]
  },
  {
   "cell_type": "code",
   "execution_count": 13,
   "metadata": {},
   "outputs": [],
   "source": [
    "#Put the column name into an accepted way\n",
    "data_train_norm.rename(columns={'AFFX-PheX-5_at': 'AFFX_PheX_5_at'}, inplace=True)"
   ]
  },
  {
   "cell_type": "code",
   "execution_count": 14,
   "metadata": {},
   "outputs": [
    {
     "data": {
      "image/png": "[encoded data removed]",
      "text/plain": [
       "<Figure size 720x720 with 4 Axes>"
      ]
     },
     "metadata": {},
     "output_type": "display_data"
    }
   ],
   "source": [
    "# your code here\n",
    "fig, axes=plt.subplots(2,2, figsize=(10,10))\n",
    "axes[0,0].hist(data_train_norm.D29963_at, color='g', label='D29963_at');\n",
    "axes[0,0].hist(y_train, color='r', label='Cancer type');\n",
    "axes[0,0].set_xlabel('D29963_at VS Cancer type', fontsize=16);\n",
    "axes[0,0].set_ylabel('counts', fontsize=16);\n",
    "axes[0,0].legend(fontsize=16);\n",
    "\n",
    "axes[0,1].hist(data_train_norm.M23161_at, color='g', label='M23161_at');\n",
    "axes[0,1].hist(y_train, color='r', label='Cancer type');\n",
    "axes[0,1].set_xlabel('M23161_at VS Cancer type', fontsize=16);\n",
    "axes[0,1].set_ylabel('counts', fontsize=16);\n",
    "axes[0,1].legend(fontsize=16);\n",
    "\n",
    "axes[1,0].hist(data_train_norm.hum_alu_at, color='g', label='hum_alu_at');\n",
    "axes[1,0].hist(y_train, color='r', label='Cancer type');\n",
    "axes[1,0].set_xlabel('hum_alu_at VS Cancer type', fontsize=16);\n",
    "axes[1,0].set_ylabel('counts', fontsize=16);\n",
    "axes[1,0].legend(fontsize=16);\n",
    "\n",
    "axes[1,1].hist(data_train_norm.AFFX_PheX_5_at, color='g', label='AFFX_PheX_5_at');\n",
    "axes[1,1].hist(y_train, color='r', label='Cancer type');\n",
    "axes[1,1].set_xlabel('AFFX_PheX_5_at VS Cancer type', fontsize=16);\n",
    "axes[1,1].set_ylabel('counts', fontsize=16);\n",
    "axes[1,1].legend(fontsize=16);"
   ]
  },
  {
   "cell_type": "markdown",
   "metadata": {},
   "source": [
    "----\n",
    "Your answer here:\n",
    "\n",
    "**D29963_at, M23161_at, hum_alu_at seem to be different in two cancer types, and AFFX_PheX_5_at doesn't. The histograms of the first three genes, the gene expression levels have two groups, but the AFFX_PheX_5_at shows bell shape, meaning no specific relationship on cancer types.**\n",
    "\n",
    "----"
   ]
  },
  {
   "cell_type": "markdown",
   "metadata": {},
   "source": [
    "**1.5:** Since our data has dimensions that are not easily visualizable, we want to reduce the dimensionality of the data to make it easier to visualize. Using PCA, find the top two principal components for the gene expression data. Generate a scatter plot using these principal components, highlighting the two cancer types in different colors. How well do the top two principal components discriminate between the two classes? How much of the variance within the data do these two principal components explain?"
   ]
  },
  {
   "cell_type": "code",
   "execution_count": 15,
   "metadata": {},
   "outputs": [],
   "source": [
    "# your code here\n",
    "from sklearn.preprocessing import StandardScaler\n",
    "# scale the datasets\n",
    "scale_transformer = StandardScaler(copy=True).fit(data_train_norm)\n",
    "x_train_scaled = scale_transformer.transform(data_train_norm)\n",
    "x_test_scaled = scale_transformer.transform(data_test_norm)\n",
    "\n",
    "\n",
    "# reduce dimensions\n",
    "pca_transformer = PCA(2).fit(x_train_scaled)\n",
    "x_train_2d = pca_transformer.transform(x_train_scaled)\n",
    "x_test_2d =  pca_transformer.transform(x_test_scaled)"
   ]
  },
  {
   "cell_type": "code",
   "execution_count": 16,
   "metadata": {
    "scrolled": true
   },
   "outputs": [
    {
     "data": {
      "image/png": "[encoded data removed]",
      "text/plain": [
       "<Figure size 432x288 with 1 Axes>"
      ]
     },
     "metadata": {},
     "output_type": "display_data"
    }
   ],
   "source": [
    "colors = ['r','g']\n",
    "label_text=['type 0', 'type 1']\n",
    "# and we loop over the different groups\n",
    "for cancer_type in [0,1]:\n",
    "    can_tp = x_train_2d[y_train==cancer_type]\n",
    "    plt.scatter(can_tp[:,0], can_tp[:,1], c = colors[cancer_type], label=label_text[cancer_type])\n",
    "    \n",
    "# all plots need labels\n",
    "plt.xlabel(\"PCA Dimension 1\", fontsize=16)\n",
    "plt.ylabel(\"PCA Dimention 2\", fontsize=16)\n",
    "plt.legend(fontsize=16);"
   ]
  },
  {
   "cell_type": "code",
   "execution_count": 17,
   "metadata": {},
   "outputs": [
    {
     "name": "stdout",
     "output_type": "stream",
     "text": [
      "Variance explained by each PCA component: [0.15642787 0.11389365]\n",
      "Total Variance Explained: 0.2703\n"
     ]
    }
   ],
   "source": [
    "var_explained = pca_transformer.explained_variance_ratio_\n",
    "print(\"Variance explained by each PCA component:\", var_explained)\n",
    "print(\"Total Variance Explained: {:.4f}\".format(np.sum(var_explained)))"
   ]
  },
  {
   "cell_type": "markdown",
   "metadata": {},
   "source": [
    "----\n",
    "Your answer here:\n",
    "\n",
    "**The top two PCA could only partially discriminate between two classes. This two PCA explained around 27% of the variances of the train data. The first PCA component explained 15.6% and the second 11.4%.** \n",
    "\n",
    "----"
   ]
  },
  {
   "cell_type": "markdown",
   "metadata": {},
   "source": [
    "## Question 2: Linear Regression vs. Logistic Regression\n",
    "\n",
    "In class we discussed how to use both linear regression and logistic regression for classification. For this question, you will work with a single gene predictor, `D29963_at`, to explore these two methods.\n",
    "\n",
    "1. Fit a simple linear regression model to the training set using the single gene predictor `D29963_at`. We could interpret the scores predicted by the regression model interpreted for a patient as an estimate of the probability that the patient has `Cancer_type`=1. Is there a problem with this interpretation?\n",
    "\n",
    "2. The fitted linear regression model can be converted to a classification model (i.e. a model that predicts one of two binary labels 0 or 1) by classifying patients with predicted score greater than 0.5 into `Cancer_type`=1, and the others into the `Cancer_type`=0. Evaluate the classification accuracy (1 - misclassification rate) of the obtained classification model on both the training and test sets.\n",
    "\n",
    "3. Next, fit a simple logistic regression model to the training set. How do the training and test classification accuracies of this model compare with the linear regression model? Remember, you need to set the regularization parameter for sklearn's logistic regression function to be a very large value in order to not regularize (use 'C=100000').\n",
    "\n",
    "4. Plot the quantitative output from the linear regression model and the probabilistic output from the logistic regression model (on the training set points) as a function of the gene predictor. Also, display the true binary response for the training set points in the same plot. Based on these plots, does one of the models appear better suited for binary classification than the other? Explain."
   ]
  },
  {
   "cell_type": "markdown",
   "metadata": {},
   "source": [
    "#### Answers: \n",
    "\n",
    "**2.1:** Fit a simple linear regression model to the training set using the single gene predictor `D29963_at`. We could interpret the scores predicted by the regression model interpreted for a patient as an estimate of the probability that the patient has `Cancer_type`=1. Is there a problem with this interpretation?\n"
   ]
  },
  {
   "cell_type": "code",
   "execution_count": 18,
   "metadata": {},
   "outputs": [],
   "source": [
    "# your code here\n",
    "from sklearn.linear_model import LinearRegression\n",
    "X_train=data_train_norm.copy()\n",
    "X_train_D=X_train['D29963_at'].values.reshape(-1,1)\n",
    "X_Dmodel = LinearRegression().fit(X_train_D,y_train)"
   ]
  },
  {
   "cell_type": "code",
   "execution_count": 19,
   "metadata": {},
   "outputs": [],
   "source": [
    "y_pre_D=X_Dmodel.predict(X_train_D)"
   ]
  },
  {
   "cell_type": "code",
   "execution_count": 20,
   "metadata": {},
   "outputs": [
    {
     "data": {
      "text/plain": [
       "Text(0,0.5,'y_hat')"
      ]
     },
     "execution_count": 20,
     "metadata": {},
     "output_type": "execute_result"
    },
    {
     "data": {
      "image/png": "[encoded data removed]",
      "text/plain": [
       "<Figure size 432x288 with 1 Axes>"
      ]
     },
     "metadata": {},
     "output_type": "display_data"
    }
   ],
   "source": [
    "plt.plot(X_train_D, y_pre_D)\n",
    "plt.xlabel('X_train_D')\n",
    "plt.ylabel('y_hat')"
   ]
  },
  {
   "cell_type": "code",
   "execution_count": 21,
   "metadata": {},
   "outputs": [
    {
     "data": {
      "text/plain": [
       "array([1.27643062])"
      ]
     },
     "execution_count": 21,
     "metadata": {},
     "output_type": "execute_result"
    }
   ],
   "source": [
    "X_Dmodel.coef_"
   ]
  },
  {
   "cell_type": "markdown",
   "metadata": {},
   "source": [
    "----\n",
    "Your answer here:\n",
    "\n",
    "**Because the predicted y and x has linear relationship, it's very difficult to tell when will Cancer_type =1, or 0.**\n",
    "\n",
    "----\n"
   ]
  },
  {
   "cell_type": "markdown",
   "metadata": {},
   "source": [
    "**2.2:** The fitted linear regression model can be converted to a classification model (i.e. a model that predicts one of two binary labels 0 or 1) by classifying patients with predicted score greater than 0.5 into `Cancer_type`=1, and the others into the `Cancer_type`=0. Evaluate the classification accuracy (1 - misclassification rate) of the obtained classification model on both the training and test sets.\n"
   ]
  },
  {
   "cell_type": "code",
   "execution_count": 22,
   "metadata": {},
   "outputs": [],
   "source": [
    "#Classify the predicted output on training data\n",
    "# your code here\n",
    "y_newtrain_pre=np.zeros(len(y_pre_D))\n",
    "for i, val in enumerate(y_pre_D):\n",
    "    if val>0.5:\n",
    "        y_newtrain_pre[i]=1"
   ]
  },
  {
   "cell_type": "code",
   "execution_count": 23,
   "metadata": {},
   "outputs": [
    {
     "name": "stdout",
     "output_type": "stream",
     "text": [
      "The classification accuracy of linear regression model is:0.8000\n"
     ]
    }
   ],
   "source": [
    "#Evaluate classification accuracy on training data\n",
    "print('The classification accuracy of linear regression model is:{:.4f}'.format(np.sum(y_train == y_newtrain_pre) / len(y_train)))"
   ]
  },
  {
   "cell_type": "code",
   "execution_count": 24,
   "metadata": {},
   "outputs": [],
   "source": [
    "#Predict the cancer type on test data\n",
    "X_test=data_test_norm.copy()\n",
    "X_test_D=X_test['D29963_at'].values.reshape(-1,1)\n",
    "y_pretest_D=X_Dmodel.predict(X_test_D)"
   ]
  },
  {
   "cell_type": "code",
   "execution_count": 25,
   "metadata": {},
   "outputs": [],
   "source": [
    "#Classify the predicted output on test data\n",
    "y_newtest_pre=np.zeros(len(y_pretest_D))\n",
    "for i, val in enumerate(y_pretest_D):\n",
    "    if val>0.5:\n",
    "        y_newtest_pre[i]=1"
   ]
  },
  {
   "cell_type": "code",
   "execution_count": 26,
   "metadata": {},
   "outputs": [
    {
     "name": "stdout",
     "output_type": "stream",
     "text": [
      "The classification accuracy of linear regression model on test data is:0.7879\n"
     ]
    }
   ],
   "source": [
    "#Evaluate classification accuracy on test data\n",
    "print('The classification accuracy of linear regression model on test data is:{:.4f}'.format(np.sum(y_test == y_newtest_pre) / len(y_test)))"
   ]
  },
  {
   "cell_type": "markdown",
   "metadata": {},
   "source": [
    "**2.3:** Next, fit a simple logistic regression model to the training set. How do the training and test classification accuracies of this model compare with the linear regression model? Remember, you need to set the regularization parameter for sklearn's logistic regression function to be a very large value in order to not regularize (use 'C=100000')."
   ]
  },
  {
   "cell_type": "code",
   "execution_count": 27,
   "metadata": {},
   "outputs": [],
   "source": [
    "# Fit training data using logistic regression model\n",
    "train_fitted_logit = LogisticRegression(C=100000).fit(X_train_D,y_train)"
   ]
  },
  {
   "cell_type": "code",
   "execution_count": 28,
   "metadata": {},
   "outputs": [
    {
     "name": "stdout",
     "output_type": "stream",
     "text": [
      "The classification accuracy of binary logistic model is:0.8000\n"
     ]
    }
   ],
   "source": [
    "#Calculate the classivication accuracy of training data\n",
    "train_binary_prediction = train_fitted_logit.predict(X_train_D) >= .5\n",
    "print('The classification accuracy of binary logistic model is:{:.4f}'.format(np.sum(y_train == train_binary_prediction) / len(y_train)))"
   ]
  },
  {
   "cell_type": "code",
   "execution_count": 29,
   "metadata": {},
   "outputs": [
    {
     "name": "stdout",
     "output_type": "stream",
     "text": [
      "The classification accuracy of binary logistic model on test data is:0.6970\n"
     ]
    }
   ],
   "source": [
    "#Calculate the classivication accuracy of test data\n",
    "test_binary_prediction = train_fitted_logit.predict(X_test_D) >= .5\n",
    "print('The classification accuracy of binary logistic model on test data is:{:.4f}'.format(np.sum(y_test == test_binary_prediction) / len(y_test)))"
   ]
  },
  {
   "cell_type": "markdown",
   "metadata": {},
   "source": [
    "----\n",
    "Your answer here:\n",
    "\n",
    "**The training classification in this model equals to linear regression model. But the test classification accuracy is smaller than linear regression model.**\n",
    "\n",
    "----\n"
   ]
  },
  {
   "cell_type": "markdown",
   "metadata": {},
   "source": [
    "**2.4:** Plot the quantitative output from the linear regression model and the probabilistic output from the logistic regression model (on the training set points) as a function of the gene predictor. Also, display the true binary response for the training set points in the same plot. Based on these plots, does one of the models appear better suited for binary classification than the other? Explain."
   ]
  },
  {
   "cell_type": "code",
   "execution_count": 30,
   "metadata": {},
   "outputs": [
    {
     "data": {
      "image/png": "[encoded data removed]",
      "text/plain": [
       "<Figure size 1008x360 with 2 Axes>"
      ]
     },
     "metadata": {},
     "output_type": "display_data"
    }
   ],
   "source": [
    "# your code here\n",
    "fig, axes=plt.subplots(1,2, figsize=(14, 5))\n",
    "axes[0].plot(X_train_D, y_pre_D, color='r', label='linear ori');\n",
    "axes[0].plot(X_train_D, y_train, 'o', color='g', label='true train');\n",
    "axes[0].set_xlabel('X_train', fontsize=16);\n",
    "axes[0].set_ylabel('Cancer Type', fontsize=16);\n",
    "axes[0].legend(fontsize=12);\n",
    "\n",
    "axes[1].plot(X_train_D, train_binary_prediction,'o', color='r', label='logistic ori');\n",
    "axes[1].plot(X_train_D, y_train, 'v', color='b', label='true train');\n",
    "axes[1].set_xlabel('X_train', fontsize=16);\n",
    "axes[1].set_ylabel('Cancer Type', fontsize=16);\n",
    "axes[1].legend(fontsize=12);"
   ]
  },
  {
   "cell_type": "markdown",
   "metadata": {},
   "source": [
    "----\n",
    "Your answer here\n",
    "\n",
    "----"
   ]
  },
  {
   "cell_type": "markdown",
   "metadata": {},
   "source": [
    "## Question 3: Multiple Logistic Regression\n",
    "\n",
    "1. Next, fit a multiple logistic regression model with all the gene predictors from the data set.  How does the classification accuracy of this model compare with the models fitted in question 2 with a single gene (on both the training and test sets)?  \n",
    "\n",
    "2. Use the `visualize_prob` function provided below to visualize the probabilties predicted by the fitted multiple logistic regression model on both the training and test data sets. The function creates a visualization that places the data points on a vertical line based on the predicted probabilities, with the different cancer classes shown in different colors, and with the 0.5 threshold highlighted using a dotted horizontal line. Is there a difference in the spread of probabilities in the training and test plots? Are there data points for which the predicted probability is close to 0.5? If so, what can you say about these points?"
   ]
  },
  {
   "cell_type": "code",
   "execution_count": 31,
   "metadata": {},
   "outputs": [],
   "source": [
    "#--------  visualize_prob\n",
    "# A function to visualize the probabilities predicted by a Logistic Regression model\n",
    "# Input: \n",
    "#      model (Logistic regression model)\n",
    "#      x (n x d array of predictors in training data)\n",
    "#      y (n x 1 array of response variable vals in training data: 0 or 1)\n",
    "#      ax (an axis object to generate the plot)\n",
    "\n",
    "def visualize_prob(model, x, y, ax):\n",
    "    # Use the model to predict probabilities for\n",
    "    y_pred = model.predict_proba(x)\n",
    "    \n",
    "    # Separate the predictions on the label 1 and label 0 points\n",
    "    ypos = y_pred[y==1]\n",
    "    yneg = y_pred[y==0]\n",
    "    \n",
    "    # Count the number of label 1 and label 0 points\n",
    "    npos = ypos.shape[0]\n",
    "    nneg = yneg.shape[0]\n",
    "    \n",
    "    # Plot the probabilities on a vertical line at x = 0, \n",
    "    # with the positive points in blue and negative points in red\n",
    "    pos_handle = ax.plot(np.zeros((npos,1)), ypos[:,1], 'bo', label = 'Cancer Type 1')\n",
    "    neg_handle = ax.plot(np.zeros((nneg,1)), yneg[:,1], 'ro', label = 'Cancer Type 0')\n",
    "\n",
    "    # Line to mark prob 0.5\n",
    "    ax.axhline(y = 0.5, color = 'k', linestyle = '--')\n",
    "    \n",
    "    # Add y-label and legend, do not display x-axis, set y-axis limit\n",
    "    ax.set_ylabel('Probability of AML class')\n",
    "    ax.legend(loc = 'best')\n",
    "    ax.get_xaxis().set_visible(False)\n",
    "    ax.set_ylim([0,1])"
   ]
  },
  {
   "cell_type": "markdown",
   "metadata": {},
   "source": [
    "#### Answers \n",
    "**3.1:** Next, fit a multiple logistic regression model with all the gene predictors from the data set.  How does the classification accuracy of this model compare with the models fitted in question 2 with a single gene (on both the training and test sets)?  "
   ]
  },
  {
   "cell_type": "code",
   "execution_count": 32,
   "metadata": {},
   "outputs": [],
   "source": [
    "# your code here\n",
    "multi_logist=LogisticRegression(C=1000000, solver='newton-cg', max_iter=250).fit(X_train,y_train)"
   ]
  },
  {
   "cell_type": "code",
   "execution_count": 33,
   "metadata": {},
   "outputs": [
    {
     "name": "stdout",
     "output_type": "stream",
     "text": [
      "The classification accuracy of test data is: 1.0000\n"
     ]
    }
   ],
   "source": [
    "#Calculate the classification accuracy on training data\n",
    "train_multi_prediction = multi_logist.predict(X_train) >= .5\n",
    "print(\"The classification accuracy of test data is: {:.4f}\".format(np.sum(y_train == train_multi_prediction) / len(y_train)))"
   ]
  },
  {
   "cell_type": "code",
   "execution_count": 34,
   "metadata": {},
   "outputs": [
    {
     "name": "stdout",
     "output_type": "stream",
     "text": [
      "The classification accuracy of test data is: 0.9697\n"
     ]
    }
   ],
   "source": [
    "#Calculate the classification accuracy on test data\n",
    "test_multi_prediction = multi_logist.predict(X_test) >= .5\n",
    "print(\"The classification accuracy of test data is: {:.4f}\".format(np.sum(y_test == test_multi_prediction) / len(y_test)))"
   ]
  },
  {
   "cell_type": "markdown",
   "metadata": {},
   "source": [
    "----\n",
    "Your answer here:\n",
    "\n",
    "**The accuracies on both training and test sets by using this model were increased to 1.0 and 0.970, respectively.**\n",
    "\n",
    "----"
   ]
  },
  {
   "cell_type": "markdown",
   "metadata": {},
   "source": [
    "**3.2:** Use the `visualize_prob` function provided below to visualize the probabilties predicted by the fitted multiple logistic regression model on both the training and test data sets. The function creates a visualization that places the data points on a vertical line based on the predicted probabilities, with the different cancer classes shown in different colors, and with the 0.5 threshold highlighted using a dotted horizontal line. Is there a difference in the spread of probabilities in the training and test plots? Are there data points for which the predicted probability is close to 0.5? If so, what can you say about these points?"
   ]
  },
  {
   "cell_type": "code",
   "execution_count": 35,
   "metadata": {},
   "outputs": [
    {
     "data": {
      "image/png": "[encoded data removed]",
      "text/plain": [
       "<Figure size 360x432 with 1 Axes>"
      ]
     },
     "metadata": {},
     "output_type": "display_data"
    }
   ],
   "source": [
    "# your code here\n",
    "fig,ax=plt.subplots(figsize=(5, 6))\n",
    "visualize_prob(multi_logist, X_train, y_train, ax)"
   ]
  },
  {
   "cell_type": "code",
   "execution_count": 36,
   "metadata": {},
   "outputs": [
    {
     "data": {
      "image/png": "[encoded data removed]",
      "text/plain": [
       "<Figure size 360x432 with 1 Axes>"
      ]
     },
     "metadata": {},
     "output_type": "display_data"
    }
   ],
   "source": [
    "fig,ax=plt.subplots(figsize=(5, 6))\n",
    "visualize_prob(multi_logist, X_test, y_test, ax)"
   ]
  },
  {
   "cell_type": "markdown",
   "metadata": {},
   "source": [
    "----\n",
    "Your answer here:\n",
    "\n",
    "**In training data, the positive possiblility points overlap to 1, and the negative points overlap to 0. While in test data, the points spread from 0 to 1. None of the predicted points are close to 0.5.**\n",
    "\n",
    "----"
   ]
  },
  {
   "cell_type": "markdown",
   "metadata": {},
   "source": [
    "## Question 4: Analyzing Significance of Coefficients\n",
    "\n",
    "How many of the coefficients estimated by the multiple logistic regression in the previous problem are significantly different from zero at a *significance level of 95%*? \n",
    "\n",
    "Hint: To answer this question, use *bootstrapping* with 1000 boostrap samples/iterations.  "
   ]
  },
  {
   "cell_type": "markdown",
   "metadata": {},
   "source": [
    "#### Answer:"
   ]
  },
  {
   "cell_type": "code",
   "execution_count": 37,
   "metadata": {},
   "outputs": [],
   "source": [
    "# dataset_x should be a pandas dataframe\n",
    "\n",
    "## accepts dataset inputs as numpy arrays\n",
    "def make_bootstrap_sample(dataset_X, dataset_y, size = None):\n",
    "    \n",
    "    # your code here\n",
    "    \n",
    "    # by default return a bootstrap sample of the same size as the original dataset\n",
    "    if not size: size = len(dataset_X)\n",
    "    \n",
    "    # if the X and y datasets aren't the same size, raise an exception\n",
    "    if len(dataset_X) != len(dataset_y):\n",
    "        raise Exception(\"Data size must match between dataset_X and dataset_y\")\n",
    "    \n",
    "    \n",
    "    sample_indices = np.random.choice(len(dataset_X), size=size, replace=True)\n",
    "    \n",
    "    bootstrap_dataset_X = dataset_X.iloc[sample_indices]\n",
    "    bootstrap_dataset_y = dataset_y[sample_indices]\n",
    "    \n",
    "    # return as a tuple your bootstrap samples of dataset_X as a pandas dataframe\n",
    "    # and your bootstrap samples of dataset y as a numpy column vector\n",
    "    \n",
    "    return (bootstrap_dataset_X, bootstrap_dataset_y)\n",
    "    \n",
    "\n",
    "def calculate_coefficients(dataset_X, dataset_y, model):\n",
    "    \n",
    "    # your code here\n",
    "    \n",
    "    # fit the model\n",
    "    model.fit(dataset_X, dataset_y) \n",
    "    \n",
    "    coefficients_dictionary = {k:v for k, v in zip(dataset_X.columns, model.coef_.ravel())}\n",
    "    \n",
    "    # return coefficients  in the variable  coefficients_dictioanry as a dictionary\n",
    "    # with the key being the name of the feature as a string\n",
    "    # the value being the value of the coefficients\n",
    "    # do not return the intercept as part of this\n",
    "    return coefficients_dictionary\n",
    "\n",
    "\n",
    "def get_significant_predictors(regression_coefficients, significance_level):\n",
    "    \n",
    "    # your code here\n",
    "\n",
    "    \n",
    "    # regression_coefficients is a list of dictionaries\n",
    "    # with the key being the name of the feature as a string\n",
    "    # the value being the value of the coefficients\n",
    "    # each dictionary in th list should be the output of calculate_coefficients\n",
    "    \n",
    "    if (len(regression_coefficients) <= 0):\n",
    "        return []\n",
    "    \n",
    "    coeff_names = np.array(list(regression_coefficients[0].keys()), dtype='object')\n",
    "    coeff_samples = [list(coeff_list.values()) for coeff_list in regression_coefficients]\n",
    "    \n",
    "    coeff_samples = np.array(coeff_samples)\n",
    "        \n",
    "    # Obtain bottom percentile values\n",
    "    bottom_percentile = np.percentile(coeff_samples, q=100*significance_level/2, axis=0)\n",
    "    \n",
    "    # Obtain top percentile values\n",
    "    top_percentile = np.percentile(coeff_samples, q=100*(1-significance_level/2), axis=0)\n",
    "    \n",
    "    # Coefficients with bottom value greater than 0 or top value less than 0 are signficant\n",
    "    significant_index = ((bottom_percentile > 0.0) | (top_percentile < 0.0))\n",
    " \n",
    "    significant_coefficients = list(coeff_names[significant_index])\n",
    "      \n",
    "    # return the significant coefficients as a list of strings\n",
    "    return significant_coefficients"
   ]
  },
  {
   "cell_type": "code",
   "execution_count": 38,
   "metadata": {},
   "outputs": [],
   "source": [
    "#Prepare the matrix and response variable\n",
    "y_train=y_train.reset_index(drop=True)\n",
    "X_train=X_train.reset_index(drop=True)"
   ]
  },
  {
   "cell_type": "code",
   "execution_count": 39,
   "metadata": {},
   "outputs": [],
   "source": [
    "# generate significant predictors\n",
    "regression_coefficients = []\n",
    "for i in range(1000):\n",
    "    sample_X, sample_y = make_bootstrap_sample(X_train, y_train, size = None)\n",
    "    coefficient_dict = calculate_coefficients(sample_X, sample_y, LogisticRegression(C=100000, solver='newton-cg', max_iter=250))\n",
    "    regression_coefficients.append(coefficient_dict)\n",
    "    \n",
    "Significant_bootstrap = get_significant_predictors(regression_coefficients, 0.05)"
   ]
  },
  {
   "cell_type": "code",
   "execution_count": 40,
   "metadata": {},
   "outputs": [
    {
     "name": "stdout",
     "output_type": "stream",
     "text": [
      "The significant predictors from bootstrap are: ['AFFX-BioC-3_at', 'AFFX-BioB-3_st', 'hum_alu_at', 'AFFX-DapX-5_at', 'AFFX-LysX-3_at', 'AFFX_PheX_5_at', 'AFFX-HUMISGF3A/M97935_MA_at', 'AFFX-HUMRGE/M10098_5_at', 'AFFX-HUMRGE/M10098_M_at', 'AFFX-HUMRGE/M10098_3_at', 'AFFX-M27830_5_at', 'AFFX-M27830_M_at', 'AB000449_at', 'AB000466_at', 'AB000895_at', 'AB001325_at', 'AB002559_at', 'AB003698_at', 'AB004884_at', 'AC000062_at', 'AC000064_cds1_at', 'AC002115_cds3_at', 'AF001294_at', 'AF002700_at', 'AF005043_at', 'AF006084_at', 'AF009301_at', 'AF009426_at', 'AF010193_at', 'AF014958_at', 'AF015913_at', 'AF015950_at', 'AJ000480_at', 'AJ001421_at', 'D00017_at', 'D00726_at', 'D00760_at', 'D10495_at', 'D11086_at', 'D12625_at', 'D13118_at', 'D13315_at', 'D13628_at', 'D13637_at', 'D13639_at', 'D13642_at', 'D13748_at', 'D13969_at', 'D14533_at', 'D14658_at', 'D14659_at', 'D14660_at', 'D14661_at', 'D14664_at', 'D14689_at', 'D14811_at', 'D14838_at', 'D15050_at', 'D16217_at', 'D16227_at', 'D16350_at', 'D16469_at', 'D16581_at', 'D16593_at', 'D16626_at', 'D17391_at', 'D21063_at', 'D21261_at', 'D21852_at', 'D21878_at', 'D23673_at', 'D25217_at', 'D25547_at', 'D26018_at', 'D26067_at', 'D26129_at', 'D26308_at', 'D26528_at', 'D26561_cds2_at', 'D26579_at', 'D26600_at', 'D28416_at', 'D28423_at', 'D28532_at', 'D29012_at', 'D29643_at', 'D29677_at', 'D29833_at', 'D29958_at', 'D29963_at', 'D30037_at', 'D30655_at', 'D30742_at', 'D31846_at', 'D31886_at', 'D31890_at', 'D32050_at', 'D38293_at', 'D38524_at', 'D38535_at', 'D38548_at', 'D38551_at', 'D38583_at', 'D42041_at', 'D42043_at', 'D42084_at', 'D42085_at', 'D43636_at', 'D43638_at', 'D43947_at', 'D43951_at', 'D45248_at', 'D49396_at', 'D49400_at', 'D49677_at', 'D49817_at', 'D49818_at', 'D49950_at', 'D49958_at', 'D50063_at', 'D50640_at', 'D50810_at', 'D50911_at', 'D50912_at', 'D50918_at', 'D50920_at', 'D50923_at', 'D50927_at', 'D50928_at', 'D50930_at', 'D59253_at', 'D63391_at', 'D63476_at', 'D63480_at', 'D63484_at', 'D63874_at', 'D63875_at', 'D63880_at', 'D63881_at', 'D64154_at', 'D78275_at', 'D78333_at', 'D79988_at', 'D79991_at', 'D79998_at', 'D79999_at', 'D80001_at', 'D80003_at', 'D80006_at', 'D80010_at', 'D83243_at', 'D83702_at', 'D83776_at', 'D83779_at', 'D83784_at', 'D84294_at', 'D84361_at', 'D84454_at', 'D85418_at', 'D85429_at', 'D85758_at', 'D86425_at', 'D86479_at', 'D86549_at', 'D86956_at', 'D86960_at', 'D86966_at', 'D86967_at', 'D86968_at', 'D86969_at', 'D86970_at', 'D86975_at', 'D86978_at', 'D86979_at', 'D86982_at', 'D86983_at', 'D87074_at', 'D87075_at', 'D87076_at', 'D87078_at', 'D87127_at', 'D87258_at', 'D87433_at', 'D87434_at', 'D87436_at', 'D87440_at', 'D87442_at', 'D87447_at', 'D87448_at', 'D87449_at', 'D87459_at', 'D87463_at', 'D87464_at', 'D87465_at', 'D87468_at', 'D87684_at', 'D88146_at', 'D88270_at', 'D88422_at', 'D89050_at', 'D89052_at', 'D89289_at', 'D89667_at', 'D90097_at', 'D90224_at', 'HG1102-HT1102_at', 'HG1116-HT1116_at', 'HG1153-HT1153_at', 'HG1155-HT4822_at', 'HG142-HT142_at', 'HG1612-HT1612_at', 'HG1733-HT1748_at', 'HG180-HT180_at', 'HG1862-HT1897_at', 'HG1869-HT1904_at', 'HG1879-HT1919_at', 'HG2028-HT2082_at', 'HG2152-HT2222_at', 'HG2228-HT2305_at', 'HG2274-HT2370_at', 'HG2280-HT2376_at', 'HG2290-HT2386_at', 'HG2416-HT2512_at', 'HG2538-HT2634_at', 'HG2566-HT4867_at', 'HG2602-HT2698_at', 'HG2662-HT2758_at', 'HG270-HT270_at', 'HG2707-HT2803_at', 'HG2788-HT2896_at', 'HG2796-HT2904_at', 'HG2810-HT2921_at', 'HG2873-HT3017_at', 'HG2874-HT3018_at', 'HG2936-HT3080_at', 'HG3088-HT3263_at', 'HG315-HT315_at', 'HG3162-HT3339_at', 'HG3227-HT3404_at', 'HG3254-HT3431_at', 'HG3286-HT3463_at', 'HG3400-HT3579_at', 'HG3494-HT3688_at', 'HG3517-HT3711_at', 'HG3549-HT3751_at', 'HG363-HT363_at', 'HG3884-HT4154_at', 'HG3893-HT4163_at', 'HG3945-HT4215_at', 'HG4018-HT4288_at', 'HG4074-HT4344_at', 'HG4128-HT4398_at', 'HG4167-HT4437_at', 'HG4245-HT4515_at', 'HG4258-HT4528_at', 'HG4321-HT4591_at', 'HG4336-HT4606_at', 'HG4460-HT4729_at', 'HG4582-HT4987_at', 'HG4740-HT5187_at', 'HG960-HT960_at', 'HG987-HT987_at', 'J00073_at', 'J00123_at', 'J00287_at', 'J02888_at', 'J02902_at', 'J02906_at', 'J03040_at', 'J03133_at', 'J03459_at', 'J03473_at', 'J03589_at', 'J03600_at', 'J03764_at', 'J03779_at', 'J03798_at', 'J03909_at', 'J03925_at', 'J03930_at', 'J04027_at', 'J04031_at', 'J04056_at', 'J04111_at', 'J04132_at', 'J04164_at', 'J04177_at', 'J04456_at', 'J04543_at', 'J04615_at', 'J04794_at', 'J04809_rna1_at', 'J04823_rna1_at', 'J04990_at', 'J05032_at', 'J05073_at', 'J05243_at', 'J05257_at', 'J05272_at', 'J05448_at', 'J05500_at', 'J05614_at', 'K01396_at', 'K01911_at', 'K02268_at', 'K03218_at', 'K03430_at', 'K03474_at', 'K03515_at', 'L01664_at', 'L02867_at', 'L02932_at', 'L04947_at', 'L05147_at', 'L05148_at', 'L06132_at', 'L06147_at', 'L06175_at', 'L06419_at', 'L06499_at', 'L06505_at', 'L07548_at', 'L07633_at', 'L07758_at', 'L08069_at', 'L08177_at', 'L08246_at', 'L08488_at', 'L08666_at', 'L09235_at', 'L09708_at', 'L09717_at', 'L09749_at', 'L10284_at', 'L10373_at', 'L10678_at', 'L10838_at', 'L11285_at', 'L11566_at', 'L11669_at', 'L11708_at', 'L12701_cds2_at', 'L13203_at', 'L13278_at', 'L13286_at', 'L13329_at', 'L13848_at', 'L13923_at', 'L13977_at', 'L14787_at', 'L14812_at', 'L14856_at', 'L14922_at', 'L16896_at', 'L16991_at', 'L17131_rna1_at', 'L17327_at', 'L17330_at', 'L18960_at', 'L19437_at', 'L19711_at', 'L20010_at', 'L20298_at', 'L20321_at', 'L20773_at', 'L20971_at', 'L21936_at', 'L21954_at', 'L22009_at', 'L22214_at', 'L23852_at', 'L24203_at', 'L25080_at', 'L26234_at', 'L28821_at', 'L29217_at', 'L29277_at', 'L29376_at', 'L31584_at', 'L31881_at', 'L33243_at', 'L33881_at', 'L34219_at', 'L34657_at', 'L35240_at', 'L35251_rna1_at', 'L36033_at', 'L36069_at', 'L36463_at', 'L36645_at', 'L36983_at', 'L37043_at', 'L37127_at', 'L37199_at', 'L38500_at', 'L38608_at', 'L38616_at', 'L38696_at', 'L38810_at', 'L38820_at', 'L38951_at', 'L40357_at', 'L40371_at', 'L40394_at', 'L40410_at', 'L40636_at', 'L40933_at', 'L41067_at', 'L41147_at', 'L41162_at', 'L41559_at', 'L41607_at', 'L41816_at', 'L41870_at', 'L41887_rna1_at', 'L42243_cds1_at', 'L42324_at', 'L42379_at', 'L43366_at', 'L47738_at', 'L76200_at', 'L76571_at', 'L76703_at', 'L77886_at', 'L78833_cds2_at', 'M10612_at', 'M10901_at', 'M11119_at', 'M11147_at', 'M11433_at', 'M11567_rna1_at', 'M11722_at', 'M12174_at', 'M12625_at', 'M12759_at', 'M12886_at', 'M13241_at', 'M13450_at', 'M13792_at', 'M13903_at', 'M13934_cds2_at', 'M14016_at', 'M14636_at', 'M14949_at', 'M15059_at', 'M15182_at', 'M15796_at', 'M15841_at', 'M15958_at', 'M16038_at', 'M16279_at', 'M16424_at', 'M16505_at', 'M17886_at', 'M18000_at', 'M19481_at', 'M19507_at', 'M19684_at', 'M19722_at', 'M19989_cds2_at', 'M20471_at', 'M20530_at', 'M20902_at', 'M21121_at', 'M21186_at', 'M21551_rna1_at', 'M21624_at', 'M22324_at', 'M22489_at', 'M22638_at', 'M22877_at', 'M22898_at', 'M22919_rna2_at', 'M22960_at', 'M22976_at', 'M23197_at', 'M23254_at', 'M23533_at', 'M23668_at', 'M24351_cds2_at', 'M24594_at', 'M24902_at', 'M25629_at', 'M25897_at', 'M26880_at', 'M27281_at', 'M27891_at', 'M28214_at', 'M28827_at', 'M29064_at', 'M29204_at', 'M29474_at', 'M29536_at', 'M29540_at', 'M29551_at', 'M29696_at', 'M29971_at', 'M30938_at', 'M31158_at', 'M31166_at', 'M31210_at', 'M31303_rna1_at', 'M31328_at', 'M31627_at', 'M31659_at', 'M32011_at', 'M32315_at', 'M32373_at', 'M33195_at', 'M33521_at', 'M33680_at', 'M34182_at', 'M34344_at', 'M34423_at', 'M34455_at', 'M34668_at', 'M34677_at', 'M35128_at', 'M36067_at', 'M36205_at', 'M36341_at', 'M37033_at', 'M37190_at', 'M37435_at', 'M38690_at', 'M54927_at', 'M54992_at', 'M54995_at', 'M55067_at', 'M55150_at', 'M55210_at', 'M55265_at', 'M55284_at', 'M55542_at', 'M55593_at', 'M55621_at', 'M57471_at', 'M57710_at', 'M57730_at', 'M57892_at', 'M58297_at', 'M58597_at', 'M58603_at', 'M59465_at', 'M59807_at', 'M59820_at', 'M60278_at', 'M60299_at', 'M60315_at', 'M60527_at', 'M60626_at', 'M60748_at', 'M60752_at', 'M61176_at', 'M61199_at', 'M62302_at', 'M62324_at', 'M62505_at', 'M62762_at', 'M62783_at', 'M62810_at', 'M62831_at', 'M62982_at', 'M62994_at', 'M63138_at', 'M63167_at', 'M63180_at', 'M63379_at', 'M63488_at', 'M63573_at', 'M63835_at', 'M63904_at', 'M63928_at', 'M63959_at', 'M63967_at', 'M64099_at', 'M64108_at', 'M64174_at', 'M64571_at', 'M64572_at', 'M64590_at', 'M64925_at', 'M64930_at', 'M64934_at', 'M65131_rna1_at', 'M68520_at', 'M68864_at', 'M68874_at', 'M68891_at', 'M69043_at', 'M73481_at', 'M73489_at', 'M73720_at', 'M74491_at', 'M74719_at', 'M75099_at', 'M75126_at', 'M76378_at', 'M76558_at', 'M77142_at', 'M77349_at', 'M79462_at', 'M80254_at', 'M80563_at', 'M80647_at', 'M80899_at', 'M81118_at', 'M81601_at', 'M81750_at', 'M81757_at', 'M81758_at', 'M81780_cds4_at', 'M81882_at', 'M82809_at', 'M83221_at', 'M83233_at', 'M83554_at', 'M84526_at', 'M85165_at', 'M85169_at', 'M86400_at', 'M86752_at', 'M86849_at', 'M87860_at', 'M88108_at', 'M88338_at', 'M89957_at', 'M90696_at', 'M91432_at', 'M91438_at', 'M92287_at', 'M92357_at', 'M92432_at', 'M92439_at', 'M92934_at', 'M93036_at', 'M93056_at', 'M93283_at', 'M93650_at', 'M94250_at', 'M94362_at', 'M94547_at', 'M94633_at', 'M94856_at', 'M95178_at', 'M95678_at', 'M95809_at', 'M96326_rna1_at', 'M96740_at', 'M96803_at', 'M96944_at', 'M97856_at', 'M97925_rna1_at', 'M98045_at', 'M98539_at', 'M98776_rna1_at', 'M98833_at', 'S45630_at', 'S46622_at', 'S50223_at', 'S57235_at', 'S59049_at', 'S63912_at', 'S66431_at', 'S67156_at', 'S68616_at', 'S72008_at', 'S72904_at', 'S74221_at', 'S74728_at', 'S75463_at', 'S75989_at', 'S76617_at', 'S76965_at', 'S77583_at', 'S78203_at', 'S78653_at', 'S80562_at', 'S81221_at', 'S81957_at', 'S82185_at', 'S82470_at', 'S82472_at', 'S83249_at', 'S83364_at', 'S83366_cds1_at', 'S85655_at', 'S94421_at', 'U00930_at', 'U00951_at', 'U00952_at', 'U01062_at', 'U01120_at', 'U01922_at', 'U01923_at', 'U02020_at', 'U02031_at', 'U02310_at', 'U02493_at', 'U02556_at', 'U02570_at', 'U03057_at', 'U03090_at', 'U03187_at', 'U03270_at', 'U03642_at', 'U03886_at', 'U03911_at', 'U04209_at', 'U04343_at', 'U04520_at', 'U05237_at', 'U05259_rna1_at', 'U05340_at', 'U05659_at', 'U06088_at', 'U06452_at', 'U06454_at', 'U06681_at', 'U07132_at', 'U07158_at', 'U07231_at', 'U07802_at', 'U07857_at', 'U08049_at', 'U08198_rna1_at', 'U08471_at', 'U09210_at', 'U09278_at', 'U09367_at', 'U09412_at', 'U09413_at', 'U09578_at', 'U09579_at', 'U10323_at', 'U10485_at', 'U10686_at', 'U10868_at', 'U11090_at', 'U11292_at', 'U11690_at', 'U11791_at', 'U11872_at', 'U12471_cds1_at', 'U12622_at', 'U12897_at', 'U13666_at', 'U13695_at', 'U13948_at', 'U14193_at', 'U14417_at', 'U14588_at', 'U14968_at', 'U14969_at', 'U14973_at', 'U15009_at', 'U15085_at', 'U15460_at', 'U15555_at', 'U16127_at', 'U16282_at', 'U16306_at', 'U16954_at', 'U17077_at', 'U17280_at', 'U17886_at', 'U17977_at', 'U18018_at', 'U18062_at', 'U18235_at', 'U18237_at', 'U18242_at', 'U18288_at', 'U18321_at', 'U18543_at', 'U19142_at', 'U19517_at', 'U19878_at', 'U19977_at', 'U20428_at', 'U20657_at', 'U20998_at', 'U21051_rna1_at', 'U21090_at', 'U21931_at', 'U22055_at', 'U22963_at', 'U23946_at', 'U24186_at', 'U24704_at', 'U25029_at', 'U25041_at', 'U25128_at', 'U25265_at', 'U25435_at', 'U25750_at', 'U26032_at', 'U26174_at', 'U26710_at', 'U27831_at', 'U28251_cds2_at', 'U28686_at', 'U28833_at', 'U28963_at', 'U29343_at', 'U29615_at', 'U29656_at', 'U29680_at', 'U29700_at', 'U30185_at', 'U30255_at', 'U30610_at', 'U30828_at', 'U30930_at', 'U30998_at', 'U30999_at', 'U31248_at', 'U31342_at', 'U31383_at', 'U31384_at', 'U31814_at', 'U32315_at', 'U32576_rna1_at', 'U32944_at', 'U33053_at', 'U33429_at', 'U33447_at', 'U33818_at', 'U33821_at', 'U33822_at', 'U33839_at', 'U33849_at', 'U33921_at', 'U34844_at', 'U34877_at', 'U34879_rna1_at', 'U35048_at', 'U35407_at', 'U35451_at', 'U35735_at', 'U36221_at', 'U36621_cds2_at', 'U36922_at', 'U37143_at', 'U37248_at', 'U37352_at', 'U37408_at', 'U37518_at', 'U37689_at', 'U37690_at', 'U38545_at', 'U38864_at', 'U38896_at', 'U39226_at', 'U40343_at', 'U40369_rna1_at', 'U40434_at', 'U40462_at', 'U40572_at', 'U40714_at', 'U40998_at', 'U41060_at', 'U41344_at', 'U41371_at', 'U41635_at', 'U41813_at', 'U42387_at', 'U43077_at', 'U43083_at', 'U43286_at', 'U43292_at', 'U43328_at', 'U43431_at', 'U43586_at', 'U43885_at', 'U44378_at', 'U44772_at', 'U44848_at', 'U44975_at', 'U45285_at', 'U45955_at', 'U45976_at', 'U46499_at', 'U46571_at', 'U46751_at', 'U47414_at', 'U47635_at', 'U47742_at', 'U48251_at', 'U48405_at', 'U48437_at', 'U48736_at', 'U49070_at', 'U49250_at', 'U49278_at', 'U49395_at', 'U49869_rna1_at', 'U50062_at', 'U50078_at', 'U50136_rna1_at', 'U50146_at', 'U50330_at', 'U50523_at', 'U50535_at', 'U50733_at', 'U50839_at', 'U50928_at', 'U50939_at', 'U51004_at', 'U51127_at', 'U51166_at', 'U51205_at', 'U51240_at', 'U51336_at', 'U51477_at', 'U51920_at', 'U51990_at', 'U52101_at', 'U52112_rna5_at', 'U52155_at', 'U52427_rna1_at', 'U53209_at', 'U53225_at', 'U53468_at', 'U53476_at', 'U54778_at', 'U55853_at', 'U56417_at', 'U56833_at', 'U57057_at', 'U57094_at', 'U57592_at', 'U57721_at', 'U57796_at', 'U58034_at', 'U58048_at', 'U58334_at', 'U58681_at', 'U58682_at', 'U59302_at', 'U59423_at', 'U59863_at', 'U59878_at', 'U59914_at', 'U60115_at', 'U60269_cds3_at', 'U60319_at', 'U60325_at', 'U60521_at', 'U60644_at', 'U61234_at', 'U61836_at', 'U62136_at', 'U62317_rna3_at', 'U62389_at', 'U62431_at', 'U62531_at', 'U62961_at', 'U64998_at', 'U65011_at', 'U65785_at', 'U65928_at', 'U65932_at', 'U66052_at', 'U66083_at', 'U66198_at', 'U66359_at', 'U66469_at', 'U66617_at', 'U66619_at', 'U66838_at', 'U66879_at', 'U67156_at', 'U67171_at', 'U67319_at', 'U67934_at', 'U67963_at', 'U68018_at', 'U68063_at', 'U68233_at', 'U68485_at', 'U68566_at', 'U68723_at', 'U69127_at', 'U69546_at', 'U69645_at', 'U70063_at', 'U70426_at', 'U70660_at', 'U70867_at', 'U71087_at', 'U71300_at', 'U72206_at', 'U72342_at', 'U72514_at', 'U72515_at', 'U72621_at', 'U72661_at', 'U73191_at', 'U73328_at', 'U73514_at', 'U73737_at', 'U73843_at', 'U73960_at', 'U75679_at', 'U76010_at', 'U76272_at', 'U76638_at', 'U76992_at', 'U77129_at', 'U77396_at', 'U77604_at', 'U77735_at', 'U77948_at', 'U78027_rna3_at', 'U78556_at', 'U78628_at', 'U78678_at', 'U79252_at', 'U79253_at', 'U79254_at', 'U79256_at', 'U79265_at', 'U79266_at', 'U79270_at', 'U79274_at', 'U79277_at', 'U79280_at', 'U79285_at', 'U79286_at', 'U79287_at', 'U79291_at', 'U79296_at', 'U79300_at', 'U79526_at', 'U79716_at', 'U79734_at', 'U80017_rna2_at', 'U80040_at', 'U81001_at', 'U81375_at', 'U81554_at', 'U81600_at', 'U81607_at', 'U82303_at', 'U82321_at', 'U82759_at', 'U83410_at', 'U83461_at', 'U83463_at', 'U85767_at', 'U85943_at', 'U85946_at', 'U86409_at', 'U87459_at', 'U88047_at', 'U88629_at', 'U88666_at', 'U88964_at', 'U89336_cds8_at', 'U89355_at', 'U89505_at', 'U90306_at', 'U90313_at', 'U90549_at', 'U90551_at', 'U90902_at', 'U90904_at', 'U90912_at', 'U90918_at', 'U90919_at', 'U91903_at', 'U91930_at', 'U91985_at', 'U94319_at', 'U94855_at', 'U96113_at', 'U96115_at', 'U96915_at', 'U97105_at', 'U97188_at', 'U97502_rna1_at', 'V00563_at', 'V01512_rna1_at', 'X00274_at', 'X02317_at', 'X02596_at', 'X02910_at', 'X03072_at', 'X03168_at', 'X03473_at', 'X03663_at', 'X03934_at', 'X04085_rna1_at', 'X04106_at', 'X04143_at', 'X04145_at', 'X04325_at', 'X04828_at', 'X04898_rna1_at', 'X05232_at', 'X05276_at', 'X05323_at', 'X05615_at', 'X05908_at', 'X06290_at', 'X06614_at', 'X06617_at', 'X06985_at', 'X07109_at', 'X07743_at', 'X07994_at', 'X12447_at', 'X12791_at', 'X13238_at', 'X13293_at', 'X13334_at', 'X13444_at', 'X13482_at', 'X13839_at', 'X13973_at', 'X14046_at', 'X14787_at', 'X14850_at', 'X15183_at', 'X15217_at', 'X15357_at', 'X15414_at', 'X15573_at', 'X15940_at', 'X15949_at', 'X16316_at', 'X16665_at', 'X16667_at', 'X16706_at', 'X16832_at', 'X17025_at', 'X17042_at', 'X17254_at', 'X17648_at', 'X51405_at', 'X51521_at', 'X51630_at', 'X51953_at', 'X52005_at', 'X52056_at', 'X52192_at', 'X52520_at', 'X52851_rna1_at', 'X52882_at', 'X53331_at', 'X53416_at', 'X53586_rna1_at', 'X53742_at', 'X53793_at', 'X54637_at', 'X54870_at', 'X55079_rna1_at', 'X55544_at', 'X55668_at', 'X55740_at', 'X55885_at', 'X56253_rna1_at', 'X56468_at', 'X56654_at', 'X56741_at', 'X56997_rna1_at', 'X57398_at', 'X57522_at', 'X57959_at', 'X58521_at', 'X58529_at', 'X59350_at', 'X59417_at', 'X59434_at', 'X59543_at', 'X59711_at', 'X59841_at', 'X59871_at', 'X59892_at', 'X60382_rna1_at', 'X60483_at', 'X60484_at', 'X60489_at', 'X60655_at', 'X60673_rna1_at', 'X61587_at', 'X62048_at', 'X62055_at', 'X62078_at', 'X62320_at', 'X62466_at', 'X62535_at', 'X62654_rna1_at', 'X63097_at', 'X63337_at', 'X63359_at', 'X63417_at', 'X63422_at', 'X63469_at', 'X63527_at', 'X63753_at', 'X64364_at', 'X64810_at', 'X64838_at', 'X65550_at', 'X65633_at', 'X65644_at', 'X66079_at', 'X66141_at', 'X66171_at', 'X66363_at', 'X66364_at', 'X66401_cds1_at', 'X66533_at', 'X66867_cds1_at', 'X66899_at', 'X66945_at', 'X67698_at', 'X67951_at', 'X68149_at', 'X68277_at', 'X68560_at', 'X69111_at', 'X69141_at', 'X69150_at', 'X69391_at', 'X69699_at', 'X69819_at', 'X69838_at', 'X70040_at', 'X70083_at', 'X70218_at', 'X70297_at', 'X70394_at', 'X70683_at', 'X70991_at', 'X71348_at', 'X71874_cds1_at', 'X71973_at', 'X72012_at', 'X72790_at', 'X72841_at', 'X72964_at', 'X73079_at', 'X73501_at', 'X74262_at', 'X74330_at', 'X74570_at', 'X74614_at', 'X74795_at', 'X74819_at', 'X75042_at', 'X75208_at', 'X75252_at', 'X75315_at', 'X75546_at', 'X75593_at', 'X75756_at', 'X75861_at', 'X76057_at', 'X76061_at', 'X76180_at', 'X76302_at', 'X76534_at', 'X76648_at', 'X76717_at', 'X77366_at', 'X77533_at', 'X77584_at', 'X78031_at', 'X78520_at', 'X78627_at', 'X78669_at', 'X78925_at', 'X79067_at', 'X79353_at', 'X79440_at', 'X79483_at', 'X79865_at', 'X79882_at', 'X79984_at', 'X80230_at', 'X80497_at', 'X80695_at', 'X80907_at', 'X81372_at', 'X81479_at', 'X82200_at', 'X82240_rna1_at', 'X83378_at', 'X83441_at', 'X83618_at', 'X83973_at', 'X84194_at', 'X84373_at', 'X84709_at', 'X85134_rna1_at', 'X85545_at', 'X85750_at', 'X86019_at', 'X87176_at', 'X87212_at', 'X87613_at', 'X87838_at', 'X87843_at', 'X87852_at', 'X87904_at', 'X89059_at', 'X89267_at', 'X89398_cds2_at', 'X89426_at', 'X89576_at', 'X89750_at', 'X89894_at', 'X90763_at', 'X90857_at', 'X90858_at', 'X90872_at', 'X90978_at', 'X91220_at', 'X91249_at', 'X91648_at', 'X92106_at', 'X92521_at', 'X93512_at', 'X94232_at', 'X94453_at', 'X94612_at', 'X94754_at', 'X94910_at', 'X95073_at', 'X95190_at', 'X95592_at', 'X95648_at', 'X95735_at', 'X96698_at', 'X96969_at', 'X97302_at', 'X97335_at', 'X97674_at', 'X97795_at', 'X98001_at', 'X98172_at', 'X98206_at', 'X98248_rna1_at', 'X98258_at', 'X98260_at', 'X98261_at', 'X98307_at', 'X98411_at', 'X98833_rna1_at', 'X99140_at', 'X99585_at', 'X99687_at', 'X99728_at', 'X99920_at', 'X99947_at', 'Y00067_rna1_at', 'Y00281_at', 'Y00282_at', 'Y00291_at', 'Y00433_at', 'Y00636_at', 'Y00764_at', 'Y00796_at', 'Y00978_at', 'Y07595_at', 'Y07604_at', 'Y07707_at', 'Y07755_at', 'Y08134_at', 'Y08136_at', 'Y08200_at', 'Y08612_at', 'Y08614_at', 'Y08837_at', 'Y08915_at', 'Y08991_at', 'Y08999_at', 'Y09216_at', 'Y09443_at', 'Y09615_at', 'Y09980_rna4_at', 'Y10207_at', 'Y10376_at', 'Y10659_at', 'Y10871_at', 'Y11174_at', 'Y11710_rna1_at', 'Y12670_at', 'Y13153_at', 'Y14140_at', 'Z11502_at', 'Z11793_at', 'Z12173_at', 'Z14982_rna1_at', 'Z15114_at', 'Z17227_at', 'Z18954_at', 'Z19585_at', 'Z21507_at', 'Z21966_at', 'Z22551_at', 'Z22555_at', 'Z22970_at', 'Z23064_at', 'Z23090_at', 'Z24724_at', 'Z24727_at', 'Z29067_at', 'Z29090_at', 'Z29331_at', 'Z29481_at', 'Z29572_at', 'Z30426_at', 'Z32765_at', 'Z33642_at', 'Z35102_at', 'Z35227_at', 'Z36531_at', 'Z37986_at', 'Z46967_at', 'Z46973_at', 'Z47043_at', 'Z48510_at', 'Z48570_at', 'Z48804_at', 'Z48923_at', 'Z49194_at', 'Z50781_at', 'Z56281_at', 'Z68204_at', 'Z68747_at', 'Z69881_at', 'Z69915_at', 'Z69923_at', 'Z80776_at', 'Z83741_at', 'Z83742_at', 'Z83745_at', 'Z84722_at', 'Z93784_at', 'D00860_at', 'D10040_at', 'D10925_at', 'D16480_at', 'D16481_at', 'D21235_at', 'D29805_at', 'D38073_at', 'D45132_at', 'D86550_at', 'D86958_at', 'HG2846-HT2983_at', 'HG651-HT4201_at', 'J02783_at', 'J04182_at', 'L04282_at', 'L06133_at', 'L08895_at', 'L10413_at', 'L40397_at', 'L43576_at', 'L46353_at', 'L76517_at', 'M14745_at', 'M15169_at', 'M16276_at', 'M16342_at', 'M21535_at', 'M24283_at', 'M24900_at', 'M55683_at', 'M58026_at', 'M60503_at', 'M61853_at', 'M69013_at', 'M73548_at', 'M84424_at', 'M91463_rna1_at', 'M93651_at', 'M94046_at', 'M96843_at', 'S76638_at', 'S78234_at', 'U07139_at', 'U14394_at', 'U18259_at', 'U22815_at', 'U25988_at', 'U31556_at', 'U35376_at', 'U37426_at', 'U41654_at', 'U50196_at', 'U72649_at', 'U73936_at', 'U94836_at', 'X02160_at', 'X04526_at', 'X56841_at', 'X58072_at', 'X59739_at', 'X63468_at', 'X81625_at', 'X82209_at', 'X89430_at', 'Y09445_at', 'Z15115_at', 'Z18956_at', 'Z48482_at', 'Z74615_at', 'AC002477_s_at', 'D00003_at', 'X02419_rna1_s_at', 'D00749_s_at', 'X15331_s_at', 'L09229_s_at', 'L32832_s_at', 'D10922_s_at', 'L06797_s_at', 'L09230_s_at', 'D11327_s_at', 'M15465_s_at', 'D79206_s_at', 'D13705_s_at', 'U41766_s_at', 'HG4541-HT4946_s_at', 'X83929_s_at', 'U00802_s_at', 'S69231_s_at', 'D17570_s_at', 'D26156_s_at', 'U62293_rna1_s_at', 'D28473_s_at', 'D29640_s_at', 'D30715_xpt5_s_at', 'X68688_rna1_s_at', 'HG4312-HT4582_s_at', 'X62153_s_at', 'D38496_s_at', 'U38964_s_at', 'D42040_s_at', 'D43682_s_at', 'U23736_s_at', 'M19311_at', 'D49372_s_at', 'D49487_s_at', 'D49824_s_at', 'L38593_s_at', 'U50079_s_at', 'D50477_s_at', 'D63479_s_at', 'D63940_s_at', 'S82447_s_at', 'Y10807_s_at', 'D78577_s_at', 'S78271_s_at', 'D83260_s_at', 'D85425_s_at', 'U52373_s_at', 'Y10375_s_at', 'U19713_s_at', 'L33930_s_at', 'X17059_s_at', 'D90070_s_at', 'M64710_s_at', 'HG1140-HT4817_s_at', 'HG1322-HT5143_s_at', 'X57351_at', 'X57351_s_at', 'U19247_rna1_s_at', 'U47025_s_at', 'U43901_rna1_s_at', 'Z26248_s_at', 'HG2238-HT2321_s_at', 'L14778_s_at', 'HG2379-HT3996_s_at', 'HG2414-HT2510_s_at', 'HG243-HT243_s_at', 'HG2441-HT2537_s_at', 'U10099_s_at', 'HG2479-HT2575_at', 'HG2479-HT2575_s_at', 'S52028_s_at', 'HG2562-HT2658_s_at', 'HG2591-HT2687_s_at', 'U22376_cds2_s_at', 'M29037_s_at', 'HG2639-HT2735_s_at', 'U48705_rna1_s_at', 'M90391_s_at', 'HG2730-HT2828_s_at', 'HG274-HT274_s_at', 'M91556_s_at', 'M13452_s_at', 'U22961_s_at', 'HG2981-HT3127_s_at', 'HG2994-HT4850_s_at', 'X52896_s_at', 'U77846_rna1_at', 'L07807_s_at', 'HG3075-HT3236_s_at', 'HG3076-HT3238_s_at', 'X75755_rna1_s_at', 'HG3148-HT3324_s_at', 'HG3187-HT3366_s_at', 'M31520_rna1_s_at', 'HG3242-HT4231_s_at', 'U05572_s_at', 'M97016_s_at', 'HG3395-HT3573_s_at', 'X68505_s_at', 'HG3431-HT3616_s_at', 'HG3484-HT3678_s_at', 'HG371-HT26388_s_at', 'HG3730-HT4000_s_at', 'HG3914-HT4184_s_at', 'HG3928-HT4198_at', 'HG4020-HT4290_s_at', 'HG4099-HT4369_s_at', 'HG417-HT417_s_at', 'L13266_s_at', 'U09937_rna1_s_at', 'HG4318-HT4588_s_at', 'HG4334-HT4604_s_at', 'HG4535-HT4940_s_at', 'U19251_s_at', 'HG4683-HT5108_s_at', 'HG4757-HT5207_s_at', 'M79463_s_at', 'HG627-HT5097_s_at', 'HG721-HT4828_s_at', 'HG759-HT759_s_at', 'L08096_s_at', 'X54457_s_at', 'HG998-HT998_s_at', 'M10277_s_at', 'X01038_rna1_s_at', 'J00105_s_at', 'V00535_rna2_s_at', 'S71043_rna1_s_at', 'M87789_s_at', 'V00599_s_at', 'J02621_s_at', 'J02683_s_at', 'X05130_s_at', 'J02871_s_at', 'U50327_s_at', 'J03077_s_at', 'L25878_s_at', 'M24351_cds3_s_at', 'M31551_s_at', 'X57579_s_at', 'U01691_s_at', 'M21119_s_at', 'J04029_s_at', 'M61827_rna1_s_at', 'J04430_s_at', 'U75272_s_at', 'J04617_s_at', 'J05582_s_at', 'M32304_s_at', 'M34996_s_at', 'K01160_s_at', 'S77835_s_at', 'K02777_s_at', 'K03494_s_at', 'L00634_s_at', 'L05072_s_at', 'Z31560_s_at', 'S57212_s_at', 'L09209_s_at', 'L10615_s_at', 'U89922_s_at', 'L11244_s_at', 'U37055_rna1_s_at', 'U67932_s_at', 'L13939_s_at', 'L14848_s_at', 'L19493_s_at', 'U59632_s_at', 'L22524_s_at', 'L25931_s_at', 'L27213_s_at', 'L35249_s_at', 'M34458_rna1_s_at', 'U61734_s_at', 'L49209_s_at', 'L42374_s_at', 'L43575_s_at', 'U28749_s_at', 'U48436_s_at', 'U31216_s_at', 'M10321_s_at', 'X62891_s_at', 'X05855_s_at', 'X07438_s_at', 'M12959_s_at', 'M13690_s_at', 'M13686_s_at', 'M13928_s_at', 'M14328_s_at', 'M14483_rna1_s_at', 'X04602_s_at', 'M26708_s_at', 'X64072_s_at', 'M16591_s_at', 'M16707_rna1_at', 'M16707_rna1_s_at', 'M31423_s_at', 'U08006_s_at', 'M28130_rna1_s_at', 'Y00787_s_at', 'M26856_s_at', 'M17254_s_at', 'Y00414_s_at', 'M18255_cds2_s_at', 'M18391_s_at', 'X54667_s_at', 'M19309_s_at', 'M19508_xpt3_s_at', 'M27783_s_at', 'M20203_s_at', 'M20642_s_at', 'M20778_s_at', 'M26311_s_at', 'M84371_rna1_s_at', 'M21142_cds2_s_at', 'M26692_s_at', 'Z20656_rna1_s_at', 'M23323_s_at', 'Z68228_s_at', 'X95325_s_at', 'M31776_s_at', 'M27504_s_at', 'M28213_s_at', 'S72493_s_at', 'M29277_s_at', 'M29335_s_at', 'M29932_s_at', 'M33493_s_at', 'X57152_rna1_s_at', 'M30625_s_at', 'M30703_s_at', 'M74587_rna1_s_at', 'X97748_s_at', 'M31211_s_at', 'M65214_s_at', 'M33684_s_at', 'X68090_s_at', 'M36118_s_at', 'X13810_s_at', 'M36653_s_at', 'Z38133_s_at', 'M57731_s_at', 'X53800_s_at', 'M38449_s_at', 'M86933_at', 'M55513_s_at', 'M57466_s_at', 'M58525_s_at', 'M60483_rna1_s_at', 'X69950_s_at', 'X65962_s_at', 'M62403_s_at', 'M63438_s_at', 'M63838_s_at', 'M72885_rna1_s_at', 'M73239_s_at', 'M74088_s_at', 'M74715_s_at', 'M75715_s_at', 'M76732_s_at', 'X74929_s_at', 'M81695_s_at', 'M83652_s_at', 'X62534_s_at', 'M83667_rna1_s_at', 'U84011_s_at', 'S54005_s_at', 'S57132_s_at', 'X75091_s_at', 'S49592_s_at', 'X60299_s_at', 'M98399_s_at', 'X57809_s_at', 'S62028_s_at', 'S52969_cds1_s_at', 'S56151_s_at', 'X86401_s_at', 'S69272_s_at', 'S76473_s_at', 'U05012_s_at', 'S83325_s_at', 'S83390_s_at', 'X73358_s_at', 'U06155_at', 'Z48314_s_at', 'U09087_s_at', 'U18271_cds3_s_at', 'U72935_cds3_s_at', 'U09820_s_at', 'U28758_s_at', 'U14577_s_at', 'X74301_s_at', 'U22314_s_at', 'U23852_s_at', 'U26266_s_at', 'U26312_s_at', 'U28488_s_at', 'U75276_s_at', 'Z50115_s_at', 'U30827_s_at', 'U31201_cds2_s_at', 'U45328_s_at', 'U32674_s_at', 'X85116_rna1_s_at', 'U34070_s_at', 'U41163_s_at', 'X93511_s_at', 'U41767_s_at', 'U51333_s_at', 'U47686_s_at', 'U49020_cds2_s_at', 'Z54367_s_at', 'U59877_s_at', 'U57971_s_at', 'X60787_s_at', 'U60808_s_at', 'U67122_s_at', 'X99586_s_at', 'U61397_s_at', 'X00437_s_at', 'Z48501_s_at', 'U86755_s_at', 'U72509_s_at', 'U72936_s_at', 'U76764_s_at', 'U90552_at', 'U90552_s_at', 'X12530_s_at', 'X15729_s_at', 'X53296_s_at', 'Y00451_s_at', 'X58431_rna2_s_at', 'X89101_s_at', 'X97267_rna1_s_at', 'X83301_s_at', 'Z35402_rna1_s_at', 'Z48519_s_at', 'U46006_s_at', 'HG3546-HT3744_s_at', 'X89399_s_at', 'M58460_at', 'HG2239-HT2324_r_at', 'HG3565-HT3768_at', 'HG3731-HT4001_at', 'HG4518-HT4921_r_at', 'HG4557-HT4962_at', 'L11672_r_at', 'U90546_at', 'U90546_r_at', 'HG3236-HT3413_f_at', 'HG3921-HT4191_f_at', 'J03801_f_at', 'L49219_f_at', 'L49229_f_at', 'M19045_f_at', 'X14008_rna1_f_at', 'X59244_f_at', 'D38024_at', 'D90042_at', 'HG1996-HT2044_at', 'HG2160-HT2230_at', 'HG4109-HT4379_at', 'HG491-HT491_at', 'K03431_cds1_at', 'L13740_at', 'M12125_at', 'M13485_at', 'M31523_at', 'M60751_at', 'M99435_at', 'U05861_at', 'U21556_at', 'U24683_at', 'U27460_at', 'U40279_at', 'U84388_at', 'X00088_at', 'X01703_at', 'X16546_at', 'X17093_at', 'X54489_rna1_at', 'X55989_rna1_at', 'X58399_at', 'X98225_at', 'X98296_at', 'Y07566_at', 'Z30643_at', 'Z30644_at', 'Z80779_at', 'Z80787_at', 'J00314_at', 'L32961_at', 'L37112_at', 'M15395_at', 'M24069_at', 'M28170_at', 'M36634_at', 'U01337_at', 'U04241_at', 'U09587_at', 'U14187_at', 'U18934_at', 'U21689_at', 'U35234_at', 'U47677_at', 'X06318_at', 'X12953_at', 'X14767_at', 'M27749_at', 'M27749_r_at', 'M34516_at', 'M34516_r_at', 'D32129_f_at', 'D38437_f_at', 'HG2255-HT2344_f_at', 'J00148_cds2_f_at', 'J03071_cds3_f_at', 'K03189_f_at', 'K03192_f_at', 'K03207_f_at', 'L42611_f_at', 'M37755_f_at', 'M60750_f_at', 'HG658-HT658_f_at', 'M94880_f_at', 'L78833_cds4_at', 'M13981_at', 'U11863_at', 'U29175_at', 'M71243_f_at']\n"
     ]
    }
   ],
   "source": [
    "print('The significant predictors from bootstrap are: {0}'.format(Significant_bootstrap))"
   ]
  },
  {
   "cell_type": "markdown",
   "metadata": {},
   "source": [
    "## Question 5: High Dimensionality\n",
    "\n",
    "One of the issues you may run into when dealing with high dimensional data is that your 2D and 3D intuition may fail breakdown. For example, distance metrics in high dimensions can have properties that may feel counterintuitive.\n",
    "\n",
    "Consider the following: You have a hypersphere with a radius of $1$, inside of a hypercube centered at $0$, with edges of length $2$.\n",
    "\n",
    "1. As a function of $d$, the number of dimensions, how much of the hypercube's volume is contained within the hypersphere?\n",
    "2. What happens as $d$ gets very large?\n",
    "3. Using the functions provided below, create a plot of how the volume ratio changes as a function of $d$.\n",
    "4. What does this tell you about where the majority of the volume of the hypercube resides in higher dimensions? \n",
    "\n",
    "*HINTS:* \n",
    "- The volume of a hypercube with edges of length $2$ is $V_c(d) = 2^d$.\n",
    "- The volume of a hyperphere with a radius of $1$ is $V_s(d) = \\frac{\\pi^{\\frac{d}{2}}} {\\Gamma(\\frac{d}{2}+1)}$, where $\\Gamma$ is Euler's Gamma Function.\n",
    "- $\\Gamma$ is increasing for all $d \\geq 1$."
   ]
  },
  {
   "cell_type": "code",
   "execution_count": 41,
   "metadata": {},
   "outputs": [],
   "source": [
    "def V_c(d):\n",
    "    \"\"\"\n",
    "    Calculate the volumn of a hypercube of dimension d.\n",
    "    \"\"\"\n",
    "    return 2**d\n",
    "\n",
    "def V_s(d):\n",
    "    \"\"\"\n",
    "    Calculate the volume of a hypersphere of dimension d.\n",
    "    \"\"\"\n",
    "    return math.pi**(d/2)/gamma((d/2)+1)  "
   ]
  },
  {
   "cell_type": "markdown",
   "metadata": {},
   "source": [
    "#### Answers:"
   ]
  },
  {
   "cell_type": "code",
   "execution_count": 42,
   "metadata": {},
   "outputs": [],
   "source": [
    "# your code here\n",
    "x=[1, 2, 3, 4, 5, 6, 7, 8, 9, 10,12, 15, 18, 20,25, 30]\n",
    "ratio=[]\n",
    "for d in x:\n",
    "    ratio.append(V_s(d)/V_c(d))"
   ]
  },
  {
   "cell_type": "code",
   "execution_count": 43,
   "metadata": {},
   "outputs": [
    {
     "data": {
      "image/png": "[encoded data removed]",
      "text/plain": [
       "<Figure size 432x288 with 1 Axes>"
      ]
     },
     "metadata": {},
     "output_type": "display_data"
    }
   ],
   "source": [
    "plt.plot(x, ratio);\n",
    "plt.ylabel('ratio', fontsize=16);\n",
    "plt.xlabel('dimensions', fontsize=16);"
   ]
  },
  {
   "cell_type": "markdown",
   "metadata": {},
   "source": [
    "----\n",
    "Your answer here:\n",
    "\n",
    "**V_s(d)/V_c(d) of the volume of hypercube is resides in the hypersphere. When d increases, the ratio gets smaller and smaller and reaches to zero very fast. ** \n",
    "\n",
    "----"
   ]
  },
  {
   "cell_type": "markdown",
   "metadata": {},
   "source": [
    "## Question 6: PCA and Dimensionality Reduction\n",
    "\n",
    "As we saw above, high dimensional problems can have counterintuitive behavior, thus we often want to try to reduce the dimensionality of our problems. A reasonable approach to reduce the dimensionality of the data is to use PCA and fit a logistic regression model on the smallest set of principal components that explain at least 90% of the variance in the predictors.\n",
    "\n",
    "1. Using the gene data from Problem 1, how many principal components do we need to capture at least 90% of the variance? How much of the variance do they actually capture? Fit a Logistic Regression model using these principal components. How do the classification accuracy values on both the training and tests sets compare with the models fit in question 3.1?  \n",
    "\n",
    "2. Use the code provided in question 3 to visualize the probabilities predicted by the fitted model on both the training and test sets. How does the spread of probabilities in these plots compare to those for the model in question 3.2? If the lower dimensional representation yields comparable predictive power, what advantage does the lower dimensional representation provide?"
   ]
  },
  {
   "cell_type": "markdown",
   "metadata": {},
   "source": [
    "#### Answers:\n",
    "\n",
    "**6.1:** Using the gene data from Problem 1, how many principal components do we need to capture at least 90% of the variance? How much of the variance do they actually capture? Fit a Logistic Regression model using these principal components. How do the classification accuracy values on both the training and tests sets compare with the models fit in question 3.1?  "
   ]
  },
  {
   "cell_type": "code",
   "execution_count": 44,
   "metadata": {},
   "outputs": [
    {
     "name": "stdout",
     "output_type": "stream",
     "text": [
      "The number of principal components to capture 90% of the variance is : 29\n"
     ]
    }
   ],
   "source": [
    "# your code here\n",
    "data_x6=data_train_norm.copy()\n",
    "# scale the datasets\n",
    "scale_transformer6 = StandardScaler(copy=True).fit(data_x6)\n",
    "x_train_scaled6 = scale_transformer6.transform(data_x6)\n",
    "pca_ratio=0\n",
    "d=1\n",
    "while (pca_ratio<0.9): \n",
    "    d=d+1\n",
    "    pca_transformer = PCA(d).fit(x_train_scaled6)\n",
    "    pca_ratio=np.sum(pca_transformer.explained_variance_ratio_)\n",
    "print('The number of principal components to capture 90% of the variance is : {0}'.format(d))"
   ]
  },
  {
   "cell_type": "code",
   "execution_count": 45,
   "metadata": {
    "scrolled": true
   },
   "outputs": [
    {
     "name": "stdout",
     "output_type": "stream",
     "text": [
      "The percentage of the variance captured is: 0.9034\n"
     ]
    }
   ],
   "source": [
    "print('The percentage of the variance captured is: {:.4f}'.format(np.sum(pca_transformer.explained_variance_ratio_)))"
   ]
  },
  {
   "cell_type": "code",
   "execution_count": 46,
   "metadata": {},
   "outputs": [],
   "source": [
    "x_test6=data_test_norm.copy()"
   ]
  },
  {
   "cell_type": "code",
   "execution_count": 47,
   "metadata": {},
   "outputs": [],
   "source": [
    "#Standardizae test data\n",
    "x_test_scaled6 = scale_transformer.transform(x_test6)"
   ]
  },
  {
   "cell_type": "code",
   "execution_count": 48,
   "metadata": {},
   "outputs": [],
   "source": [
    "#Apply the optimized pca model\n",
    "pca_transformer6=PCA(29).fit(x_train_scaled6)"
   ]
  },
  {
   "cell_type": "code",
   "execution_count": 49,
   "metadata": {},
   "outputs": [],
   "source": [
    "#Build matrices of training and test sets using pca components\n",
    "x_train_pca = pca_transformer6.transform(x_train_scaled6)\n",
    "x_test_pca =  pca_transformer6.transform(x_test_scaled6)"
   ]
  },
  {
   "cell_type": "code",
   "execution_count": 50,
   "metadata": {},
   "outputs": [],
   "source": [
    "train_reg=LogisticRegression(C=100000, solver='newton-cg', max_iter=250).fit(x_train_pca, y_train)"
   ]
  },
  {
   "cell_type": "code",
   "execution_count": 51,
   "metadata": {},
   "outputs": [
    {
     "name": "stdout",
     "output_type": "stream",
     "text": [
      "The classification accuracy of training data is: 1.0000\n"
     ]
    }
   ],
   "source": [
    "#Calculate classification accuracy of training data\n",
    "print(\"The classification accuracy of training data is: {:.4f}\".format(np.sum(y_train == train_reg.predict(x_train_pca)) / len(y_train)))"
   ]
  },
  {
   "cell_type": "code",
   "execution_count": 52,
   "metadata": {},
   "outputs": [
    {
     "name": "stdout",
     "output_type": "stream",
     "text": [
      "The classification accuracy of test data is: 0.7879\n"
     ]
    }
   ],
   "source": [
    "#Calculate classification accuracy of test data\n",
    "print(\"The classification accuracy of test data is: {:.4f}\".format(np.sum(y_test==train_reg.predict(x_test_pca))/len(y_test)))"
   ]
  },
  {
   "cell_type": "markdown",
   "metadata": {},
   "source": [
    "----\n",
    "Your answer here:\n",
    "\n",
    "**To caputure 90% variance, 29 principle components are needed. With 29 principle components, 90.3% of the variance was captured. Here, the classification accuracy of training data equals to the one from question 3.1; the classification accuracy of test data is smaller than the one from question 3.1.**\n",
    "\n",
    "----"
   ]
  },
  {
   "cell_type": "markdown",
   "metadata": {},
   "source": [
    "**6.2:** Use the code provided in question 3 to visualize the probabilities predicted by the fitted model on both the training and test sets. How does the spread of probabilities in these plots compare to those for the model in question 3.2? If the lower dimensional representation yields comparable predictive power, what advantage does the lower dimensional representation provide?"
   ]
  },
  {
   "cell_type": "code",
   "execution_count": 53,
   "metadata": {},
   "outputs": [
    {
     "data": {
      "image/png": "[encoded data removed]",
      "text/plain": [
       "<Figure size 360x432 with 1 Axes>"
      ]
     },
     "metadata": {},
     "output_type": "display_data"
    }
   ],
   "source": [
    "# your code here\n",
    "fig,ax=plt.subplots(figsize=(5, 6))\n",
    "visualize_prob(train_reg, x_train_pca, y_train, ax)"
   ]
  },
  {
   "cell_type": "code",
   "execution_count": 54,
   "metadata": {},
   "outputs": [
    {
     "data": {
      "image/png": "[encoded data removed]",
      "text/plain": [
       "<Figure size 360x432 with 1 Axes>"
      ]
     },
     "metadata": {},
     "output_type": "display_data"
    }
   ],
   "source": [
    "# your code here\n",
    "fig,ax=plt.subplots(figsize=(5, 6))\n",
    "visualize_prob(train_reg, x_test_pca, y_test, ax)"
   ]
  },
  {
   "cell_type": "markdown",
   "metadata": {},
   "source": [
    "----\n",
    "Your answer here: **The spread of the probabilities of the training data is same as the one in Q3.2. But the spread of test data is not as good as the one in Q3.2. The low dimension model normally will lose some fitting accuracy. But in this case, the model seems to be overfitted.**\n",
    "\n",
    "----"
   ]
  },
  {
   "cell_type": "markdown",
   "metadata": {},
   "source": [
    "\n",
    "## Multiclass Thyroid Classification\n",
    "\n",
    "In this problem, you will build a model for diagnosing disorders in a patient's thyroid gland. Given the results of medical tests on a patient, the task is to classify the patient either as:\n",
    "- *normal* (class 1)\n",
    "- having *hyperthyroidism* (class 2)\n",
    "- or having *hypothyroidism* (class 3). \n",
    "\n",
    "The data set is provided in the file `dataset_hw5_2.csv`. Columns 1-2 contain biomarkers for a patient (predictors):\n",
    "- Biomarker 1: (Logarithm of) level of basal thyroid-stimulating hormone (TSH) as measured by radioimmuno assay\n",
    "- Biomarker 2: (Logarithm of) maximal absolute difference of TSH value after injection of 200 micro grams of thyrotropin-releasing hormone as compared to the basal value.\n",
    "\n",
    "The last column contains the diagnosis for the patient from a medical expert. This data set was obtained from the UCI Machine Learning Repository.\n",
    "\n",
    "Notice that unlike previous exercises, the task at hand is a 3-class classification problem. We will explore the use of different methods for multiclass classification.\n",
    "\n",
    "First task: split the data using the code provided below."
   ]
  },
  {
   "cell_type": "markdown",
   "metadata": {},
   "source": [
    "## Question 7: Fit Classification Models\n",
    "\n",
    "1. Generate a 2D scatter plot of the training set, denoting each class with a different color. Does it appear that the data points can be separated well by a linear classifier?\n",
    "\n",
    "2. Briefly explain the difference between multinomial logistic regression and one-vs-rest (OvR) logistic regression methods for fitting a multiclass classifier (in 2-3 sentences).\n",
    "\n",
    "3. Fit linear classification models on the thyroid data set using both the methods.  You should use $L_2$ regularization in both cases, tuning the regularization parameter using cross-validation.  Is there a difference in the overall classification accuracy of the two methods on the test set?\n",
    "\n",
    "4. Also, compare the training and test accuracies of these models with the following classification methods:\n",
    "    - Multiclass Logistic Regression with quadratic terms \n",
    "    - Linear Discriminant Analysis\n",
    "    - Quadratic Discriminant Analysis\n",
    "    - k-Nearest Neighbors\n",
    " <br>\n",
    "*Note:* you may use either the OvR or multinomial variant for the multiclass logistic regression (with $L_2$ regularization). Do not forget to use cross-validation to choose the regularization parameter, and also the number of neighbors in k-NN. \n",
    "\n",
    "5. Does the inclusion of the polynomial terms in logistic regression yield better test accuracy compared to the model with only linear terms? \n",
    "\n",
    "\n",
    "*Hint:* You may use the `KNeighborsClassifier` class to fit a k-NN classification model."
   ]
  },
  {
   "cell_type": "markdown",
   "metadata": {},
   "source": [
    "#### Answers:\n",
    "\n",
    "**7.0:** First task: split the data using the code provided below. "
   ]
  },
  {
   "cell_type": "code",
   "execution_count": 55,
   "metadata": {},
   "outputs": [],
   "source": [
    "np.random.seed(9001)\n",
    "df = pd.read_csv('data/dataset_hw5_2.csv')\n",
    "msk = np.random.rand(len(df)) < 0.5\n",
    "data_train = df[msk]\n",
    "data_test = df[~msk]"
   ]
  },
  {
   "cell_type": "code",
   "execution_count": 56,
   "metadata": {
    "scrolled": false
   },
   "outputs": [
    {
     "data": {
      "text/html": [
       "<div>\n",
       "<style scoped>\n",
       "    .dataframe tbody tr th:only-of-type {\n",
       "        vertical-align: middle;\n",
       "    }\n",
       "\n",
       "    .dataframe tbody tr th {\n",
       "        vertical-align: top;\n",
       "    }\n",
       "\n",
       "    .dataframe thead th {\n",
       "        text-align: right;\n",
       "    }\n",
       "</style>\n",
       "<table border=\"1\" class=\"dataframe\">\n",
       "  <thead>\n",
       "    <tr style=\"text-align: right;\">\n",
       "      <th></th>\n",
       "      <th>Biomarker 1</th>\n",
       "      <th>Biomarker 2</th>\n",
       "      <th>Diagnosis</th>\n",
       "    </tr>\n",
       "  </thead>\n",
       "  <tbody>\n",
       "    <tr>\n",
       "      <th>0</th>\n",
       "      <td>0.262372</td>\n",
       "      <td>0.875473</td>\n",
       "      <td>1.0</td>\n",
       "    </tr>\n",
       "    <tr>\n",
       "      <th>5</th>\n",
       "      <td>0.336479</td>\n",
       "      <td>1.098616</td>\n",
       "      <td>1.0</td>\n",
       "    </tr>\n",
       "    <tr>\n",
       "      <th>9</th>\n",
       "      <td>0.182330</td>\n",
       "      <td>-1.609488</td>\n",
       "      <td>2.0</td>\n",
       "    </tr>\n",
       "    <tr>\n",
       "      <th>12</th>\n",
       "      <td>-0.223131</td>\n",
       "      <td>0.788462</td>\n",
       "      <td>1.0</td>\n",
       "    </tr>\n",
       "    <tr>\n",
       "      <th>13</th>\n",
       "      <td>0.587792</td>\n",
       "      <td>1.458617</td>\n",
       "      <td>1.0</td>\n",
       "    </tr>\n",
       "  </tbody>\n",
       "</table>\n",
       "</div>"
      ],
      "text/plain": [
       "    Biomarker 1  Biomarker 2  Diagnosis\n",
       "0      0.262372     0.875473        1.0\n",
       "5      0.336479     1.098616        1.0\n",
       "9      0.182330    -1.609488        2.0\n",
       "12    -0.223131     0.788462        1.0\n",
       "13     0.587792     1.458617        1.0"
      ]
     },
     "execution_count": 56,
     "metadata": {},
     "output_type": "execute_result"
    }
   ],
   "source": [
    "data_train.head()"
   ]
  },
  {
   "cell_type": "markdown",
   "metadata": {},
   "source": [
    "**7.1:** Generate a 2D scatter plot of the training set, denoting each class with a different color. Does it appear that the data points can be separated well by a linear classifier?\n"
   ]
  },
  {
   "cell_type": "code",
   "execution_count": 57,
   "metadata": {},
   "outputs": [],
   "source": [
    "#Generate x-matrix and response variable\n",
    "data_train_x=data_train.drop(['Diagnosis'], axis=1).reset_index(drop=True)\n",
    "data_train_y=data_train['Diagnosis'].reset_index(drop=True)"
   ]
  },
  {
   "cell_type": "code",
   "execution_count": 58,
   "metadata": {},
   "outputs": [
    {
     "data": {
      "image/png": "[encoded data removed]",
      "text/plain": [
       "<Figure size 432x288 with 1 Axes>"
      ]
     },
     "metadata": {},
     "output_type": "display_data"
    }
   ],
   "source": [
    "#Plot 2D scatter of training data\n",
    "colors = ['r','g','b']\n",
    "label_text = [\"class 1\", \"class 2\", \"class 3\"]\n",
    "\n",
    "# and we loop over the different groups\n",
    "for clas in [1,2,3]:\n",
    "    data_df = data_train_x[data_train_y==clas]\n",
    "    plt.scatter(data_df['Biomarker 1'], data_df['Biomarker 2'], c = colors[clas-1], label=label_text[clas-1])\n",
    "    \n",
    "# all plots need labels\n",
    "plt.xlabel(\"Biomaker 1\", fontsize=16)\n",
    "plt.ylabel(\"Biomaker 2\", fontsize=16)\n",
    "plt.legend();\n"
   ]
  },
  {
   "cell_type": "markdown",
   "metadata": {},
   "source": [
    "----\n",
    "Your answer here:\n",
    "\n",
    "**The classes could be separated well by a linear classifier.**\n",
    "\n",
    "----"
   ]
  },
  {
   "cell_type": "markdown",
   "metadata": {},
   "source": [
    "**7.2:** Briefly explain the difference between multinomial logistic regression and one-vs-rest (OvR) logistic regression methods for fitting a multiclass classifier (in 2-3 sentences).\n"
   ]
  },
  {
   "cell_type": "markdown",
   "metadata": {},
   "source": [
    "----\n",
    "Your answer here:\n",
    "\n",
    "**OvR basically fits multiple times using linear regression by grouping the classes into one and rest. Multinomial logistic regression takes care of every pair of classes in all the classes.**\n",
    "\n",
    "----"
   ]
  },
  {
   "cell_type": "markdown",
   "metadata": {},
   "source": [
    "**7.3:** Fit linear classification models on the thyroid data set using both the methods.  You should use $L_2$ regularization in both cases, tuning the regularization parameter using cross-validation.  Is there a difference in the overall classification accuracy of the two methods on the test set?"
   ]
  },
  {
   "cell_type": "code",
   "execution_count": 59,
   "metadata": {},
   "outputs": [],
   "source": [
    "from sklearn.model_selection import cross_val_score\n",
    "#Set up test data matrix and response variable\n",
    "data_test_x=data_test.drop(['Diagnosis'], axis=1).reset_index(drop=True)\n",
    "data_test_y=data_test['Diagnosis'].reset_index(drop=True)"
   ]
  },
  {
   "cell_type": "code",
   "execution_count": 60,
   "metadata": {},
   "outputs": [
    {
     "data": {
      "text/plain": [
       "array([0.8       , 0.85294118, 0.84848485])"
      ]
     },
     "execution_count": 60,
     "metadata": {},
     "output_type": "execute_result"
    }
   ],
   "source": [
    "#Fit training data by linear logistic regression model by tuning L2 using CV\n",
    "lcv=LogisticRegressionCV(Cs=[0.001, 0.1, 0.5, 1, 3, 10, 100, 1000], solver='newton-cg', max_iter=250).fit(data_train_x, data_train_y)\n",
    "cross_val_score(lcv, data_train_x, data_train_y, cv=3)"
   ]
  },
  {
   "cell_type": "code",
   "execution_count": 61,
   "metadata": {},
   "outputs": [
    {
     "data": {
      "text/plain": [
       "array([0.82857143, 0.88235294, 0.93939394])"
      ]
     },
     "execution_count": 61,
     "metadata": {},
     "output_type": "execute_result"
    }
   ],
   "source": [
    "#Fit training data by multinormial logistic regression model by tuning L2 using CV\n",
    "lmv=LogisticRegressionCV(Cs=[0.001, 0.1, 0.5, 1, 3, 10, 100, 1000], multi_class='multinomial', solver='newton-cg', max_iter=250).fit(data_train_x, data_train_y)\n",
    "cross_val_score(lmv, data_train_x, data_train_y, cv=3)"
   ]
  },
  {
   "cell_type": "code",
   "execution_count": 62,
   "metadata": {},
   "outputs": [
    {
     "name": "stdout",
     "output_type": "stream",
     "text": [
      "The classification accuracy of OVR model is: 0.8407\n"
     ]
    }
   ],
   "source": [
    "#Calculate the classification accuracy of OVR model\n",
    "y_ovr_predict=lcv.predict(data_test_x)\n",
    "print(\"The classification accuracy of OVR model is: {:.4f}\".format(np.sum(data_test_y == y_ovr_predict) / len(data_test_y)))"
   ]
  },
  {
   "cell_type": "code",
   "execution_count": 63,
   "metadata": {},
   "outputs": [
    {
     "name": "stdout",
     "output_type": "stream",
     "text": [
      "The classification accuracy of multinomial logistic model is: 0.8850\n"
     ]
    }
   ],
   "source": [
    "#Calculate the classification accuracy of multinomial logistic regression model\n",
    "y_multi_predict=lmv.predict(data_test_x)\n",
    "print(\"The classification accuracy of multinomial logistic model is: {:.4f}\".format(np.sum(data_test_y == y_multi_predict) / len(data_test_y)))"
   ]
  },
  {
   "cell_type": "markdown",
   "metadata": {},
   "source": [
    "----\n",
    "Your answer here:\n",
    "\n",
    "**As shown above, the multinomial logistic regression model performs better on the test data on the overall classification accuracy.**\n",
    "\n",
    "----"
   ]
  },
  {
   "cell_type": "markdown",
   "metadata": {},
   "source": [
    "**7.4:** Also, compare the training and test accuracies of these models with the following classification methods:\n",
    "    - Multiclass Logistic Regression with quadratic terms \n",
    "    - Linear Discriminant Analysis\n",
    "    - Quadratic Discriminant Analysis\n",
    "    - k-Nearest Neighbors\n",
    "\n",
    "*Note:* you may use either the OvR or multinomial variant for the multiclass logistic regression (with $L_2$ regularization). Do not forget to use cross-validation to choose the regularization parameter, and also the number of neighbors in k-NN. \n"
   ]
  },
  {
   "cell_type": "code",
   "execution_count": 64,
   "metadata": {},
   "outputs": [],
   "source": [
    "#Add quadratic terms to training data\n",
    "data_train_x_mul=data_train_x.copy()\n",
    "poly=PolynomialFeatures(degree=2,  include_bias=False)\n",
    "data_x_matr=poly.fit_transform(data_train_x_mul)"
   ]
  },
  {
   "cell_type": "code",
   "execution_count": 65,
   "metadata": {},
   "outputs": [],
   "source": [
    "#Add quandratic terms to test data\n",
    "data_test_x_mul=data_test_x.copy()\n",
    "poly=PolynomialFeatures(degree=2,  include_bias=False)\n",
    "data_x_matr_test=poly.fit_transform(data_test_x_mul)"
   ]
  },
  {
   "cell_type": "code",
   "execution_count": 66,
   "metadata": {},
   "outputs": [
    {
     "name": "stdout",
     "output_type": "stream",
     "text": [
      "The classification accuracy of Multiclass logistic regression model is:0.8824\n"
     ]
    }
   ],
   "source": [
    "#Multiclass Logistic Regression\n",
    "multi_logist=LogisticRegressionCV(Cs=[0.001, 0.1, 0.5, 1, 3, 10, 100, 1000], solver='newton-cg', max_iter=250).fit(data_x_matr, data_train_y)\n",
    "y_train7_pred=multi_logist.predict(data_x_matr)\n",
    "#Classification accuracy on training data\n",
    "print(\"The classification accuracy of Multiclass logistic regression model is:{:.4f}\".format(np.sum(data_train_y == y_train7_pred) / len(data_train_y)))"
   ]
  },
  {
   "cell_type": "code",
   "execution_count": 67,
   "metadata": {},
   "outputs": [
    {
     "name": "stdout",
     "output_type": "stream",
     "text": [
      "The classification accuracy of Multiclass logistic regression model on test data is:0.8761\n"
     ]
    }
   ],
   "source": [
    "#Classification accuracy on test data\n",
    "y_test7_pred=multi_logist.predict(data_x_matr_test)\n",
    "print(\"The classification accuracy of Multiclass logistic regression model on test data is:{:.4f}\".format(np.sum(data_test_y == y_test7_pred) / len(data_test_y)))"
   ]
  },
  {
   "cell_type": "code",
   "execution_count": 68,
   "metadata": {},
   "outputs": [
    {
     "name": "stdout",
     "output_type": "stream",
     "text": [
      "The classification accuracy of LDA model is:0.8725\n"
     ]
    }
   ],
   "source": [
    "#LDA model and fit\n",
    "model_lda = LinearDiscriminantAnalysis().fit(data_train_x, data_train_y)\n",
    "y_lda_pre=model_lda.predict(data_train_x)\n",
    "#Classification accuracy on training data of lda\n",
    "print(\"The classification accuracy of LDA model is:{:.4f}\".format(np.sum(data_train_y == y_lda_pre) / len(data_train_y)))"
   ]
  },
  {
   "cell_type": "code",
   "execution_count": 69,
   "metadata": {},
   "outputs": [
    {
     "name": "stdout",
     "output_type": "stream",
     "text": [
      "The classification accuracy of LDA model on test data is:0.8319\n"
     ]
    }
   ],
   "source": [
    "#Classification accuracy on test data of lda\n",
    "y_lda_test_pre=model_lda.predict(data_test_x)\n",
    "print(\"The classification accuracy of LDA model on test data is:{:.4f}\".format(np.sum(data_test_y == y_lda_test_pre) / len(data_test_y)))"
   ]
  },
  {
   "cell_type": "code",
   "execution_count": 70,
   "metadata": {},
   "outputs": [
    {
     "name": "stdout",
     "output_type": "stream",
     "text": [
      "The classification accuracy of QDA model is:0.8725\n"
     ]
    }
   ],
   "source": [
    "#QDA model and fit\n",
    "model_qda = QuadraticDiscriminantAnalysis().fit(data_train_x, data_train_y)\n",
    "y_qda_pre=model_qda.predict(data_train_x)\n",
    "#Classification accuracy on training data of qda\n",
    "print(\"The classification accuracy of QDA model is:{:.4f}\".format(np.sum(data_train_y == y_qda_pre) / len(data_train_y)))"
   ]
  },
  {
   "cell_type": "code",
   "execution_count": 71,
   "metadata": {},
   "outputs": [
    {
     "name": "stdout",
     "output_type": "stream",
     "text": [
      "The classification accuracy of QDA model on test data is:0.8496\n"
     ]
    }
   ],
   "source": [
    "#Classification accuracy on test data of qda\n",
    "y_qda_test_pre=model_qda.predict(data_test_x)\n",
    "print(\"The classification accuracy of QDA model on test data is:{:.4f}\".format(np.sum(data_test_y == y_qda_test_pre) / len(data_test_y)))"
   ]
  },
  {
   "cell_type": "code",
   "execution_count": 72,
   "metadata": {},
   "outputs": [
    {
     "data": {
      "text/html": [
       "<div>\n",
       "<style scoped>\n",
       "    .dataframe tbody tr th:only-of-type {\n",
       "        vertical-align: middle;\n",
       "    }\n",
       "\n",
       "    .dataframe tbody tr th {\n",
       "        vertical-align: top;\n",
       "    }\n",
       "\n",
       "    .dataframe thead th {\n",
       "        text-align: right;\n",
       "    }\n",
       "</style>\n",
       "<table border=\"1\" class=\"dataframe\">\n",
       "  <thead>\n",
       "    <tr style=\"text-align: right;\">\n",
       "      <th></th>\n",
       "      <th>CV1</th>\n",
       "      <th>CV2</th>\n",
       "      <th>CV3</th>\n",
       "      <th>meanCV</th>\n",
       "    </tr>\n",
       "  </thead>\n",
       "  <tbody>\n",
       "    <tr>\n",
       "      <th>1</th>\n",
       "      <td>0.800000</td>\n",
       "      <td>0.852941</td>\n",
       "      <td>0.939394</td>\n",
       "      <td>0.864112</td>\n",
       "    </tr>\n",
       "    <tr>\n",
       "      <th>2</th>\n",
       "      <td>0.742857</td>\n",
       "      <td>0.882353</td>\n",
       "      <td>0.909091</td>\n",
       "      <td>0.844767</td>\n",
       "    </tr>\n",
       "    <tr>\n",
       "      <th>3</th>\n",
       "      <td>0.885714</td>\n",
       "      <td>0.941176</td>\n",
       "      <td>0.969697</td>\n",
       "      <td>0.932196</td>\n",
       "    </tr>\n",
       "    <tr>\n",
       "      <th>4</th>\n",
       "      <td>0.828571</td>\n",
       "      <td>0.941176</td>\n",
       "      <td>0.909091</td>\n",
       "      <td>0.892946</td>\n",
       "    </tr>\n",
       "    <tr>\n",
       "      <th>5</th>\n",
       "      <td>0.828571</td>\n",
       "      <td>0.882353</td>\n",
       "      <td>0.909091</td>\n",
       "      <td>0.873338</td>\n",
       "    </tr>\n",
       "    <tr>\n",
       "      <th>6</th>\n",
       "      <td>0.828571</td>\n",
       "      <td>0.852941</td>\n",
       "      <td>0.878788</td>\n",
       "      <td>0.853433</td>\n",
       "    </tr>\n",
       "    <tr>\n",
       "      <th>7</th>\n",
       "      <td>0.857143</td>\n",
       "      <td>0.852941</td>\n",
       "      <td>0.939394</td>\n",
       "      <td>0.883159</td>\n",
       "    </tr>\n",
       "    <tr>\n",
       "      <th>8</th>\n",
       "      <td>0.828571</td>\n",
       "      <td>0.852941</td>\n",
       "      <td>0.909091</td>\n",
       "      <td>0.863535</td>\n",
       "    </tr>\n",
       "    <tr>\n",
       "      <th>9</th>\n",
       "      <td>0.885714</td>\n",
       "      <td>0.852941</td>\n",
       "      <td>0.909091</td>\n",
       "      <td>0.882582</td>\n",
       "    </tr>\n",
       "    <tr>\n",
       "      <th>10</th>\n",
       "      <td>0.857143</td>\n",
       "      <td>0.794118</td>\n",
       "      <td>0.909091</td>\n",
       "      <td>0.853450</td>\n",
       "    </tr>\n",
       "    <tr>\n",
       "      <th>11</th>\n",
       "      <td>0.885714</td>\n",
       "      <td>0.852941</td>\n",
       "      <td>0.909091</td>\n",
       "      <td>0.882582</td>\n",
       "    </tr>\n",
       "    <tr>\n",
       "      <th>12</th>\n",
       "      <td>0.800000</td>\n",
       "      <td>0.794118</td>\n",
       "      <td>0.848485</td>\n",
       "      <td>0.814201</td>\n",
       "    </tr>\n",
       "    <tr>\n",
       "      <th>13</th>\n",
       "      <td>0.800000</td>\n",
       "      <td>0.794118</td>\n",
       "      <td>0.878788</td>\n",
       "      <td>0.824302</td>\n",
       "    </tr>\n",
       "    <tr>\n",
       "      <th>14</th>\n",
       "      <td>0.800000</td>\n",
       "      <td>0.764706</td>\n",
       "      <td>0.848485</td>\n",
       "      <td>0.804397</td>\n",
       "    </tr>\n",
       "    <tr>\n",
       "      <th>15</th>\n",
       "      <td>0.800000</td>\n",
       "      <td>0.764706</td>\n",
       "      <td>0.878788</td>\n",
       "      <td>0.814498</td>\n",
       "    </tr>\n",
       "  </tbody>\n",
       "</table>\n",
       "</div>"
      ],
      "text/plain": [
       "         CV1       CV2       CV3    meanCV\n",
       "1   0.800000  0.852941  0.939394  0.864112\n",
       "2   0.742857  0.882353  0.909091  0.844767\n",
       "3   0.885714  0.941176  0.969697  0.932196\n",
       "4   0.828571  0.941176  0.909091  0.892946\n",
       "5   0.828571  0.882353  0.909091  0.873338\n",
       "6   0.828571  0.852941  0.878788  0.853433\n",
       "7   0.857143  0.852941  0.939394  0.883159\n",
       "8   0.828571  0.852941  0.909091  0.863535\n",
       "9   0.885714  0.852941  0.909091  0.882582\n",
       "10  0.857143  0.794118  0.909091  0.853450\n",
       "11  0.885714  0.852941  0.909091  0.882582\n",
       "12  0.800000  0.794118  0.848485  0.814201\n",
       "13  0.800000  0.794118  0.878788  0.824302\n",
       "14  0.800000  0.764706  0.848485  0.804397\n",
       "15  0.800000  0.764706  0.878788  0.814498"
      ]
     },
     "execution_count": 72,
     "metadata": {},
     "output_type": "execute_result"
    }
   ],
   "source": [
    "#Find best neighbour number of Knn model\n",
    "CV_scores = np.zeros((15,3))\n",
    "for i,n in enumerate(range(1,16)):\n",
    "    Knn_model = KNeighborsClassifier(n_neighbors = n)\n",
    "    CV_scores[i,:] = cross_val_score(Knn_model, data_train_x, data_train_y, cv=3)\n",
    "\n",
    "CV_df = pd.DataFrame(CV_scores, index=list(range(1,16)), columns= [\"CV1\",\"CV2\",\"CV3\"])\n",
    "CV_df['meanCV'] = np.mean(CV_scores, axis=1)\n",
    "\n",
    "CV_df"
   ]
  },
  {
   "cell_type": "code",
   "execution_count": 73,
   "metadata": {},
   "outputs": [],
   "source": [
    "optimal_knn = KNeighborsClassifier(n_neighbors = 3).fit(data_train_x, data_train_y)"
   ]
  },
  {
   "cell_type": "code",
   "execution_count": 74,
   "metadata": {},
   "outputs": [
    {
     "name": "stdout",
     "output_type": "stream",
     "text": [
      "The classification accuracy of Knn model is:0.9314\n"
     ]
    }
   ],
   "source": [
    "y_knn_pred=optimal_knn.predict(data_train_x)\n",
    "#Classification accuracy on training data of qda\n",
    "print(\"The classification accuracy of Knn model is:{:.4f}\".format(np.sum(data_train_y == y_knn_pred) / len(data_train_y)))"
   ]
  },
  {
   "cell_type": "code",
   "execution_count": 75,
   "metadata": {},
   "outputs": [
    {
     "name": "stdout",
     "output_type": "stream",
     "text": [
      "The classification accuracy of KNN model on test data is:0.8673\n"
     ]
    }
   ],
   "source": [
    "y_knn_pred_test=optimal_knn.predict(data_test_x)\n",
    "#Classification accuracy on training data of qda\n",
    "print(\"The classification accuracy of KNN model on test data is:{:.4f}\".format(np.sum(data_test_y == y_knn_pred_test) / len(data_test_y)))"
   ]
  },
  {
   "cell_type": "markdown",
   "metadata": {},
   "source": [
    "**7.5:** Does the inclusion of the polynomial terms in logistic regression yield better test accuracy compared to the model with only linear terms? "
   ]
  },
  {
   "cell_type": "markdown",
   "metadata": {},
   "source": [
    "----\n",
    "Your answer here:\n",
    "\n",
    "**Compare with the test accuracy in Q7.2, which has test accuracy 0.885, the model with polynomial terms has slightly less test accuracy (0.876).**\n",
    "\n",
    "----"
   ]
  },
  {
   "cell_type": "markdown",
   "metadata": {},
   "source": [
    "## Question 8: Visualize Decision Boundaries\n",
    "\n",
    "The following code will allow you to visualize the decision boundaries of a given classification model."
   ]
  },
  {
   "cell_type": "code",
   "execution_count": 76,
   "metadata": {},
   "outputs": [],
   "source": [
    "#--------  plot_decision_boundary\n",
    "# A function that visualizes the data and the decision boundaries\n",
    "# Input: \n",
    "#      x (predictors)\n",
    "#      y (labels)\n",
    "#      model (the classifier you want to visualize)\n",
    "#      title (title for plot)\n",
    "#      ax (a set of axes to plot on)\n",
    "#      poly_degree (highest degree of polynomial terms included in the model; None by default)\n",
    "\n",
    "def plot_decision_boundary(x, y, model, title, ax, poly_degree=None):\n",
    "    # Create mesh\n",
    "    # Interval of points for biomarker 1\n",
    "    min0 = x[:,0].min()\n",
    "    max0 = x[:,0].max()\n",
    "    interval0 = np.arange(min0, max0, (max0-min0)/100)\n",
    "    n0 = np.size(interval0)\n",
    "    \n",
    "    # Interval of points for biomarker 2\n",
    "    min1 = x[:,1].min()\n",
    "    max1 = x[:,1].max()\n",
    "    interval1 = np.arange(min1, max1, (max1-min1)/100)\n",
    "    n1 = np.size(interval1)\n",
    "\n",
    "    # Create mesh grid of points\n",
    "    x1, x2 = np.meshgrid(interval0, interval1)\n",
    "    x1 = x1.reshape(-1,1)\n",
    "    x2 = x2.reshape(-1,1)\n",
    "    xx = np.concatenate((x1, x2), axis=1)\n",
    "\n",
    "    # Predict on mesh of points\n",
    "    # Check if polynomial terms need to be included\n",
    "    if(poly_degree!=None):\n",
    "        # Use PolynomialFeatures to generate polynomial terms\n",
    "        poly = PolynomialFeatures(poly_degree,include_bias = False)\n",
    "        xx_ = poly.fit_transform(xx)\n",
    "        yy = model.predict(xx_) \n",
    "        \n",
    "    else:   \n",
    "        yy = model.predict(xx)\n",
    "        \n",
    "    yy = yy.reshape((n0, n1))\n",
    "\n",
    "    # Plot decision surface\n",
    "    x1 = x1.reshape(n0, n1)\n",
    "    x2 = x2.reshape(n0, n1)\n",
    "    ax.contourf(x1, x2, yy, cmap=plt.cm.coolwarm, alpha=0.8)\n",
    "    \n",
    "    # Plot scatter plot of data\n",
    "    yy = y.reshape(-1,)\n",
    "    ax.scatter(x[yy==1,0], x[yy==1,1], c='blue', label='Normal', cmap=plt.cm.coolwarm)\n",
    "    ax.scatter(x[yy==2,0], x[yy==2,1], c='cyan', label='Hyper', cmap=plt.cm.coolwarm)\n",
    "    ax.scatter(x[yy==3,0], x[yy==3,1], c='red', label='Hypo', cmap=plt.cm.coolwarm)\n",
    "    \n",
    "    # Label axis, title\n",
    "    ax.set_title(title)\n",
    "    ax.set_xlabel('Biomarker 1')\n",
    "    ax.set_ylabel('Biomarker 2')"
   ]
  },
  {
   "cell_type": "markdown",
   "metadata": {},
   "source": [
    "**Note:** The provided code uses `sklearn`'s `PolynomialFeatures` to generate higher-order polynomial terms, with degree `poly_degree`. \n",
    "Also, if you have loaded the data sets into `pandas` data frames, you may use the `as_matrix` function to obtain a `numpy` array from the data frame objects.\n",
    "\n",
    "1. Use the above code to visualize the decision boundaries for each of the model fitted in the previous question.\n",
    "2. Comment on the difference in the decision boundaries (if any) for the OvR and multinomial logistic regression models. Is there a difference between the decision boundaries for the linear logistic regression models and LDA. What about the decision boundaries for the quadratic logistic regression and QDA? Give an explanation for your answer.\n",
    "3. QDA is a generalization of the LDA model. What's the primary difference that makes QDA more general? How does that manifest in the plots you generated?"
   ]
  },
  {
   "cell_type": "markdown",
   "metadata": {
    "collapsed": true
   },
   "source": [
    "#### Answers:\n",
    "\n",
    "**8.1:** Use the above code to visualize the decision boundaries for each of the model fitted in the previous question."
   ]
  },
  {
   "cell_type": "code",
   "execution_count": 77,
   "metadata": {},
   "outputs": [],
   "source": [
    "#Re-generate quatratic terms for multinomial logistic regression model\n",
    "data_x_mul=data_train_x.copy()\n",
    "poly=PolynomialFeatures(degree=2, include_bias=False)\n",
    "data_x_matr=poly.fit_transform(data_train_x)"
   ]
  },
  {
   "cell_type": "code",
   "execution_count": 78,
   "metadata": {},
   "outputs": [],
   "source": [
    "#Introduce Ovr model to do comparison with multinomial logistic regression model\n",
    "OvR_model=lcv=LogisticRegressionCV(Cs=[0.001, 0.1, 0.5, 1, 3, 10, 100, 1000], solver='newton-cg', max_iter=250).fit(data_train_x, data_train_y)"
   ]
  },
  {
   "cell_type": "code",
   "execution_count": 79,
   "metadata": {},
   "outputs": [
    {
     "data": {
      "image/png": "[encoded data removed]",
      "text/plain": [
       "<Figure size 720x720 with 1 Axes>"
      ]
     },
     "metadata": {},
     "output_type": "display_data"
    }
   ],
   "source": [
    "#Visualize the decision boundary of Multinomial logistic regression model\n",
    "fig,ax=plt.subplots(figsize=(10,10))\n",
    "plot_decision_boundary(data_train_x.values, data_train_y.values, OvR_model, 'OvR_model', ax, poly_degree=None)"
   ]
  },
  {
   "cell_type": "code",
   "execution_count": 80,
   "metadata": {},
   "outputs": [
    {
     "data": {
      "image/png": "[encoded data removed]",
      "text/plain": [
       "<Figure size 720x720 with 1 Axes>"
      ]
     },
     "metadata": {},
     "output_type": "display_data"
    }
   ],
   "source": [
    "#Visualize the decision boundary of Multinomial logistic regression model\n",
    "fig,ax=plt.subplots(figsize=(10,10))\n",
    "plot_decision_boundary(data_x_matr, data_train_y.values, multi_logist, 'Multinomial_model', ax, poly_degree=2)"
   ]
  },
  {
   "cell_type": "code",
   "execution_count": 81,
   "metadata": {},
   "outputs": [
    {
     "data": {
      "image/png": "[encoded data removed]",
      "text/plain": [
       "<Figure size 720x720 with 1 Axes>"
      ]
     },
     "metadata": {},
     "output_type": "display_data"
    }
   ],
   "source": [
    "#Visualize the decision boundary of LDA model\n",
    "fig,ax=plt.subplots(figsize=(10,10))\n",
    "plot_decision_boundary(data_train_x.values, data_train_y.values, model_lda, 'LDA_model', ax, poly_degree=None)"
   ]
  },
  {
   "cell_type": "code",
   "execution_count": 82,
   "metadata": {},
   "outputs": [
    {
     "data": {
      "image/png": "[encoded data removed]",
      "text/plain": [
       "<Figure size 720x720 with 1 Axes>"
      ]
     },
     "metadata": {},
     "output_type": "display_data"
    }
   ],
   "source": [
    "#Visualize the decision boundary of QDA model\n",
    "fig,ax=plt.subplots(figsize=(10,10))\n",
    "plot_decision_boundary(data_train_x.values, data_train_y.values, model_qda, 'QDA_model', ax, poly_degree=None)"
   ]
  },
  {
   "cell_type": "code",
   "execution_count": 83,
   "metadata": {},
   "outputs": [
    {
     "data": {
      "image/png": "[encoded data removed]",
      "text/plain": [
       "<Figure size 720x720 with 1 Axes>"
      ]
     },
     "metadata": {},
     "output_type": "display_data"
    }
   ],
   "source": [
    "#Visualize the decision boundary of Knn model\n",
    "fig,ax=plt.subplots(figsize=(10,10))\n",
    "plot_decision_boundary(data_train_x.values, data_train_y.values, optimal_knn, 'Knn_model', ax, poly_degree=None)"
   ]
  },
  {
   "cell_type": "markdown",
   "metadata": {},
   "source": [
    "**8.2:** Comment on the difference in the decision boundaries (if any) for the OvR and multinomial logistic regression models. Is there a difference between the decision boundaries for the linear logistic regression models and LDA. What about the decision boundaries for the quadratic logistic regression and QDA? Give an explanation for your answer."
   ]
  },
  {
   "cell_type": "markdown",
   "metadata": {},
   "source": [
    "---\n",
    "Your answer here:\n",
    "\n",
    "**When introducing quadratic terms into the model, the decision boundaries of the OvR and multinomial logistic regression models came out very similar. But multinomial logistic regression model has better decision boundary than OvR without quadratic terms. Compare to linear logistic regression model, the descion boundary of LDA works better. Quadratic logistic regression works better than QDA.**\n",
    "\n",
    "---"
   ]
  },
  {
   "cell_type": "markdown",
   "metadata": {},
   "source": [
    "**8.3:** QDA is a generalization of the LDA model. What's the primary difference that makes QDA more general? How does that manifest in the plots you generated?"
   ]
  },
  {
   "cell_type": "markdown",
   "metadata": {},
   "source": [
    "---\n",
    "Your answer here:\n",
    "\n",
    "**If the boundary of the classes are not linear, than QDA will be more general. In the plots I generated, QDA is more powerful to to classify the different classes.**\n",
    "\n",
    "---"
   ]
  }
 ],
 "metadata": {
  "anaconda-cloud": {},
  "kernelspec": {
   "display_name": "Python 3",
   "language": "python",
   "name": "python3"
  },
  "language_info": {
   "codemirror_mode": {
    "name": "ipython",
    "version": 3
   },
   "file_extension": ".py",
   "mimetype": "text/x-python",
   "name": "python",
   "nbconvert_exporter": "python",
   "pygments_lexer": "ipython3",
   "version": "3.6.5"
  }
 },
 "nbformat": 4,
 "nbformat_minor": 2
}
