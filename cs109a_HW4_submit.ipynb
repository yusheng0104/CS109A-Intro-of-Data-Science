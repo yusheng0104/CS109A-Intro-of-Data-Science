{
 "cells": [
  {
   "cell_type": "markdown",
   "metadata": {},
   "source": [
    "# <img style=\"float: left; padding-right: 10px; width: 45px\" src=\"fig/iacs.png\"> S-109A Introduction to Data Science \n",
    "## Homework 4 - Regularization \n",
    "\n",
    "\n",
    "\n",
    "**Harvard University**<br/>\n",
    "**Summer 2018**<br/>\n",
    "**Instructors**: Pavlos Protopapas, Kevin Rader\n",
    "\n",
    "<hr style=\"height:2pt\">"
   ]
  },
  {
   "cell_type": "markdown",
   "metadata": {},
   "source": [
    "### INSTRUCTIONS\n",
    "\n",
    "- To submit your assignment follow the instructions given in canvas.\n",
    "- Restart the kernel and run the whole notebook again before you submit. \n",
    "- If you submit individually and you have worked with someone, please include the name of your [one] partner below. \n",
    "\n",
    "Names of people you have worked with goes here: \n",
    "\n",
    "<hr style=\"height:2pt\">"
   ]
  },
  {
   "cell_type": "code",
   "execution_count": 1,
   "metadata": {},
   "outputs": [
    {
     "data": {
      "text/html": [
       "<style>\n",
       "h1 { \n",
       "    padding-top: 25px;\n",
       "    padding-bottom: 25px;\n",
       "    text-align: left; \n",
       "    padding-left: 10px;\n",
       "    background-color: #DDDDDD; \n",
       "    color: black;\n",
       "}\n",
       "div.exercise {\n",
       "\tbackground-color: #ffcccc;\n",
       "\tborder-color: #E9967A; \t\n",
       "\tborder-left: 5px solid #800080; \n",
       "\tpadding: 0.5em;\n",
       "}\n",
       "div.theme {\n",
       "\tbackground-color: #DDDDDD;\n",
       "\tborder-color: #E9967A; \t\n",
       "\tborder-left: 5px solid #800080; \n",
       "\tpadding: 0.5em;\n",
       "\tfont-size: 18pt;\n",
       "}\n",
       "p.q1 { \n",
       "    padding-top: 5px;\n",
       "    padding-bottom: 5px;\n",
       "    text-align: left; \n",
       "    padding-left: 5px;\n",
       "    background-color: #EEEEEE; \n",
       "    color: black;\n",
       "}\n",
       "header {\n",
       "   padding-top: 35px;\n",
       "    padding-bottom: 35px;\n",
       "    text-align: left; \n",
       "    padding-left: 10px;\n",
       "    background-color: #DDDDDD; \n",
       "    color: black;\n",
       "}\n",
       "</style>\n",
       "\n"
      ],
      "text/plain": [
       "<IPython.core.display.HTML object>"
      ]
     },
     "execution_count": 1,
     "metadata": {},
     "output_type": "execute_result"
    }
   ],
   "source": [
    "from IPython.core.display import HTML\n",
    "def css_styling(): styles = open(\"cs109.css\", \"r\").read(); return HTML(styles)\n",
    "css_styling()"
   ]
  },
  {
   "cell_type": "markdown",
   "metadata": {},
   "source": [
    "import these libraries"
   ]
  },
  {
   "cell_type": "code",
   "execution_count": 2,
   "metadata": {},
   "outputs": [],
   "source": [
    "import warnings\n",
    "warnings.filterwarnings('ignore')\n",
    "import numpy as np\n",
    "import pandas as pd\n",
    "import matplotlib\n",
    "import matplotlib.pyplot as plt\n",
    "from sklearn.metrics import r2_score\n",
    "from sklearn.preprocessing import PolynomialFeatures\n",
    "from sklearn.linear_model import Ridge\n",
    "from sklearn.linear_model import Lasso\n",
    "from sklearn.linear_model import RidgeCV\n",
    "from sklearn.linear_model import LassoCV\n",
    "from sklearn.linear_model import LinearRegression\n",
    "from sklearn.preprocessing import StandardScaler\n",
    "\n",
    "from sklearn.model_selection import cross_val_score\n",
    "from sklearn.model_selection import LeaveOneOut\n",
    "from sklearn.model_selection import KFold\n",
    "\n",
    "#import statsmodels.api as sm\n",
    "\n",
    "from pandas.core import datetools\n",
    "%matplotlib inline"
   ]
  },
  {
   "cell_type": "markdown",
   "metadata": {},
   "source": [
    "# Continuing Bike Sharing Usage Data\n",
    "\n",
    "In this homework, we will focus on regularization and cross validation. We will continue to build regression models for the Capital Bikeshare program in Washington D.C.  See homework 3 for more information about the Capital Bikeshare data that we'll be using extensively. \n",
    "\n"
   ]
  },
  {
   "cell_type": "markdown",
   "metadata": {},
   "source": [
    "## Data Preparation\n",
    "\n",
    "\n",
    "\n",
    "<div class='exercise'> <b> Question 1 </b> </div> \n",
    "  In HW3 Questions 1-3, you preprocessed the data in preparation for your regression analysis. We ask you to repeat those steps (particularly those in Question 3) so that we can compare the analysis models in this HW with those you developed in HW3.  In this HW we'll be using models from sklearn exclusively (as opposed to statsmodels)\n",
    "  \n",
    "**1.1** [From HW3] Read `data/BSS_train.csv` and `data/BSS_test.csv` into dataframes `BSS_train` and `BSS_test`, respectively.  Remove the `dteday` column from both train and test dataset. We do not need it, and its format cannot be used for analysis.  Also remove the `casual` and `registered` columns for both training and test datasets as they make  `count` trivial.   \n",
    "\n",
    "**1.2** Since we'll be exploring Regularization and Polynomial Features, it will make sense to standardize our data.  Standardize the numerical features. Store the dataframes for the processed training and test predictors into the variables `X_train` and `X_test`.  Store the appropriately shaped numpy arrays for the corresponding train and test `count` columns into `y_train` and `y_test`.\n",
    "\n",
    "**1.3** Use the `LinearRegression` library from `sklearn` to fit a multiple linear regression model to the training set data in `X_train`.  Store the fitted model in the variable `BikeOLSModel`.\n",
    "\n",
    "**1.4** What are the training and test set $R^2$ scores?  Store the training and test $R^2$ scores of the `BikeOLSModel` in a dictionary `BikeOLS_r2scores` using the string 'training' and 'test' as keys.  \n",
    "\n",
    "**1.5**   We're going to use bootstrapped confidence intervals (use 500 bootstrap iterations) to determine which of the estimated coefficients for the `BikeOLSModel` are statistically significant at a significance level of 5% .  We'll do so by creating 3 different functions:\n",
    "\n",
    "1. `make_bootstrap_sample(dataset_X, dataset_y)` returns a bootstrap sample of `dataset_X` and `dataset_y`\n",
    "2. `calculate_coefficients(dataset_X, dataset_y, model)` returns in the form of a dictionary regression coefficients calculated by your model on `dataset_X` and `dataset_y`.  The keys for regression coefficients dictionary should be the names of the features.  The values should be the coefficient values of that feature calculated on your model.  An example would be {'hum': 12.3, 'windspeed': -1.2, 'Sunday': 0.6 ... }\n",
    "3. `get_significant_predictors(regression_coefficients, significance_level)` takes as input a list of regression coefficient dictionaries (each one the output of `calculate_coefficients` and  returns a python list of the feature names of the significant predictors e.g. ['Monday', 'hum', 'holiday', ... ]\n",
    "\n",
    "In the above functions `dataset_X` should always be a pandas dataframe with your features, `dataset_y` a numpy column vector with the values of the response variable and collectively they form the dataset upon which the operations take place. `model` is the `sklearn` regression model that will be used to generate the regression coefficients. `regression_coefficients` is a list of dictionaries of numpy arrays with each numpy array containing the regression coefficients (not including the intercept) calculated from one bootstrap sample.  `significance_level` represents the significance level as a floating point number.  So a 5% significance level should be represented as 0.05.  \n",
    "\n",
    "\n",
    "Store the feature names as a list of strings in the variable `BikeOLS_significant_bootstrap` and print them for your answer.\n"
   ]
  },
  {
   "cell_type": "markdown",
   "metadata": {},
   "source": [
    "### Answers"
   ]
  },
  {
   "cell_type": "markdown",
   "metadata": {},
   "source": [
    "#### 1.1 Read `data/BSS_train.csv` and `data/BSS_test.csv` into Pandas DataFrames"
   ]
  },
  {
   "cell_type": "code",
   "execution_count": 3,
   "metadata": {},
   "outputs": [],
   "source": [
    "# your code here\n",
    "BSS_train=pd.read_csv(\"data/BSS_train.csv\").drop(['Unnamed: 0','dteday', 'casual', 'registered'], axis=1)\n",
    "BSS_test=pd.read_csv(\"data/BSS_test.csv\").drop(['Unnamed: 0', 'dteday', 'casual', 'registered'], axis=1)\n"
   ]
  },
  {
   "cell_type": "markdown",
   "metadata": {},
   "source": [
    "#### 1.2 Standardizing our data"
   ]
  },
  {
   "cell_type": "code",
   "execution_count": 4,
   "metadata": {},
   "outputs": [],
   "source": [
    "# your code here\n",
    "#Standardize the numeric predictors of training and test data\n",
    "scaler = StandardScaler().fit(BSS_train[['temp', 'atemp', 'hum']])\n",
    "transformed_train_num=scaler.transform(BSS_train[['temp', 'atemp', 'hum']]) \n",
    "transformed_test_num=scaler.transform(BSS_test[['temp', 'atemp', 'hum']]) \n"
   ]
  },
  {
   "cell_type": "code",
   "execution_count": 5,
   "metadata": {},
   "outputs": [],
   "source": [
    "#Drop the old numeric predictors from training and testing data, and combine transformed ones into a dataframe\n",
    "x_train=BSS_train.drop(['counts', 'temp', 'atemp', 'hum'], axis=1)\n",
    "transformed_features = pd.DataFrame({'temp':transformed_train_num[:,0],'atemp':transformed_train_num[:,1], 'hum':transformed_train_num[:,2]})\n",
    "x_test=BSS_test.drop(['counts', 'temp', 'atemp', 'hum'], axis=1)\n",
    "transformed_test_features = pd.DataFrame({'temp':transformed_test_num[:,0],'atemp':transformed_test_num[:,1], 'hum':transformed_test_num[:,2]})"
   ]
  },
  {
   "cell_type": "code",
   "execution_count": 6,
   "metadata": {},
   "outputs": [],
   "source": [
    "#Merge the transformed numeric features into y_train and y_test\n",
    "x_train[['temp', 'atemp', 'hum']]=transformed_features[['temp', 'atemp', 'hum']]\n",
    "x_test[['temp', 'atemp', 'hum']]=transformed_test_features[['temp', 'atemp', 'hum']]"
   ]
  },
  {
   "cell_type": "code",
   "execution_count": 7,
   "metadata": {},
   "outputs": [],
   "source": [
    "#Generate the dataframe of response variable\n",
    "y_train=BSS_train['counts']\n",
    "y_test=BSS_test['counts']"
   ]
  },
  {
   "cell_type": "code",
   "execution_count": 8,
   "metadata": {},
   "outputs": [
    {
     "data": {
      "text/html": [
       "<div>\n",
       "<style scoped>\n",
       "    .dataframe tbody tr th:only-of-type {\n",
       "        vertical-align: middle;\n",
       "    }\n",
       "\n",
       "    .dataframe tbody tr th {\n",
       "        vertical-align: top;\n",
       "    }\n",
       "\n",
       "    .dataframe thead th {\n",
       "        text-align: right;\n",
       "    }\n",
       "</style>\n",
       "<table border=\"1\" class=\"dataframe\">\n",
       "  <thead>\n",
       "    <tr style=\"text-align: right;\">\n",
       "      <th></th>\n",
       "      <th>hour</th>\n",
       "      <th>holiday</th>\n",
       "      <th>year</th>\n",
       "      <th>workingday</th>\n",
       "      <th>windspeed</th>\n",
       "      <th>spring</th>\n",
       "      <th>summer</th>\n",
       "      <th>fall</th>\n",
       "      <th>Feb</th>\n",
       "      <th>Mar</th>\n",
       "      <th>...</th>\n",
       "      <th>Wed</th>\n",
       "      <th>Thu</th>\n",
       "      <th>Fri</th>\n",
       "      <th>Sat</th>\n",
       "      <th>Cloudy</th>\n",
       "      <th>Snow</th>\n",
       "      <th>Storm</th>\n",
       "      <th>temp</th>\n",
       "      <th>atemp</th>\n",
       "      <th>hum</th>\n",
       "    </tr>\n",
       "  </thead>\n",
       "  <tbody>\n",
       "    <tr>\n",
       "      <th>0</th>\n",
       "      <td>0</td>\n",
       "      <td>0</td>\n",
       "      <td>0</td>\n",
       "      <td>0</td>\n",
       "      <td>0.0</td>\n",
       "      <td>0</td>\n",
       "      <td>0</td>\n",
       "      <td>0</td>\n",
       "      <td>0</td>\n",
       "      <td>0</td>\n",
       "      <td>...</td>\n",
       "      <td>0</td>\n",
       "      <td>0</td>\n",
       "      <td>0</td>\n",
       "      <td>1</td>\n",
       "      <td>0</td>\n",
       "      <td>0</td>\n",
       "      <td>0</td>\n",
       "      <td>-1.332339</td>\n",
       "      <td>-1.090615</td>\n",
       "      <td>0.937108</td>\n",
       "    </tr>\n",
       "    <tr>\n",
       "      <th>1</th>\n",
       "      <td>1</td>\n",
       "      <td>0</td>\n",
       "      <td>0</td>\n",
       "      <td>0</td>\n",
       "      <td>0.0</td>\n",
       "      <td>0</td>\n",
       "      <td>0</td>\n",
       "      <td>0</td>\n",
       "      <td>0</td>\n",
       "      <td>0</td>\n",
       "      <td>...</td>\n",
       "      <td>0</td>\n",
       "      <td>0</td>\n",
       "      <td>0</td>\n",
       "      <td>1</td>\n",
       "      <td>0</td>\n",
       "      <td>0</td>\n",
       "      <td>0</td>\n",
       "      <td>-1.436131</td>\n",
       "      <td>-1.179015</td>\n",
       "      <td>0.885320</td>\n",
       "    </tr>\n",
       "    <tr>\n",
       "      <th>2</th>\n",
       "      <td>2</td>\n",
       "      <td>0</td>\n",
       "      <td>0</td>\n",
       "      <td>0</td>\n",
       "      <td>0.0</td>\n",
       "      <td>0</td>\n",
       "      <td>0</td>\n",
       "      <td>0</td>\n",
       "      <td>0</td>\n",
       "      <td>0</td>\n",
       "      <td>...</td>\n",
       "      <td>0</td>\n",
       "      <td>0</td>\n",
       "      <td>0</td>\n",
       "      <td>1</td>\n",
       "      <td>0</td>\n",
       "      <td>0</td>\n",
       "      <td>0</td>\n",
       "      <td>-1.436131</td>\n",
       "      <td>-1.179015</td>\n",
       "      <td>0.885320</td>\n",
       "    </tr>\n",
       "    <tr>\n",
       "      <th>3</th>\n",
       "      <td>3</td>\n",
       "      <td>0</td>\n",
       "      <td>0</td>\n",
       "      <td>0</td>\n",
       "      <td>0.0</td>\n",
       "      <td>0</td>\n",
       "      <td>0</td>\n",
       "      <td>0</td>\n",
       "      <td>0</td>\n",
       "      <td>0</td>\n",
       "      <td>...</td>\n",
       "      <td>0</td>\n",
       "      <td>0</td>\n",
       "      <td>0</td>\n",
       "      <td>1</td>\n",
       "      <td>0</td>\n",
       "      <td>0</td>\n",
       "      <td>0</td>\n",
       "      <td>-1.332339</td>\n",
       "      <td>-1.090615</td>\n",
       "      <td>0.626377</td>\n",
       "    </tr>\n",
       "    <tr>\n",
       "      <th>4</th>\n",
       "      <td>4</td>\n",
       "      <td>0</td>\n",
       "      <td>0</td>\n",
       "      <td>0</td>\n",
       "      <td>0.0</td>\n",
       "      <td>0</td>\n",
       "      <td>0</td>\n",
       "      <td>0</td>\n",
       "      <td>0</td>\n",
       "      <td>0</td>\n",
       "      <td>...</td>\n",
       "      <td>0</td>\n",
       "      <td>0</td>\n",
       "      <td>0</td>\n",
       "      <td>1</td>\n",
       "      <td>0</td>\n",
       "      <td>0</td>\n",
       "      <td>0</td>\n",
       "      <td>-1.332339</td>\n",
       "      <td>-1.090615</td>\n",
       "      <td>0.626377</td>\n",
       "    </tr>\n",
       "  </tbody>\n",
       "</table>\n",
       "<p>5 rows × 31 columns</p>\n",
       "</div>"
      ],
      "text/plain": [
       "   hour  holiday  year  workingday  windspeed  spring  summer  fall  Feb  Mar  \\\n",
       "0     0        0     0           0        0.0       0       0     0    0    0   \n",
       "1     1        0     0           0        0.0       0       0     0    0    0   \n",
       "2     2        0     0           0        0.0       0       0     0    0    0   \n",
       "3     3        0     0           0        0.0       0       0     0    0    0   \n",
       "4     4        0     0           0        0.0       0       0     0    0    0   \n",
       "\n",
       "     ...     Wed  Thu  Fri  Sat  Cloudy  Snow  Storm      temp     atemp  \\\n",
       "0    ...       0    0    0    1       0     0      0 -1.332339 -1.090615   \n",
       "1    ...       0    0    0    1       0     0      0 -1.436131 -1.179015   \n",
       "2    ...       0    0    0    1       0     0      0 -1.436131 -1.179015   \n",
       "3    ...       0    0    0    1       0     0      0 -1.332339 -1.090615   \n",
       "4    ...       0    0    0    1       0     0      0 -1.332339 -1.090615   \n",
       "\n",
       "        hum  \n",
       "0  0.937108  \n",
       "1  0.885320  \n",
       "2  0.885320  \n",
       "3  0.626377  \n",
       "4  0.626377  \n",
       "\n",
       "[5 rows x 31 columns]"
      ]
     },
     "execution_count": 8,
     "metadata": {},
     "output_type": "execute_result"
    }
   ],
   "source": [
    "x_train.head()"
   ]
  },
  {
   "cell_type": "markdown",
   "metadata": {},
   "source": [
    "#### 1.3 Use the `LinearRegression` library from `sklearn` to fit a multiple linear regression."
   ]
  },
  {
   "cell_type": "code",
   "execution_count": 9,
   "metadata": {},
   "outputs": [],
   "source": [
    "# your code here\n",
    "BikeOLSModel = LinearRegression(fit_intercept = False).fit(x_train,y_train)\n"
   ]
  },
  {
   "cell_type": "markdown",
   "metadata": {},
   "source": [
    "#### 1.4 What are the training and test set $R^2$ scores? Store the $R^2$ scores of the `BikeOLSModel` on the training and test sets in a dictionary `BikeOLS_r2scores`. "
   ]
  },
  {
   "cell_type": "markdown",
   "metadata": {},
   "source": [
    "<HR>\n",
    "Your answer here:\n",
    "\n",
    "**The training and testing set R2 scores are 0.4046 and 0.4037, respectively.**\n",
    "<HR>"
   ]
  },
  {
   "cell_type": "code",
   "execution_count": 10,
   "metadata": {},
   "outputs": [],
   "source": [
    "# your code here\n",
    "R2_train=BikeOLSModel.score(x_train, y_train)\n",
    "R2_test=BikeOLSModel.score(x_test, y_test)\n",
    "BikeOLS_r2scores={}\n",
    "BikeOLS_r2scores['Train_R2']=R2_train\n",
    "BikeOLS_r2scores['Test_R2']=R2_test"
   ]
  },
  {
   "cell_type": "code",
   "execution_count": 11,
   "metadata": {},
   "outputs": [
    {
     "data": {
      "text/plain": [
       "{'Train_R2': 0.40455106458982126, 'Test_R2': 0.4036992405559716}"
      ]
     },
     "execution_count": 11,
     "metadata": {},
     "output_type": "execute_result"
    }
   ],
   "source": [
    "BikeOLS_r2scores"
   ]
  },
  {
   "cell_type": "markdown",
   "metadata": {},
   "source": [
    "#### 1.5 We're going to use bootstrapped confidence intervals to determine which of the estimated coefficients ..."
   ]
  },
  {
   "cell_type": "code",
   "execution_count": 12,
   "metadata": {},
   "outputs": [],
   "source": [
    "# your code here\n",
    "\n",
    "# dataset_x should be a pandas dataframe\n",
    "\n",
    "## accepts dataset inputs as numpy arrays\n",
    "def make_bootstrap_sample(dataset_X, dataset_y, size = None):\n",
    "    \n",
    "    # your code here\n",
    "    inds_to_sample = np.random.choice(y_train.shape[0], size=y_train.shape[0], replace=True)\n",
    "    bootstrap_dataset_X = pd.DataFrame(columns=list(x_train.columns.values))\n",
    "    for ele in x_train:\n",
    "        bootstrap_dataset_X[ele] = x_train[ele][inds_to_sample]\n",
    "    bootstrap_dataset_y = y_train[inds_to_sample]\n",
    "    # by default return a bootstrap sample of the same size as the original dataset\n",
    "    if not size: size = len(dataset_X)\n",
    "    \n",
    "    # if the X and y datasets aren't the same size, raise an exception\n",
    "    if len(dataset_X) != len(dataset_y):\n",
    "        raise Exception(\"Data size must match between dataset_X and dataset_y\")\n",
    "    \n",
    "    \n",
    "    \n",
    "    # return as a tuple your bootstrap samples of dataset_X as a pandas dataframe\n",
    "    # and your bootstrap samples of dataset y as a numpy column vector\n",
    "    \n",
    "    return (bootstrap_dataset_X, bootstrap_dataset_y)\n",
    "    \n",
    "\n",
    "def calculate_coefficients(dataset_X, dataset_y, model):\n",
    "    coefficients_dictionary = dict()\n",
    "    simp_reg =model().fit(dataset_X, dataset_y)\n",
    "    for i, col in enumerate(dataset_X):\n",
    "        coefficients_dictionary[col]=  simp_reg.coef_[i]\n",
    "    # your code here\n",
    "    \n",
    "    # return coefficients  in the variable  coefficients_dictioanry as a dictionary\n",
    "    # with the key being the name of the feature as a string\n",
    "    # the value being the value of the coefficients\n",
    "    # do not return the intercept as part of this\n",
    "    return coefficients_dictionary\n",
    "\n",
    "\n",
    "def get_significant_predictors(regression_coefficients, significance_level):\n",
    "    \n",
    "    significant_coefficients = []\n",
    "    \n",
    "    # your code here\n",
    "    for key in list(regression_coefficients[0].keys()):\n",
    "        s_level=np.percentile([dic[key] for dic in regression_coefficients], [2.5, 97.5])\n",
    "        if s_level[0]*s_level[1]>0:\n",
    "            significant_coefficients.append(key)\n",
    "    # regression_coefficients is a list of dictionaries\n",
    "    # with the key being the name of the feature as a string\n",
    "    # the value being the value of the coefficients\n",
    "    # each dictionary in th list should be the output of calculate_coefficients\n",
    "\n",
    "    # return the significant coefficients as a list of strings\n",
    "    return significant_coefficients"
   ]
  },
  {
   "cell_type": "code",
   "execution_count": 13,
   "metadata": {},
   "outputs": [],
   "source": [
    "#Test the functions for bootstrap\n",
    "adds=[]\n",
    "for _ in range(0, 500):\n",
    "    bootstrap0=make_bootstrap_sample(x_train, y_train, size = None)\n",
    "    coefficients=calculate_coefficients(bootstrap0[0], bootstrap0[1], LinearRegression)\n",
    "    adds.append(coefficients)\n",
    "BikeOLS_significant_bootstrap=get_significant_predictors(adds, [2.5, 97.5])"
   ]
  },
  {
   "cell_type": "code",
   "execution_count": 14,
   "metadata": {},
   "outputs": [
    {
     "name": "stdout",
     "output_type": "stream",
     "text": [
      "The significant predictors from bootstrap are: ['hour', 'year', 'spring', 'summer', 'fall', 'Mar', 'Apr', 'May', 'Jun', 'Jul', 'Aug', 'Oct', 'Nov', 'Sat', 'Cloudy', 'Snow', 'temp', 'hum']\n"
     ]
    }
   ],
   "source": [
    "print('The significant predictors from bootstrap are: {0}'.format(BikeOLS_significant_bootstrap))"
   ]
  },
  {
   "cell_type": "markdown",
   "metadata": {},
   "source": [
    "## Penalization Methods\n",
    "\n",
    "In HW 3 Question 5 we explored using subset selection to find a significant subset of features.  We then fit a regression model just on that subset of features instead of on the full dataset (including all features).   As an alternative to selecting a subset of predictors and fitting a regression model on the subset, one can fit a linear regression model on all predictors, but shrink or regularize the coefficient estimates to make sure that the model does not \"overfit\" the training set. \n",
    "\n",
    "<div class='exercise'> <b> Question 2 </b> </div> \n",
    "  We're going to use Ridge and Lasso regression regularization techniques to fit linear models to the training set.  We'll use cross-validation and shrinkage parameters $\\lambda$ from the set $\\{.001,.005,1,5,10,50,100,500,1000\\}$ to pick the best model for each regularization technique.\n",
    "\n",
    "**2.1** Use 5-fold cross-validation to pick the best shrinkage parameter from the set $\\{.001,.005,1,5,10,50,100,500,1000\\}$ for your Ridge Regression model on the training data.  Fit a Ridge Regression model on the training set with the selected shrinkage parameter and store your fitted model in the variable `BikeRRModel`.  Store the selected shrinkage parameter in the variable `BikeRR_shrinkage_parameter`.\n",
    "\n",
    "**2.2** Use 5-fold cross-validation to pick the best shrinkage parameter from the set $\\{.001,.005,1,5,10,50,100,500,1000\\}$ for your Lasso Regression model on the training data.  Fit a Lasso Regression model on the training set with the selected shrinkage parameter and store your fitted model in the variable `BikeLRModel`.  Store the selected shrinkage parameter in the variable `BikeLR_shrinkage_parameter`.\n",
    "\n",
    "**2.3** Create three dictionaries `BikeOLSparams`, `BikeLRparams`, and `BikeRRparams`.  Store in each the corresponding regression coefficients for each of the regression models indexed by the string feature name.\n",
    "\n",
    "**2.4** For the Lasso and Ridge Regression models list the features that are assigned a coefficient value close to 0 (i.e. the absolute value of the coefficient is less than 0.1).  How closely do they match the redundant predictors found (if any) in HW 3, Question 5?\n",
    "\n",
    "**2.5** To get a visual sense of how the features different regression models (Multiple Linear Regression, Ridge Regression, Lasso Regression) estimate coefficients, order the features by magnitude of the estimated coefficients in the Multiple Linear Regression Model (no shrinkage).  Plot a bar graph of the magnitude (absolute value) of the estimated coefficients from Multiple Linear Regression in order from greatest to least.  Using a different color (and alpha values) overlay bar graphs of the magnitude of the estimated coefficients (in the same order as the Multiple Linear Regression coefficients) from Ridge and Lasso Regression.\n",
    "\n",
    "**2.6** Let's examine a pair of features we believe to be related.  Is there a difference in the way Ridge and Lasso regression assign coefficients to the predictors `temp` and `atemp`? If so, explain the reason for the difference.\n",
    "\n",
    "**2.7** Discuss the Results:\n",
    "\n",
    "1. How do the estimated coefficients compare to or differ from the coefficients estimated by a plain linear regression (without shrinkage penalty) in Question 1? \n",
    "2. Is there a difference between coefficients estimated by the two shrinkage methods? If so, give an explantion for the difference.\n",
    "3. Is the significance related to the shrinkage in some way?\n",
    "\n",
    "*Hint:* You may use `sklearn`'s `RidgeCV` and `LassoCV` classes to implement Ridge and Lasso regression. These classes automatically perform cross-validation to tune the parameter $\\lambda$ from a given range of values."
   ]
  },
  {
   "cell_type": "markdown",
   "metadata": {},
   "source": [
    "### Answers"
   ]
  },
  {
   "cell_type": "code",
   "execution_count": 15,
   "metadata": {},
   "outputs": [],
   "source": [
    "lambdas = [.001, .005, 1, 5, 10, 50, 100, 500, 1000]"
   ]
  },
  {
   "cell_type": "markdown",
   "metadata": {},
   "source": [
    "#### 2.1 Use 5-fold cross-validation to pick the best shrinkage parameter from the set $\\{.001,.005,1,5,10,50,100,500,1000\\}$ for your Ridge Regression model."
   ]
  },
  {
   "cell_type": "code",
   "execution_count": 16,
   "metadata": {},
   "outputs": [],
   "source": [
    "# your code here\n",
    "ridgeCV_object = RidgeCV(alphas=(.001, .005, 1, 5, 10, 50, 100, 500, 1000), cv=5)\n",
    "ridgeCV_object.fit(x_train, y_train)\n",
    "BikeRRModel= Ridge(alpha = ridgeCV_object.alpha_).fit(x_train, y_train)\n",
    "BikeRR_shrinkage_parameter=ridgeCV_object.alpha_"
   ]
  },
  {
   "cell_type": "markdown",
   "metadata": {},
   "source": [
    "#### 2.2 Use 5-fold cross-validation to pick the best shrinkage parameter from the set $\\{.001,.005,1,5,10,50,100,500,1000\\}$ for your Lasso Regression model."
   ]
  },
  {
   "cell_type": "code",
   "execution_count": 17,
   "metadata": {},
   "outputs": [],
   "source": [
    "# your code here\n",
    "lassoCV_object = LassoCV(alphas=(.001, .005, 1, 5, 10, 50, 100, 500, 1000), cv=5)\n",
    "lassoCV_object.fit(x_train, y_train)\n",
    "BikeLRModel=Lasso(alpha = lassoCV_object.alpha_).fit(x_train, y_train)\n",
    "BikeLR_shrinkage_parameter=lassoCV_object.alpha_"
   ]
  },
  {
   "cell_type": "markdown",
   "metadata": {},
   "source": [
    "#### 2.3 Create three dictionaries `BikeOLSparams`, `BikeLRparams`, and `BikeRRparams`.  Store in each the corresponding regression coefficients."
   ]
  },
  {
   "cell_type": "code",
   "execution_count": 18,
   "metadata": {},
   "outputs": [],
   "source": [
    "# your code here\n",
    "BikeOLSparams= dict(zip(list(x_train.columns.values), list(BikeOLSModel.coef_)))\n",
    "BikeRRparams = dict(zip(list(x_train.columns.values), list(BikeRRModel.coef_)))\n",
    "BikeLRparams = dict(zip(list(x_train.columns.values), list(BikeLRModel.coef_)))"
   ]
  },
  {
   "cell_type": "markdown",
   "metadata": {},
   "source": [
    "#### 2.4 For the Lasso and Ridge Regression models list the features that are assigned a coefficient value close to 0 ..."
   ]
  },
  {
   "cell_type": "code",
   "execution_count": 19,
   "metadata": {},
   "outputs": [],
   "source": [
    "# your code here\n",
    "def find_features(dic):\n",
    "    cloo=[]\n",
    "    for key in dic:\n",
    "        if np.abs(dic[key])<0.1:\n",
    "            cloo.append(key)\n",
    "    return(cloo)"
   ]
  },
  {
   "cell_type": "code",
   "execution_count": 20,
   "metadata": {
    "scrolled": true
   },
   "outputs": [
    {
     "data": {
      "text/plain": [
       "['Mon', 'Thu']"
      ]
     },
     "execution_count": 20,
     "metadata": {},
     "output_type": "execute_result"
    }
   ],
   "source": [
    "find_features(BikeOLSparams)"
   ]
  },
  {
   "cell_type": "code",
   "execution_count": 21,
   "metadata": {},
   "outputs": [
    {
     "data": {
      "text/plain": [
       "[]"
      ]
     },
     "execution_count": 21,
     "metadata": {},
     "output_type": "execute_result"
    }
   ],
   "source": [
    "find_features(BikeRRparams)"
   ]
  },
  {
   "cell_type": "code",
   "execution_count": 22,
   "metadata": {
    "scrolled": true
   },
   "outputs": [
    {
     "data": {
      "text/plain": [
       "['Mon']"
      ]
     },
     "execution_count": 22,
     "metadata": {},
     "output_type": "execute_result"
    }
   ],
   "source": [
    "find_features(BikeLRparams)"
   ]
  },
  {
   "cell_type": "markdown",
   "metadata": {},
   "source": [
    "<HR>\n",
    "Your answer here:\n",
    "\n",
    "**In HW3 Q5, more than 15 redudant predictors were removed, and here only Mon was located by Lasso regression model.**\n",
    "<HR>"
   ]
  },
  {
   "cell_type": "markdown",
   "metadata": {},
   "source": [
    "#### 2.5 To get a visual sense of how the features different regression models (Multiple Linear Regression, Ridge Regression, Lasso Regression) estimate coefficients, order the features by magnitude of the estimated coefficients in the Multiple Linear Regression Model (no shrinkage)."
   ]
  },
  {
   "cell_type": "code",
   "execution_count": 23,
   "metadata": {},
   "outputs": [],
   "source": [
    "#Convert dictionary BikeOLSparams into dataframe, and add absolute value of coeficient column\n",
    "OLS_df=pd.DataFrame.from_dict(BikeOLSparams, orient='index')\n",
    "OLS_df_reindex=OLS_df.reset_index().rename(columns={'index':'predictors', 0: 'coef'})\n",
    "OLS_df_reindex['abs_coef']=np.abs(OLS_df_reindex['coef'])"
   ]
  },
  {
   "cell_type": "code",
   "execution_count": 24,
   "metadata": {},
   "outputs": [],
   "source": [
    "#Convert dictionary BikeRRarams into dataframe, and add absolute value of coeficient column\n",
    "RR_df=pd.DataFrame.from_dict(BikeRRparams, orient='index')\n",
    "RR_df_reindex=RR_df.reset_index().rename(columns={'index':'predictors', 0: 'coef'})\n",
    "RR_df_reindex['abs_coef']=np.abs(RR_df_reindex['coef'])"
   ]
  },
  {
   "cell_type": "code",
   "execution_count": 25,
   "metadata": {},
   "outputs": [],
   "source": [
    "#Convert dictionary BikeLRparams into dataframe, and add absolute value of coeficient column\n",
    "LR_df=pd.DataFrame.from_dict(BikeLRparams, orient='index')\n",
    "LR_df_reindex=LR_df.reset_index().rename(columns={'index':'predictors', 0: 'coef'})\n",
    "LR_df_reindex['abs_coef']=np.abs(LR_df_reindex['coef'])"
   ]
  },
  {
   "cell_type": "code",
   "execution_count": 26,
   "metadata": {},
   "outputs": [],
   "source": [
    "#Combine the RR_abs_coef and LR_abs_coef into OLS_df_reindex dataframe\n",
    "OLS_df_reindex['RR_coef']=RR_df_reindex['abs_coef']\n",
    "OLS_df_reindex['LR_coef']=LR_df_reindex['abs_coef']"
   ]
  },
  {
   "cell_type": "code",
   "execution_count": 27,
   "metadata": {},
   "outputs": [],
   "source": [
    "#Sort the dataframe by absolute value of the coeffiencts of OLS model\n",
    "frame_to_plot = OLS_df_reindex.sort_values(by=['abs_coef'], ascending=True)"
   ]
  },
  {
   "cell_type": "code",
   "execution_count": 28,
   "metadata": {},
   "outputs": [
    {
     "data": {
      "image/png": "[encoded data removed]",
      "text/plain": [
       "<Figure size 1080x864 with 1 Axes>"
      ]
     },
     "metadata": {},
     "output_type": "display_data"
    }
   ],
   "source": [
    "width = 0.2\n",
    "position = np.arange(len(frame_to_plot))\n",
    "\n",
    "\n",
    "fig, ax = plt.subplots(figsize=(15, 12))\n",
    "ax.barh(position, frame_to_plot.abs_coef, width, color='r', label='OLS_model')\n",
    "ax.barh(position + width, frame_to_plot.RR_coef, width, color='g', label='RR_model')\n",
    "ax.barh(position + 2*width, frame_to_plot.LR_coef, width, color='b', label='LR_model')\n",
    "ax.set(yticks=position + width, yticklabels=frame_to_plot.predictors, ylim=[2*width - 1, len(frame_to_plot)])\n",
    "ax.tick_params(labelsize=15)\n",
    "ax.set_xlabel('Abs_Coef Value', fontsize=18)\n",
    "ax.set_ylabel('Predictors', fontsize=18)\n",
    "ax.legend()\n",
    "\n",
    "plt.show()"
   ]
  },
  {
   "cell_type": "markdown",
   "metadata": {},
   "source": [
    "#### 2.6 Let's examine a pair of features we believe to be related.  Is there a difference in the way Ridge and Lasso regression assign coefficients ...v"
   ]
  },
  {
   "cell_type": "markdown",
   "metadata": {},
   "source": [
    "<HR>\n",
    "Your answer here:\n",
    "    \n",
    "**In Lasso regression model, temp has bigger coefficients and atemp has smaller coefficients; In Ridge model, the coefficients of temp and atemp are getting closer each other. The reason could be the Lasso model penalizes the predictor with colinearity harsher than Ridge model.**\n",
    "<HR>"
   ]
  },
  {
   "cell_type": "markdown",
   "metadata": {},
   "source": [
    "#### 2.7.1 How do the estimated coefficients compare to or differ from ..."
   ]
  },
  {
   "cell_type": "markdown",
   "metadata": {},
   "source": [
    "<HR>\n",
    "Your answer here：\n",
    "\n",
    "**Compare to the plain linear regression, the weights of some predictors have changed a lot. In Lasso regression model, the coefficients including May, Nov, Apr, Holiday, Jun, Jul, Aug and temp, became more predominant, and storm became less significant. In Ridge regression model, hum, temp, Sept, fall, atemp, Jul, Snow and Oct outstood from the coefficients, and storm was not important any more.**\n",
    "<HR>"
   ]
  },
  {
   "cell_type": "markdown",
   "metadata": {},
   "source": [
    "#### 2.7.2 Is there a difference between coefficients estimated by the two shrinkage methods ..."
   ]
  },
  {
   "cell_type": "markdown",
   "metadata": {},
   "source": [
    "<HR>\n",
    "Your answer here:\n",
    "    \n",
    "**Yes. In Ridge model, most of the coefficients are smaller than the ones from Lasso model. The reason is because the Lasso model is sparser, while Ridge model is relatively more consertive. **\n",
    "<HR>"
   ]
  },
  {
   "cell_type": "markdown",
   "metadata": {},
   "source": [
    "#### 2.7.3 Is the significance related to the shrinkage in some way?"
   ]
  },
  {
   "cell_type": "markdown",
   "metadata": {},
   "source": [
    "<HR>\n",
    "Your answer here:\n",
    "    \n",
    "**In Lasso model, the significance shrunk quite fast, and could bring to zero at the end. In Ridge model, the shrinkage of the significance is slow.**\n",
    "<HR>"
   ]
  },
  {
   "cell_type": "markdown",
   "metadata": {},
   "source": [
    "<div class='exercise'> <b> Question 3: Polynomial Features, Interaction Terms, and Cross Validation </b> </div>\n"
   ]
  },
  {
   "cell_type": "markdown",
   "metadata": {},
   "source": [
    "We would like to fit a model to include all main effects and polynomial terms for numerical predictors up to the $4^{th}$ order. More precisely use the following terms: \n",
    " - predictors in `X_train` and `X_test`\n",
    " - $X^1_j$, $X^2_j$, $X^3_j$, and $X^4_j$ for each numerical predictor $X_j$\n",
    "\n",
    "**3.1** Create an expanded training set including all the desired terms mentioned above. Store that training set (as a pandas dataframe) in the variable `X_train_poly`.  Create the corresponding test set and store it as a pandas dataframe in `X_test_poly`.\n",
    "\n",
    "**3.2** Discuss the following:\n",
    "\n",
    "1. What are the dimensions of this 'design matrix' of all the predictor variables in 3.1?  \n",
    "2. What issues may we run into attempting to fit a regression model using all of these predictors?\n",
    "\n",
    "**3.3** Let's try fitting a regression model on all the predictors anyway.  Use the `LinearRegression` library from `sklearn` to fit a multiple linear regression model to the training set data in `X_train_poly`.  Store the fitted model in the variable `BikeOLSPolyModel`.\n",
    "\n",
    "**3.4** Discuss the following:\n",
    "1. What are the training and test $R^2$ scores? \n",
    "2. How does the model performance compare with the OLS model on the original set of features in Question 1?\n",
    "\n",
    "**3.5** The training set $R^2$ score we generated for our model with polynomial and interaction terms doesn't have any error bars.  Let's use cross-validation to generate sample sets of $R^2$ for our model. Use 5-fold cross-validation to generate $R^2$ scores for the multiple linear regression model with polynomial terms.  What are the mean and standard deviation of the $R^2$ scores for your model.\n",
    "\n",
    "**3.6** Visualize the $R^2$ scores generated from the 5-fold cross validation as a box and whisker plot.\n",
    "\n",
    "**3.7** We've used cross-validation to generate error bars around our $R^2$ scores, but another use of cross-validation is as a way of model selection.  Let's construct the following model alternatives:\n",
    "\n",
    "1. Multiple linear regression model generated based upon the feature set in Question 1 (let's call these the base features.\n",
    "2. base features plus polynomial features to order 2\n",
    "3. base features plus polynomial features to order 4\n",
    "\n",
    "Use 5-fold cross validation on the training set to select the best model.  Make sure to evaluate all the models as much as possible on the same folds.  For each model generate a mean and standard deviation for the $R^2$ score.\n",
    "\n",
    "**3.8** Visualize the $R^2$ scores generated for each model from 5-fold cross validation in box and whiskers plots.  Do the box and whisker plots influence your view of which model was best?\n",
    "\n",
    "**3.9** Evaluate each of the model alternatives on the test set.  How do the results compare with the results from cross-validation?"
   ]
  },
  {
   "cell_type": "markdown",
   "metadata": {},
   "source": [
    "### Answers"
   ]
  },
  {
   "cell_type": "markdown",
   "metadata": {},
   "source": [
    "#### 3.1 Create an expanded training set including all the desired terms mentioned above. Store that training set (as a numpy array) in the variable `X_train_poly`...."
   ]
  },
  {
   "cell_type": "code",
   "execution_count": 29,
   "metadata": {},
   "outputs": [],
   "source": [
    "# your code here\n",
    "X_train3=x_train.copy()\n",
    "y_train3=y_train.copy()\n",
    "X_test3=x_test.copy()\n",
    "y_test3=y_test.copy()"
   ]
  },
  {
   "cell_type": "code",
   "execution_count": 30,
   "metadata": {},
   "outputs": [],
   "source": [
    "#Generate order 4 polynomial terms\n",
    "poly = PolynomialFeatures(4, include_bias=False)\n",
    "temp_poly=poly.fit_transform(X_train3.temp.values.reshape(-1,1))\n",
    "atemp_poly=poly.fit_transform(X_train3.atemp.values.reshape(-1,1))\n",
    "hum_poly=poly.fit_transform(X_train3.hum.values.reshape(-1,1))"
   ]
  },
  {
   "cell_type": "code",
   "execution_count": 31,
   "metadata": {},
   "outputs": [],
   "source": [
    "#Combine the new terms into a dataframe\n",
    "dataset_train = pd.DataFrame({'temp2':temp_poly[:,1],'temp3':temp_poly[:,2], 'temp4':temp_poly[:,3], 'atemp2': atemp_poly[:,1], 'atemp3':atemp_poly[:,2], 'atemp4':atemp_poly[:,3], 'hum2':hum_poly[:,1], 'hum3':hum_poly[:,2], 'hum4':hum_poly[:,3]})"
   ]
  },
  {
   "cell_type": "code",
   "execution_count": 32,
   "metadata": {
    "scrolled": true
   },
   "outputs": [
    {
     "data": {
      "text/html": [
       "<div>\n",
       "<style scoped>\n",
       "    .dataframe tbody tr th:only-of-type {\n",
       "        vertical-align: middle;\n",
       "    }\n",
       "\n",
       "    .dataframe tbody tr th {\n",
       "        vertical-align: top;\n",
       "    }\n",
       "\n",
       "    .dataframe thead th {\n",
       "        text-align: right;\n",
       "    }\n",
       "</style>\n",
       "<table border=\"1\" class=\"dataframe\">\n",
       "  <thead>\n",
       "    <tr style=\"text-align: right;\">\n",
       "      <th></th>\n",
       "      <th>temp2</th>\n",
       "      <th>temp3</th>\n",
       "      <th>temp4</th>\n",
       "      <th>atemp2</th>\n",
       "      <th>atemp3</th>\n",
       "      <th>atemp4</th>\n",
       "      <th>hum2</th>\n",
       "      <th>hum3</th>\n",
       "      <th>hum4</th>\n",
       "    </tr>\n",
       "  </thead>\n",
       "  <tbody>\n",
       "    <tr>\n",
       "      <th>0</th>\n",
       "      <td>1.775128</td>\n",
       "      <td>-2.365072</td>\n",
       "      <td>3.151078</td>\n",
       "      <td>1.189440</td>\n",
       "      <td>-1.297221</td>\n",
       "      <td>1.414769</td>\n",
       "      <td>0.878172</td>\n",
       "      <td>0.822942</td>\n",
       "      <td>0.771186</td>\n",
       "    </tr>\n",
       "    <tr>\n",
       "      <th>1</th>\n",
       "      <td>2.062474</td>\n",
       "      <td>-2.961983</td>\n",
       "      <td>4.253797</td>\n",
       "      <td>1.390077</td>\n",
       "      <td>-1.638921</td>\n",
       "      <td>1.932313</td>\n",
       "      <td>0.783791</td>\n",
       "      <td>0.693905</td>\n",
       "      <td>0.614328</td>\n",
       "    </tr>\n",
       "    <tr>\n",
       "      <th>2</th>\n",
       "      <td>2.062474</td>\n",
       "      <td>-2.961983</td>\n",
       "      <td>4.253797</td>\n",
       "      <td>1.390077</td>\n",
       "      <td>-1.638921</td>\n",
       "      <td>1.932313</td>\n",
       "      <td>0.783791</td>\n",
       "      <td>0.693905</td>\n",
       "      <td>0.614328</td>\n",
       "    </tr>\n",
       "    <tr>\n",
       "      <th>3</th>\n",
       "      <td>1.775128</td>\n",
       "      <td>-2.365072</td>\n",
       "      <td>3.151078</td>\n",
       "      <td>1.189440</td>\n",
       "      <td>-1.297221</td>\n",
       "      <td>1.414769</td>\n",
       "      <td>0.392348</td>\n",
       "      <td>0.245757</td>\n",
       "      <td>0.153937</td>\n",
       "    </tr>\n",
       "    <tr>\n",
       "      <th>4</th>\n",
       "      <td>1.775128</td>\n",
       "      <td>-2.365072</td>\n",
       "      <td>3.151078</td>\n",
       "      <td>1.189440</td>\n",
       "      <td>-1.297221</td>\n",
       "      <td>1.414769</td>\n",
       "      <td>0.392348</td>\n",
       "      <td>0.245757</td>\n",
       "      <td>0.153937</td>\n",
       "    </tr>\n",
       "  </tbody>\n",
       "</table>\n",
       "</div>"
      ],
      "text/plain": [
       "      temp2     temp3     temp4    atemp2    atemp3    atemp4      hum2  \\\n",
       "0  1.775128 -2.365072  3.151078  1.189440 -1.297221  1.414769  0.878172   \n",
       "1  2.062474 -2.961983  4.253797  1.390077 -1.638921  1.932313  0.783791   \n",
       "2  2.062474 -2.961983  4.253797  1.390077 -1.638921  1.932313  0.783791   \n",
       "3  1.775128 -2.365072  3.151078  1.189440 -1.297221  1.414769  0.392348   \n",
       "4  1.775128 -2.365072  3.151078  1.189440 -1.297221  1.414769  0.392348   \n",
       "\n",
       "       hum3      hum4  \n",
       "0  0.822942  0.771186  \n",
       "1  0.693905  0.614328  \n",
       "2  0.693905  0.614328  \n",
       "3  0.245757  0.153937  \n",
       "4  0.245757  0.153937  "
      ]
     },
     "execution_count": 32,
     "metadata": {},
     "output_type": "execute_result"
    }
   ],
   "source": [
    "dataset_train.head()"
   ]
  },
  {
   "cell_type": "code",
   "execution_count": 33,
   "metadata": {},
   "outputs": [],
   "source": [
    "#Standardize the new polynomial terms\n",
    "scaler = StandardScaler().fit(dataset_train[dataset_train.columns.values])\n",
    "dataset_train_std=scaler.transform(dataset_train[dataset_train.columns.values]) \n"
   ]
  },
  {
   "cell_type": "code",
   "execution_count": 34,
   "metadata": {},
   "outputs": [],
   "source": [
    "X_poly_train=X_train3"
   ]
  },
  {
   "cell_type": "code",
   "execution_count": 35,
   "metadata": {},
   "outputs": [],
   "source": [
    "#Combine the new terms into the original dataframe\n",
    "for i, col in enumerate(dataset_train):\n",
    "    X_poly_train[col]=dataset_train_std[:, i]"
   ]
  },
  {
   "cell_type": "code",
   "execution_count": 36,
   "metadata": {},
   "outputs": [],
   "source": [
    "#Generate order 4 polynomial terms for test data\n",
    "temp_tpoly=poly.fit_transform(X_test3.temp.values.reshape(-1,1))\n",
    "atemp_tpoly=poly.fit_transform(X_test3.atemp.values.reshape(-1,1))\n",
    "hum_tpoly=poly.fit_transform(X_test3.hum.values.reshape(-1,1))"
   ]
  },
  {
   "cell_type": "code",
   "execution_count": 37,
   "metadata": {},
   "outputs": [],
   "source": [
    "#Combine the new terms into a dataframe\n",
    "dataset_test=pd.DataFrame({'temp2':temp_tpoly[:,1],'temp3':temp_tpoly[:,2], 'temp4':temp_tpoly[:,3], 'atemp2': atemp_tpoly[:,1], 'atemp3':atemp_tpoly[:,2], 'atemp4':atemp_tpoly[:,3], 'hum2':hum_tpoly[:,1], 'hum3':hum_tpoly[:,2], 'hum4':hum_tpoly[:,3]})"
   ]
  },
  {
   "cell_type": "code",
   "execution_count": 38,
   "metadata": {},
   "outputs": [],
   "source": [
    "#Standardize the new polynomial terms\n",
    "dataset_test_std=scaler.transform(dataset_test[dataset_train.columns.values])"
   ]
  },
  {
   "cell_type": "code",
   "execution_count": 39,
   "metadata": {},
   "outputs": [],
   "source": [
    "X_poly_test=X_test3"
   ]
  },
  {
   "cell_type": "code",
   "execution_count": 40,
   "metadata": {},
   "outputs": [],
   "source": [
    "#Merge the new terms into the original dataframe\n",
    "for i, col in enumerate(dataset_train):\n",
    "    X_poly_test[col]=dataset_test_std[:, i]"
   ]
  },
  {
   "cell_type": "code",
   "execution_count": 41,
   "metadata": {},
   "outputs": [
    {
     "data": {
      "text/html": [
       "<div>\n",
       "<style scoped>\n",
       "    .dataframe tbody tr th:only-of-type {\n",
       "        vertical-align: middle;\n",
       "    }\n",
       "\n",
       "    .dataframe tbody tr th {\n",
       "        vertical-align: top;\n",
       "    }\n",
       "\n",
       "    .dataframe thead th {\n",
       "        text-align: right;\n",
       "    }\n",
       "</style>\n",
       "<table border=\"1\" class=\"dataframe\">\n",
       "  <thead>\n",
       "    <tr style=\"text-align: right;\">\n",
       "      <th></th>\n",
       "      <th>hour</th>\n",
       "      <th>holiday</th>\n",
       "      <th>year</th>\n",
       "      <th>workingday</th>\n",
       "      <th>windspeed</th>\n",
       "      <th>spring</th>\n",
       "      <th>summer</th>\n",
       "      <th>fall</th>\n",
       "      <th>Feb</th>\n",
       "      <th>Mar</th>\n",
       "      <th>...</th>\n",
       "      <th>hum</th>\n",
       "      <th>temp2</th>\n",
       "      <th>temp3</th>\n",
       "      <th>temp4</th>\n",
       "      <th>atemp2</th>\n",
       "      <th>atemp3</th>\n",
       "      <th>atemp4</th>\n",
       "      <th>hum2</th>\n",
       "      <th>hum3</th>\n",
       "      <th>hum4</th>\n",
       "    </tr>\n",
       "  </thead>\n",
       "  <tbody>\n",
       "    <tr>\n",
       "      <th>0</th>\n",
       "      <td>6</td>\n",
       "      <td>0</td>\n",
       "      <td>0</td>\n",
       "      <td>0</td>\n",
       "      <td>0.0000</td>\n",
       "      <td>0</td>\n",
       "      <td>0</td>\n",
       "      <td>0</td>\n",
       "      <td>0</td>\n",
       "      <td>0</td>\n",
       "      <td>...</td>\n",
       "      <td>0.885320</td>\n",
       "      <td>1.034363</td>\n",
       "      <td>-1.229342</td>\n",
       "      <td>0.550735</td>\n",
       "      <td>0.363342</td>\n",
       "      <td>-0.607571</td>\n",
       "      <td>-0.048217</td>\n",
       "      <td>-0.198713</td>\n",
       "      <td>0.301867</td>\n",
       "      <td>-0.280943</td>\n",
       "    </tr>\n",
       "    <tr>\n",
       "      <th>1</th>\n",
       "      <td>9</td>\n",
       "      <td>0</td>\n",
       "      <td>0</td>\n",
       "      <td>0</td>\n",
       "      <td>0.0000</td>\n",
       "      <td>0</td>\n",
       "      <td>0</td>\n",
       "      <td>0</td>\n",
       "      <td>0</td>\n",
       "      <td>0</td>\n",
       "      <td>...</td>\n",
       "      <td>0.678165</td>\n",
       "      <td>-0.154598</td>\n",
       "      <td>-0.320929</td>\n",
       "      <td>-0.337517</td>\n",
       "      <td>-0.423905</td>\n",
       "      <td>-0.124741</td>\n",
       "      <td>-0.406221</td>\n",
       "      <td>-0.496386</td>\n",
       "      <td>0.159758</td>\n",
       "      <td>-0.353046</td>\n",
       "    </tr>\n",
       "    <tr>\n",
       "      <th>2</th>\n",
       "      <td>20</td>\n",
       "      <td>0</td>\n",
       "      <td>0</td>\n",
       "      <td>0</td>\n",
       "      <td>0.2537</td>\n",
       "      <td>0</td>\n",
       "      <td>0</td>\n",
       "      <td>0</td>\n",
       "      <td>0</td>\n",
       "      <td>0</td>\n",
       "      <td>...</td>\n",
       "      <td>1.247840</td>\n",
       "      <td>-0.728206</td>\n",
       "      <td>-0.053431</td>\n",
       "      <td>-0.498855</td>\n",
       "      <td>-0.792867</td>\n",
       "      <td>0.009892</td>\n",
       "      <td>-0.466374</td>\n",
       "      <td>0.512022</td>\n",
       "      <td>0.766539</td>\n",
       "      <td>0.043090</td>\n",
       "    </tr>\n",
       "    <tr>\n",
       "      <th>3</th>\n",
       "      <td>10</td>\n",
       "      <td>0</td>\n",
       "      <td>0</td>\n",
       "      <td>0</td>\n",
       "      <td>0.2239</td>\n",
       "      <td>0</td>\n",
       "      <td>0</td>\n",
       "      <td>0</td>\n",
       "      <td>0</td>\n",
       "      <td>0</td>\n",
       "      <td>...</td>\n",
       "      <td>0.937108</td>\n",
       "      <td>-0.483353</td>\n",
       "      <td>-0.149138</td>\n",
       "      <td>-0.451260</td>\n",
       "      <td>-0.423905</td>\n",
       "      <td>-0.124741</td>\n",
       "      <td>-0.406221</td>\n",
       "      <td>-0.111969</td>\n",
       "      <td>0.349869</td>\n",
       "      <td>-0.252866</td>\n",
       "    </tr>\n",
       "    <tr>\n",
       "      <th>4</th>\n",
       "      <td>12</td>\n",
       "      <td>0</td>\n",
       "      <td>0</td>\n",
       "      <td>0</td>\n",
       "      <td>0.2985</td>\n",
       "      <td>0</td>\n",
       "      <td>0</td>\n",
       "      <td>0</td>\n",
       "      <td>0</td>\n",
       "      <td>0</td>\n",
       "      <td>...</td>\n",
       "      <td>0.160279</td>\n",
       "      <td>-0.483353</td>\n",
       "      <td>-0.149138</td>\n",
       "      <td>-0.451260</td>\n",
       "      <td>-0.295061</td>\n",
       "      <td>-0.188187</td>\n",
       "      <td>-0.369033</td>\n",
       "      <td>-0.895467</td>\n",
       "      <td>0.045265</td>\n",
       "      <td>-0.390789</td>\n",
       "    </tr>\n",
       "  </tbody>\n",
       "</table>\n",
       "<p>5 rows × 40 columns</p>\n",
       "</div>"
      ],
      "text/plain": [
       "   hour  holiday  year  workingday  windspeed  spring  summer  fall  Feb  Mar  \\\n",
       "0     6        0     0           0     0.0000       0       0     0    0    0   \n",
       "1     9        0     0           0     0.0000       0       0     0    0    0   \n",
       "2    20        0     0           0     0.2537       0       0     0    0    0   \n",
       "3    10        0     0           0     0.2239       0       0     0    0    0   \n",
       "4    12        0     0           0     0.2985       0       0     0    0    0   \n",
       "\n",
       "     ...          hum     temp2     temp3     temp4    atemp2    atemp3  \\\n",
       "0    ...     0.885320  1.034363 -1.229342  0.550735  0.363342 -0.607571   \n",
       "1    ...     0.678165 -0.154598 -0.320929 -0.337517 -0.423905 -0.124741   \n",
       "2    ...     1.247840 -0.728206 -0.053431 -0.498855 -0.792867  0.009892   \n",
       "3    ...     0.937108 -0.483353 -0.149138 -0.451260 -0.423905 -0.124741   \n",
       "4    ...     0.160279 -0.483353 -0.149138 -0.451260 -0.295061 -0.188187   \n",
       "\n",
       "     atemp4      hum2      hum3      hum4  \n",
       "0 -0.048217 -0.198713  0.301867 -0.280943  \n",
       "1 -0.406221 -0.496386  0.159758 -0.353046  \n",
       "2 -0.466374  0.512022  0.766539  0.043090  \n",
       "3 -0.406221 -0.111969  0.349869 -0.252866  \n",
       "4 -0.369033 -0.895467  0.045265 -0.390789  \n",
       "\n",
       "[5 rows x 40 columns]"
      ]
     },
     "execution_count": 41,
     "metadata": {},
     "output_type": "execute_result"
    }
   ],
   "source": [
    "X_poly_test.head()"
   ]
  },
  {
   "cell_type": "markdown",
   "metadata": {},
   "source": [
    "#### 3.2.1 What are the dimensions of this 'design matrix'...**"
   ]
  },
  {
   "cell_type": "code",
   "execution_count": 42,
   "metadata": {},
   "outputs": [
    {
     "data": {
      "text/plain": [
       "(13903, 40)"
      ]
     },
     "execution_count": 42,
     "metadata": {},
     "output_type": "execute_result"
    }
   ],
   "source": [
    "X_poly_train.shape"
   ]
  },
  {
   "cell_type": "code",
   "execution_count": 43,
   "metadata": {},
   "outputs": [
    {
     "data": {
      "text/plain": [
       "(3476, 40)"
      ]
     },
     "execution_count": 43,
     "metadata": {},
     "output_type": "execute_result"
    }
   ],
   "source": [
    "X_poly_test.shape"
   ]
  },
  {
   "cell_type": "markdown",
   "metadata": {},
   "source": [
    "<HR>\n",
    "Your answer here:\n",
    "\n",
    "**The dimnsions of the design matrix of training and test dataset are (13903, 40) and (3476, 40), respectively. **\n",
    "<HR>"
   ]
  },
  {
   "cell_type": "markdown",
   "metadata": {},
   "source": [
    "#### 3.2.2 What issues may we run into attempting to fit a regression model using all of these predictors? ...**"
   ]
  },
  {
   "cell_type": "markdown",
   "metadata": {},
   "source": [
    "<HR>\n",
    "Your answer here:\n",
    "\n",
    "**If all the predictors are used in the model, the model will be very likely overfitted.**\n",
    "<HR>"
   ]
  },
  {
   "cell_type": "markdown",
   "metadata": {},
   "source": [
    "#### 3.3 Let's try fitting a regression model on all the predictors anyway.  Use the `LinearRegression` library from `sklearn` to fit a multiple linear regression model ...."
   ]
  },
  {
   "cell_type": "code",
   "execution_count": 44,
   "metadata": {},
   "outputs": [],
   "source": [
    "# your code here\n",
    "BikeOLSPolyModel = LinearRegression().fit(X_poly_train, y_train3)"
   ]
  },
  {
   "cell_type": "markdown",
   "metadata": {},
   "source": [
    "#### 3.4.1 What are the training and test $R^2$ scores?"
   ]
  },
  {
   "cell_type": "code",
   "execution_count": 45,
   "metadata": {},
   "outputs": [],
   "source": [
    "y_train_predict=BikeOLSPolyModel.predict(X_poly_train)\n",
    "y_test_predict=BikeOLSPolyModel.predict(X_poly_test)"
   ]
  },
  {
   "cell_type": "code",
   "execution_count": 46,
   "metadata": {},
   "outputs": [
    {
     "data": {
      "text/plain": [
       "0.4204663013821942"
      ]
     },
     "execution_count": 46,
     "metadata": {},
     "output_type": "execute_result"
    }
   ],
   "source": [
    "# your code here\n",
    "r2_score(y_train3, y_train_predict)"
   ]
  },
  {
   "cell_type": "code",
   "execution_count": 47,
   "metadata": {},
   "outputs": [
    {
     "data": {
      "text/plain": [
       "0.4200149935899714"
      ]
     },
     "execution_count": 47,
     "metadata": {},
     "output_type": "execute_result"
    }
   ],
   "source": [
    "r2_score(y_test3, y_test_predict)"
   ]
  },
  {
   "cell_type": "markdown",
   "metadata": {},
   "source": [
    "<HR>\n",
    "Your answer here:\n",
    "\n",
    "**The R2 of training data is 0.42047, and the R2 of test data is 0.42001.**\n",
    "<HR>"
   ]
  },
  {
   "cell_type": "markdown",
   "metadata": {},
   "source": [
    "#### 3.4.2 How does the model performance compare with the OLS model on the original set of features in Question 1?"
   ]
  },
  {
   "cell_type": "markdown",
   "metadata": {},
   "source": [
    "<HR>\n",
    "Your answer here:\n",
    "\n",
    "**R2 scores for both training and test data here are higher than the ones from OLS model in Q1.** \n",
    "\n",
    "<HR>"
   ]
  },
  {
   "cell_type": "markdown",
   "metadata": {},
   "source": [
    "#### 3.5 The training set $R^2$ score we generated for our model with polynomial and interaction terms doesn't have any error bars.  Let's use cross-validation to generate sample..."
   ]
  },
  {
   "cell_type": "code",
   "execution_count": 49,
   "metadata": {},
   "outputs": [],
   "source": [
    "# your code here\n",
    "rsquared=[]\n",
    "for train, valid in KFold(5, shuffle=True).split(range(X_poly_train.shape[0])):\n",
    "    X_train1=X_poly_train.loc[train]\n",
    "    y_train1=y_train3[train]\n",
    "    model1=LinearRegression().fit(X_train1, y_train1)\n",
    "    y_train1_predict=model1.predict(X_train1)\n",
    "    rsquared.append(r2_score(y_train1, y_train1_predict))\n",
    "R2_mean=np.mean(rsquared)\n",
    "R2_sd=np.std(rsquared)"
   ]
  },
  {
   "cell_type": "code",
   "execution_count": 50,
   "metadata": {},
   "outputs": [
    {
     "data": {
      "text/plain": [
       "0.42083861598618066"
      ]
     },
     "execution_count": 50,
     "metadata": {},
     "output_type": "execute_result"
    }
   ],
   "source": [
    "R2_mean"
   ]
  },
  {
   "cell_type": "code",
   "execution_count": 51,
   "metadata": {},
   "outputs": [
    {
     "data": {
      "text/plain": [
       "0.0015674095372200953"
      ]
     },
     "execution_count": 51,
     "metadata": {},
     "output_type": "execute_result"
    }
   ],
   "source": [
    "R2_sd"
   ]
  },
  {
   "cell_type": "markdown",
   "metadata": {},
   "source": [
    "<HR>\n",
    "Your answer here:\n",
    "\n",
    "**The mean and standard deviation of the CV model are 0.42084 and 0.00157, respectively.**\n",
    "<HR>"
   ]
  },
  {
   "cell_type": "markdown",
   "metadata": {},
   "source": [
    "#### 3.6 Visualize the $R^2$ scores generated from the 5-fold cross validation as a box and whisker plot."
   ]
  },
  {
   "cell_type": "code",
   "execution_count": 52,
   "metadata": {},
   "outputs": [
    {
     "data": {
      "text/plain": [
       "Text(0.5,0,'R2 of CV model')"
      ]
     },
     "execution_count": 52,
     "metadata": {},
     "output_type": "execute_result"
    },
    {
     "data": {
      "image/png": "[encoded data removed]",
      "text/plain": [
       "<Figure size 432x288 with 1 Axes>"
      ]
     },
     "metadata": {},
     "output_type": "display_data"
    }
   ],
   "source": [
    "# your code here\n",
    "\n",
    "plt.boxplot(rsquared);\n",
    "plt.ylabel('R2 value', fontsize=16)\n",
    "plt.xlabel('R2 of CV model', fontsize=16)"
   ]
  },
  {
   "cell_type": "markdown",
   "metadata": {},
   "source": [
    "#### 3.7 We've used cross-validation to generate error bars around our $R^2$ scores, but another use of cross-validation is as a way of model selection.  Let's construct the following model alternatives ..."
   ]
  },
  {
   "cell_type": "code",
   "execution_count": 53,
   "metadata": {
    "scrolled": true
   },
   "outputs": [],
   "source": [
    "#Create dataframe with order 2 polynomial terms\n",
    "X_order2=X_poly_train.drop(['temp3', 'temp4', 'atemp3', 'atemp4', 'hum3', 'hum4'],axis=1)"
   ]
  },
  {
   "cell_type": "code",
   "execution_count": 54,
   "metadata": {
    "scrolled": false
   },
   "outputs": [
    {
     "data": {
      "text/html": [
       "<div>\n",
       "<style scoped>\n",
       "    .dataframe tbody tr th:only-of-type {\n",
       "        vertical-align: middle;\n",
       "    }\n",
       "\n",
       "    .dataframe tbody tr th {\n",
       "        vertical-align: top;\n",
       "    }\n",
       "\n",
       "    .dataframe thead th {\n",
       "        text-align: right;\n",
       "    }\n",
       "</style>\n",
       "<table border=\"1\" class=\"dataframe\">\n",
       "  <thead>\n",
       "    <tr style=\"text-align: right;\">\n",
       "      <th></th>\n",
       "      <th>hour</th>\n",
       "      <th>holiday</th>\n",
       "      <th>year</th>\n",
       "      <th>workingday</th>\n",
       "      <th>windspeed</th>\n",
       "      <th>spring</th>\n",
       "      <th>summer</th>\n",
       "      <th>fall</th>\n",
       "      <th>Feb</th>\n",
       "      <th>Mar</th>\n",
       "      <th>...</th>\n",
       "      <th>Sat</th>\n",
       "      <th>Cloudy</th>\n",
       "      <th>Snow</th>\n",
       "      <th>Storm</th>\n",
       "      <th>temp</th>\n",
       "      <th>atemp</th>\n",
       "      <th>hum</th>\n",
       "      <th>temp2</th>\n",
       "      <th>atemp2</th>\n",
       "      <th>hum2</th>\n",
       "    </tr>\n",
       "  </thead>\n",
       "  <tbody>\n",
       "    <tr>\n",
       "      <th>0</th>\n",
       "      <td>0</td>\n",
       "      <td>0</td>\n",
       "      <td>0</td>\n",
       "      <td>0</td>\n",
       "      <td>0.0</td>\n",
       "      <td>0</td>\n",
       "      <td>0</td>\n",
       "      <td>0</td>\n",
       "      <td>0</td>\n",
       "      <td>0</td>\n",
       "      <td>...</td>\n",
       "      <td>1</td>\n",
       "      <td>0</td>\n",
       "      <td>0</td>\n",
       "      <td>0</td>\n",
       "      <td>-1.332339</td>\n",
       "      <td>-1.090615</td>\n",
       "      <td>0.937108</td>\n",
       "      <td>0.754620</td>\n",
       "      <td>0.176457</td>\n",
       "      <td>-0.111969</td>\n",
       "    </tr>\n",
       "    <tr>\n",
       "      <th>1</th>\n",
       "      <td>1</td>\n",
       "      <td>0</td>\n",
       "      <td>0</td>\n",
       "      <td>0</td>\n",
       "      <td>0.0</td>\n",
       "      <td>0</td>\n",
       "      <td>0</td>\n",
       "      <td>0</td>\n",
       "      <td>0</td>\n",
       "      <td>0</td>\n",
       "      <td>...</td>\n",
       "      <td>1</td>\n",
       "      <td>0</td>\n",
       "      <td>0</td>\n",
       "      <td>0</td>\n",
       "      <td>-1.436131</td>\n",
       "      <td>-1.179015</td>\n",
       "      <td>0.885320</td>\n",
       "      <td>1.034363</td>\n",
       "      <td>0.363342</td>\n",
       "      <td>-0.198713</td>\n",
       "    </tr>\n",
       "    <tr>\n",
       "      <th>2</th>\n",
       "      <td>2</td>\n",
       "      <td>0</td>\n",
       "      <td>0</td>\n",
       "      <td>0</td>\n",
       "      <td>0.0</td>\n",
       "      <td>0</td>\n",
       "      <td>0</td>\n",
       "      <td>0</td>\n",
       "      <td>0</td>\n",
       "      <td>0</td>\n",
       "      <td>...</td>\n",
       "      <td>1</td>\n",
       "      <td>0</td>\n",
       "      <td>0</td>\n",
       "      <td>0</td>\n",
       "      <td>-1.436131</td>\n",
       "      <td>-1.179015</td>\n",
       "      <td>0.885320</td>\n",
       "      <td>1.034363</td>\n",
       "      <td>0.363342</td>\n",
       "      <td>-0.198713</td>\n",
       "    </tr>\n",
       "    <tr>\n",
       "      <th>3</th>\n",
       "      <td>3</td>\n",
       "      <td>0</td>\n",
       "      <td>0</td>\n",
       "      <td>0</td>\n",
       "      <td>0.0</td>\n",
       "      <td>0</td>\n",
       "      <td>0</td>\n",
       "      <td>0</td>\n",
       "      <td>0</td>\n",
       "      <td>0</td>\n",
       "      <td>...</td>\n",
       "      <td>1</td>\n",
       "      <td>0</td>\n",
       "      <td>0</td>\n",
       "      <td>0</td>\n",
       "      <td>-1.332339</td>\n",
       "      <td>-1.090615</td>\n",
       "      <td>0.626377</td>\n",
       "      <td>0.754620</td>\n",
       "      <td>0.176457</td>\n",
       "      <td>-0.558479</td>\n",
       "    </tr>\n",
       "    <tr>\n",
       "      <th>4</th>\n",
       "      <td>4</td>\n",
       "      <td>0</td>\n",
       "      <td>0</td>\n",
       "      <td>0</td>\n",
       "      <td>0.0</td>\n",
       "      <td>0</td>\n",
       "      <td>0</td>\n",
       "      <td>0</td>\n",
       "      <td>0</td>\n",
       "      <td>0</td>\n",
       "      <td>...</td>\n",
       "      <td>1</td>\n",
       "      <td>0</td>\n",
       "      <td>0</td>\n",
       "      <td>0</td>\n",
       "      <td>-1.332339</td>\n",
       "      <td>-1.090615</td>\n",
       "      <td>0.626377</td>\n",
       "      <td>0.754620</td>\n",
       "      <td>0.176457</td>\n",
       "      <td>-0.558479</td>\n",
       "    </tr>\n",
       "  </tbody>\n",
       "</table>\n",
       "<p>5 rows × 34 columns</p>\n",
       "</div>"
      ],
      "text/plain": [
       "   hour  holiday  year  workingday  windspeed  spring  summer  fall  Feb  Mar  \\\n",
       "0     0        0     0           0        0.0       0       0     0    0    0   \n",
       "1     1        0     0           0        0.0       0       0     0    0    0   \n",
       "2     2        0     0           0        0.0       0       0     0    0    0   \n",
       "3     3        0     0           0        0.0       0       0     0    0    0   \n",
       "4     4        0     0           0        0.0       0       0     0    0    0   \n",
       "\n",
       "     ...     Sat  Cloudy  Snow  Storm      temp     atemp       hum     temp2  \\\n",
       "0    ...       1       0     0      0 -1.332339 -1.090615  0.937108  0.754620   \n",
       "1    ...       1       0     0      0 -1.436131 -1.179015  0.885320  1.034363   \n",
       "2    ...       1       0     0      0 -1.436131 -1.179015  0.885320  1.034363   \n",
       "3    ...       1       0     0      0 -1.332339 -1.090615  0.626377  0.754620   \n",
       "4    ...       1       0     0      0 -1.332339 -1.090615  0.626377  0.754620   \n",
       "\n",
       "     atemp2      hum2  \n",
       "0  0.176457 -0.111969  \n",
       "1  0.363342 -0.198713  \n",
       "2  0.363342 -0.198713  \n",
       "3  0.176457 -0.558479  \n",
       "4  0.176457 -0.558479  \n",
       "\n",
       "[5 rows x 34 columns]"
      ]
     },
     "execution_count": 54,
     "metadata": {},
     "output_type": "execute_result"
    }
   ],
   "source": [
    "X_order2.head()"
   ]
  },
  {
   "cell_type": "code",
   "execution_count": 55,
   "metadata": {
    "scrolled": true
   },
   "outputs": [],
   "source": [
    "X_train_ori0=x_train.copy()"
   ]
  },
  {
   "cell_type": "code",
   "execution_count": 56,
   "metadata": {},
   "outputs": [
    {
     "data": {
      "text/html": [
       "<div>\n",
       "<style scoped>\n",
       "    .dataframe tbody tr th:only-of-type {\n",
       "        vertical-align: middle;\n",
       "    }\n",
       "\n",
       "    .dataframe tbody tr th {\n",
       "        vertical-align: top;\n",
       "    }\n",
       "\n",
       "    .dataframe thead th {\n",
       "        text-align: right;\n",
       "    }\n",
       "</style>\n",
       "<table border=\"1\" class=\"dataframe\">\n",
       "  <thead>\n",
       "    <tr style=\"text-align: right;\">\n",
       "      <th></th>\n",
       "      <th>hour</th>\n",
       "      <th>holiday</th>\n",
       "      <th>year</th>\n",
       "      <th>workingday</th>\n",
       "      <th>windspeed</th>\n",
       "      <th>spring</th>\n",
       "      <th>summer</th>\n",
       "      <th>fall</th>\n",
       "      <th>Feb</th>\n",
       "      <th>Mar</th>\n",
       "      <th>...</th>\n",
       "      <th>hum</th>\n",
       "      <th>temp2</th>\n",
       "      <th>temp3</th>\n",
       "      <th>temp4</th>\n",
       "      <th>atemp2</th>\n",
       "      <th>atemp3</th>\n",
       "      <th>atemp4</th>\n",
       "      <th>hum2</th>\n",
       "      <th>hum3</th>\n",
       "      <th>hum4</th>\n",
       "    </tr>\n",
       "  </thead>\n",
       "  <tbody>\n",
       "    <tr>\n",
       "      <th>0</th>\n",
       "      <td>0</td>\n",
       "      <td>0</td>\n",
       "      <td>0</td>\n",
       "      <td>0</td>\n",
       "      <td>0.0</td>\n",
       "      <td>0</td>\n",
       "      <td>0</td>\n",
       "      <td>0</td>\n",
       "      <td>0</td>\n",
       "      <td>0</td>\n",
       "      <td>...</td>\n",
       "      <td>0.937108</td>\n",
       "      <td>0.754620</td>\n",
       "      <td>-0.981795</td>\n",
       "      <td>0.274524</td>\n",
       "      <td>0.176457</td>\n",
       "      <td>-0.474164</td>\n",
       "      <td>-0.161513</td>\n",
       "      <td>-0.111969</td>\n",
       "      <td>0.349869</td>\n",
       "      <td>-0.252866</td>\n",
       "    </tr>\n",
       "    <tr>\n",
       "      <th>1</th>\n",
       "      <td>1</td>\n",
       "      <td>0</td>\n",
       "      <td>0</td>\n",
       "      <td>0</td>\n",
       "      <td>0.0</td>\n",
       "      <td>0</td>\n",
       "      <td>0</td>\n",
       "      <td>0</td>\n",
       "      <td>0</td>\n",
       "      <td>0</td>\n",
       "      <td>...</td>\n",
       "      <td>0.885320</td>\n",
       "      <td>1.034363</td>\n",
       "      <td>-1.229342</td>\n",
       "      <td>0.550735</td>\n",
       "      <td>0.363342</td>\n",
       "      <td>-0.607571</td>\n",
       "      <td>-0.048217</td>\n",
       "      <td>-0.198713</td>\n",
       "      <td>0.301867</td>\n",
       "      <td>-0.280943</td>\n",
       "    </tr>\n",
       "    <tr>\n",
       "      <th>2</th>\n",
       "      <td>2</td>\n",
       "      <td>0</td>\n",
       "      <td>0</td>\n",
       "      <td>0</td>\n",
       "      <td>0.0</td>\n",
       "      <td>0</td>\n",
       "      <td>0</td>\n",
       "      <td>0</td>\n",
       "      <td>0</td>\n",
       "      <td>0</td>\n",
       "      <td>...</td>\n",
       "      <td>0.885320</td>\n",
       "      <td>1.034363</td>\n",
       "      <td>-1.229342</td>\n",
       "      <td>0.550735</td>\n",
       "      <td>0.363342</td>\n",
       "      <td>-0.607571</td>\n",
       "      <td>-0.048217</td>\n",
       "      <td>-0.198713</td>\n",
       "      <td>0.301867</td>\n",
       "      <td>-0.280943</td>\n",
       "    </tr>\n",
       "    <tr>\n",
       "      <th>3</th>\n",
       "      <td>3</td>\n",
       "      <td>0</td>\n",
       "      <td>0</td>\n",
       "      <td>0</td>\n",
       "      <td>0.0</td>\n",
       "      <td>0</td>\n",
       "      <td>0</td>\n",
       "      <td>0</td>\n",
       "      <td>0</td>\n",
       "      <td>0</td>\n",
       "      <td>...</td>\n",
       "      <td>0.626377</td>\n",
       "      <td>0.754620</td>\n",
       "      <td>-0.981795</td>\n",
       "      <td>0.274524</td>\n",
       "      <td>0.176457</td>\n",
       "      <td>-0.474164</td>\n",
       "      <td>-0.161513</td>\n",
       "      <td>-0.558479</td>\n",
       "      <td>0.135155</td>\n",
       "      <td>-0.363353</td>\n",
       "    </tr>\n",
       "    <tr>\n",
       "      <th>4</th>\n",
       "      <td>4</td>\n",
       "      <td>0</td>\n",
       "      <td>0</td>\n",
       "      <td>0</td>\n",
       "      <td>0.0</td>\n",
       "      <td>0</td>\n",
       "      <td>0</td>\n",
       "      <td>0</td>\n",
       "      <td>0</td>\n",
       "      <td>0</td>\n",
       "      <td>...</td>\n",
       "      <td>0.626377</td>\n",
       "      <td>0.754620</td>\n",
       "      <td>-0.981795</td>\n",
       "      <td>0.274524</td>\n",
       "      <td>0.176457</td>\n",
       "      <td>-0.474164</td>\n",
       "      <td>-0.161513</td>\n",
       "      <td>-0.558479</td>\n",
       "      <td>0.135155</td>\n",
       "      <td>-0.363353</td>\n",
       "    </tr>\n",
       "  </tbody>\n",
       "</table>\n",
       "<p>5 rows × 40 columns</p>\n",
       "</div>"
      ],
      "text/plain": [
       "   hour  holiday  year  workingday  windspeed  spring  summer  fall  Feb  Mar  \\\n",
       "0     0        0     0           0        0.0       0       0     0    0    0   \n",
       "1     1        0     0           0        0.0       0       0     0    0    0   \n",
       "2     2        0     0           0        0.0       0       0     0    0    0   \n",
       "3     3        0     0           0        0.0       0       0     0    0    0   \n",
       "4     4        0     0           0        0.0       0       0     0    0    0   \n",
       "\n",
       "     ...          hum     temp2     temp3     temp4    atemp2    atemp3  \\\n",
       "0    ...     0.937108  0.754620 -0.981795  0.274524  0.176457 -0.474164   \n",
       "1    ...     0.885320  1.034363 -1.229342  0.550735  0.363342 -0.607571   \n",
       "2    ...     0.885320  1.034363 -1.229342  0.550735  0.363342 -0.607571   \n",
       "3    ...     0.626377  0.754620 -0.981795  0.274524  0.176457 -0.474164   \n",
       "4    ...     0.626377  0.754620 -0.981795  0.274524  0.176457 -0.474164   \n",
       "\n",
       "     atemp4      hum2      hum3      hum4  \n",
       "0 -0.161513 -0.111969  0.349869 -0.252866  \n",
       "1 -0.048217 -0.198713  0.301867 -0.280943  \n",
       "2 -0.048217 -0.198713  0.301867 -0.280943  \n",
       "3 -0.161513 -0.558479  0.135155 -0.363353  \n",
       "4 -0.161513 -0.558479  0.135155 -0.363353  \n",
       "\n",
       "[5 rows x 40 columns]"
      ]
     },
     "execution_count": 56,
     "metadata": {},
     "output_type": "execute_result"
    }
   ],
   "source": [
    "X_poly_train.head()"
   ]
  },
  {
   "cell_type": "code",
   "execution_count": 57,
   "metadata": {},
   "outputs": [],
   "source": [
    "# your code here\n",
    "#Original Model\n",
    "rsquared_ori=[]\n",
    "rsquared_o2=[]\n",
    "rsquared_o4=[]\n",
    "#Loop through the validation and training sets\n",
    "for train, valid in KFold(5, shuffle=True).split(range(X_poly_train.shape[0])):\n",
    "    #Calculate R2 scores of original model\n",
    "    X_train_ori=X_train_ori0.loc[train]\n",
    "    y_train_all=y_train3[train]\n",
    "    model_ori=LinearRegression().fit(X_train_ori, y_train_all)\n",
    "    y_ori_predict=model_ori.predict(X_train_ori)\n",
    "    rsquared_ori.append(r2_score(y_train_all, y_ori_predict))\n",
    "    #Calculate R2 scores of order 2 model\n",
    "    X_o2=X_order2.loc[train]    \n",
    "    model_o2=LinearRegression().fit(X_o2, y_train_all)\n",
    "    y_o2_predict=model_o2.predict(X_o2)\n",
    "    rsquared_o2.append(r2_score(y_train_all, y_o2_predict))\n",
    "    #Calculate R2 scores of order 4 model\n",
    "    X_o4=X_poly_train.loc[train]    \n",
    "    model_o4=LinearRegression().fit(X_o4, y_train_all)\n",
    "    y_o4_predict=model_o4.predict(X_o4)\n",
    "    rsquared_o4.append(r2_score(y_train_all, y_o4_predict))  "
   ]
  },
  {
   "cell_type": "code",
   "execution_count": 58,
   "metadata": {},
   "outputs": [
    {
     "data": {
      "text/plain": [
       "0.4067961778241429"
      ]
     },
     "execution_count": 58,
     "metadata": {},
     "output_type": "execute_result"
    }
   ],
   "source": [
    "#Mean of R2 scores of original model\n",
    "np.mean(rsquared_ori)"
   ]
  },
  {
   "cell_type": "code",
   "execution_count": 59,
   "metadata": {},
   "outputs": [
    {
     "data": {
      "text/plain": [
       "0.0037661330210520794"
      ]
     },
     "execution_count": 59,
     "metadata": {},
     "output_type": "execute_result"
    }
   ],
   "source": [
    "#Standard deviation of R2 scores of original model\n",
    "np.std(rsquared_ori)"
   ]
  },
  {
   "cell_type": "code",
   "execution_count": 60,
   "metadata": {},
   "outputs": [
    {
     "data": {
      "text/plain": [
       "0.4109564090486554"
      ]
     },
     "execution_count": 60,
     "metadata": {},
     "output_type": "execute_result"
    }
   ],
   "source": [
    "#Mean of R2 scores of order 2 model\n",
    "np.mean(rsquared_o2)"
   ]
  },
  {
   "cell_type": "code",
   "execution_count": 61,
   "metadata": {},
   "outputs": [
    {
     "data": {
      "text/plain": [
       "0.0036289479009718596"
      ]
     },
     "execution_count": 61,
     "metadata": {},
     "output_type": "execute_result"
    }
   ],
   "source": [
    "#Standard deviation of R2 scores of order 2 model\n",
    "np.std(rsquared_o2)"
   ]
  },
  {
   "cell_type": "code",
   "execution_count": 62,
   "metadata": {},
   "outputs": [
    {
     "data": {
      "text/plain": [
       "0.42081517717435146"
      ]
     },
     "execution_count": 62,
     "metadata": {},
     "output_type": "execute_result"
    }
   ],
   "source": [
    "#Mean of R2 scores of order 4 model\n",
    "np.mean(rsquared_o4)"
   ]
  },
  {
   "cell_type": "code",
   "execution_count": 63,
   "metadata": {},
   "outputs": [
    {
     "data": {
      "text/plain": [
       "0.003741948441464467"
      ]
     },
     "execution_count": 63,
     "metadata": {},
     "output_type": "execute_result"
    }
   ],
   "source": [
    "#Standard deviation of R2 scores of order 4 model\n",
    "np.std(rsquared_o4)"
   ]
  },
  {
   "cell_type": "markdown",
   "metadata": {},
   "source": [
    "<HR>\n",
    "Your answer here:\n",
    "    \n",
    "**Mean and standard deviation of the model with base features are 0.40680 and 0.00377, respectively;**\n",
    "**Mean and standard deviation of the model with features to order2 are 0.41096 and 0.00363, respectively;**\n",
    "**Mean and standard deviation of the model with features to order4 are 0.42082 and 0.00374, respectively;**\n",
    "\n",
    "<HR>"
   ]
  },
  {
   "cell_type": "markdown",
   "metadata": {},
   "source": [
    "#### 3.8 Visualize the $R^2$ scores generated for each model from 5-fold cross validation in box and whiskers plots.  Do the box and whisker plots influence your view of which model was best? ..."
   ]
  },
  {
   "cell_type": "code",
   "execution_count": 64,
   "metadata": {},
   "outputs": [],
   "source": [
    "# your code here\n",
    "R2_summary=pd.DataFrame(\n",
    "    {'R2_ori': rsquared_ori,\n",
    "     'R2_O2': rsquared_o2,\n",
    "     'R2_O4': rsquared_o4\n",
    "    })\n"
   ]
  },
  {
   "cell_type": "code",
   "execution_count": 65,
   "metadata": {},
   "outputs": [
    {
     "data": {
      "text/html": [
       "<div>\n",
       "<style scoped>\n",
       "    .dataframe tbody tr th:only-of-type {\n",
       "        vertical-align: middle;\n",
       "    }\n",
       "\n",
       "    .dataframe tbody tr th {\n",
       "        vertical-align: top;\n",
       "    }\n",
       "\n",
       "    .dataframe thead th {\n",
       "        text-align: right;\n",
       "    }\n",
       "</style>\n",
       "<table border=\"1\" class=\"dataframe\">\n",
       "  <thead>\n",
       "    <tr style=\"text-align: right;\">\n",
       "      <th></th>\n",
       "      <th>0</th>\n",
       "      <th>1</th>\n",
       "      <th>2</th>\n",
       "      <th>3</th>\n",
       "      <th>4</th>\n",
       "    </tr>\n",
       "  </thead>\n",
       "  <tbody>\n",
       "    <tr>\n",
       "      <th>R2_ori</th>\n",
       "      <td>0.409162</td>\n",
       "      <td>0.400619</td>\n",
       "      <td>0.409898</td>\n",
       "      <td>0.404211</td>\n",
       "      <td>0.410091</td>\n",
       "    </tr>\n",
       "    <tr>\n",
       "      <th>R2_O2</th>\n",
       "      <td>0.413516</td>\n",
       "      <td>0.404829</td>\n",
       "      <td>0.413606</td>\n",
       "      <td>0.408741</td>\n",
       "      <td>0.414090</td>\n",
       "    </tr>\n",
       "    <tr>\n",
       "      <th>R2_O4</th>\n",
       "      <td>0.422551</td>\n",
       "      <td>0.414429</td>\n",
       "      <td>0.423348</td>\n",
       "      <td>0.418911</td>\n",
       "      <td>0.424837</td>\n",
       "    </tr>\n",
       "  </tbody>\n",
       "</table>\n",
       "</div>"
      ],
      "text/plain": [
       "               0         1         2         3         4\n",
       "R2_ori  0.409162  0.400619  0.409898  0.404211  0.410091\n",
       "R2_O2   0.413516  0.404829  0.413606  0.408741  0.414090\n",
       "R2_O4   0.422551  0.414429  0.423348  0.418911  0.424837"
      ]
     },
     "execution_count": 65,
     "metadata": {},
     "output_type": "execute_result"
    }
   ],
   "source": [
    "R2_summary.T"
   ]
  },
  {
   "cell_type": "code",
   "execution_count": 66,
   "metadata": {},
   "outputs": [
    {
     "data": {
      "text/plain": [
       "Text(0,0.5,'R2 score')"
      ]
     },
     "execution_count": 66,
     "metadata": {},
     "output_type": "execute_result"
    },
    {
     "data": {
      "image/png": "[encoded data removed]",
      "text/plain": [
       "<Figure size 576x576 with 1 Axes>"
      ]
     },
     "metadata": {},
     "output_type": "display_data"
    }
   ],
   "source": [
    "fig, ax = plt.subplots(figsize=(8, 8))\n",
    "ax.boxplot(R2_summary.T);\n",
    "ax.set_xticklabels(['R2_ori', 'R2_O2', 'R2_O4'], fontsize=14);\n",
    "ax.set_xlabel('Orders of polynomial',fontsize=14)\n",
    "ax.set_ylabel('R2 score', fontsize=14)"
   ]
  },
  {
   "cell_type": "markdown",
   "metadata": {},
   "source": [
    "#### 3.9 Evaluate each of the model alternatives on the  test set.  How do the results compare with the results from cross-validation?"
   ]
  },
  {
   "cell_type": "code",
   "execution_count": 72,
   "metadata": {},
   "outputs": [],
   "source": [
    "# your code here\n",
    "#Generage test design matrices with features to order 2 and 4\n",
    "X_test_o4= X_poly_test.copy()\n",
    "X_test_ori=x_test.copy()\n",
    "X_test_o2=X_test_o4.drop(['temp3', 'temp4', 'atemp3', 'atemp4', 'hum3', 'hum4'],axis=1)"
   ]
  },
  {
   "cell_type": "code",
   "execution_count": 68,
   "metadata": {},
   "outputs": [],
   "source": [
    "y_test9=y_test.copy()"
   ]
  },
  {
   "cell_type": "code",
   "execution_count": 69,
   "metadata": {},
   "outputs": [],
   "source": [
    "#Design matrices of training data with features to order2 and 4\n",
    "X_train_ori9=x_train.copy()\n",
    "X_train_o2=X_order2.copy()\n",
    "X_train_o4=X_poly_train.copy()"
   ]
  },
  {
   "cell_type": "code",
   "execution_count": 70,
   "metadata": {},
   "outputs": [],
   "source": [
    "y_train9=y_train3.copy()"
   ]
  },
  {
   "cell_type": "code",
   "execution_count": 74,
   "metadata": {},
   "outputs": [
    {
     "data": {
      "text/plain": [
       "0.40638554757102274"
      ]
     },
     "execution_count": 74,
     "metadata": {},
     "output_type": "execute_result"
    }
   ],
   "source": [
    "#For multiple regression model\n",
    "model_ori9=LinearRegression().fit(X_train_ori9, y_train9)\n",
    "y_ori_predict9=model_ori9.predict(X_test_ori)\n",
    "r2_score(y_test9, y_ori_predict9)"
   ]
  },
  {
   "cell_type": "code",
   "execution_count": 75,
   "metadata": {},
   "outputs": [
    {
     "data": {
      "text/plain": [
       "0.41040722062021173"
      ]
     },
     "execution_count": 75,
     "metadata": {},
     "output_type": "execute_result"
    }
   ],
   "source": [
    "#For model with order2\n",
    "model_o2=LinearRegression().fit(X_train_o2, y_train9)\n",
    "y_o2_predict9=model_o2.predict(X_test_o2)\n",
    "r2_score(y_test9, y_o2_predict9)"
   ]
  },
  {
   "cell_type": "code",
   "execution_count": 76,
   "metadata": {},
   "outputs": [
    {
     "data": {
      "text/plain": [
       "0.4200149935899714"
      ]
     },
     "execution_count": 76,
     "metadata": {},
     "output_type": "execute_result"
    }
   ],
   "source": [
    "#For model with order4\n",
    "model_o4=LinearRegression().fit(X_train_o4, y_train9)\n",
    "y_o4_predict9=model_o4.predict(X_test_o4)\n",
    "r2_score(y_test9, y_o4_predict9)"
   ]
  },
  {
   "cell_type": "markdown",
   "metadata": {},
   "source": [
    "<HR>\n",
    "Your answer here:\n",
    "    \n",
    "**For the multiple regression model with base features, the R2 for test data is 0.40639; For the model with features to order 2, the R2 for test data is 0.41041; For the model with features to order 4, the R2 for test data is 0.42001.**\n",
    "<HR>"
   ]
  }
 ],
 "metadata": {
  "anaconda-cloud": {},
  "kernelspec": {
   "display_name": "Python 3",
   "language": "python",
   "name": "python3"
  },
  "language_info": {
   "codemirror_mode": {
    "name": "ipython",
    "version": 3
   },
   "file_extension": ".py",
   "mimetype": "text/x-python",
   "name": "python",
   "nbconvert_exporter": "python",
   "pygments_lexer": "ipython3",
   "version": "3.6.5"
  }
 },
 "nbformat": 4,
 "nbformat_minor": 2
}
